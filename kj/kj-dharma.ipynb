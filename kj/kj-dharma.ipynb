{
 "cells": [
  {
   "cell_type": "markdown",
   "metadata": {},
   "source": [
    "# Analysis the nepotistic level of Karan Johar's movies"
   ]
  },
  {
   "cell_type": "code",
   "execution_count": 190,
   "metadata": {},
   "outputs": [],
   "source": [
    "import wikipedia\n",
    "import pandas as pd\n",
    "import re\n",
    "import requests\n",
    "from bs4 import BeautifulSoup as bs\n",
    "import os\n",
    "from os import path\n",
    "import copy\n",
    "import matplotlib.pyplot as plt\n",
    "import numpy as np\n",
    "from adjustText import adjust_text\n",
    "from pandas import ExcelWriter\n",
    "import plotly.graph_objects as go\n",
    "import plotly.express as px\n",
    "\n",
    "categories_of_interest = ['Directed by', 'Produced by', 'Starring', 'Release date'] #scrapped from Wiki\n",
    "categories_accounted = ['Directors', 'Producers', 'Actors'] # Accounted in analysis\n",
    "\n",
    "color_teal = '#258193'\n",
    "color_plum = '#910838'\n",
    "color_navy = '#064273'"
   ]
  },
  {
   "cell_type": "markdown",
   "metadata": {},
   "source": [
    "### Get Dharma Production movies table from Wiki"
   ]
  },
  {
   "cell_type": "code",
   "execution_count": 71,
   "metadata": {},
   "outputs": [],
   "source": [
    "def get_wiki_table(topic_url, table_class):\n",
    "    html = requests.get(topic_url).text\n",
    "    soup = bs(html, 'html.parser')\n",
    "    tables = soup.find_all('table', {'class': table_class})\n",
    "    return tables\n",
    "\n",
    "# Get Wiki urls of Karan Johar's movies as Producer, Director, and Writer\n",
    "subject_url = 'https://en.wikipedia.org/wiki/List_of_Dharma_Productions_films'\n",
    "tables = get_wiki_table(subject_url, 'wikitable plainrowheaders sortable')\n",
    "movie_table = tables[0]"
   ]
  },
  {
   "cell_type": "markdown",
   "metadata": {},
   "source": [
    "### Get lead crew list (Directors, Producers, Actors)"
   ]
  },
  {
   "cell_type": "code",
   "execution_count": 72,
   "metadata": {},
   "outputs": [
    {
     "name": "stdout",
     "output_type": "stream",
     "text": [
      "-----------\n",
      "skip Dostana\n",
      "-----------\n",
      "skip Duniya\n",
      "-----------\n",
      "skip Muqaddar Ka Faisla\n",
      "-----------\n",
      "skip Agneepath\n",
      "-----------\n",
      "skip Gumrah\n",
      "-----------\n",
      "skip Duplicate\n",
      "-----------\n",
      "{'Name': 'Kuch Kuch Hota Hai', 'Wiki url': 'https://en.wikipedia.org/wiki/Kuch_Kuch_Hota_Hai', 'Year': '1998', 'Directors': ['Karan Johar'], 'Producers': ['Yash Johar'], 'Actors': ['Shah Rukh Khan', 'Kajol', 'Rani Mukerji', 'Salman Khan']}\n",
      "-----------\n",
      "{'Name': 'Kabhi Khushi Kabhie Gham...', 'Wiki url': 'https://en.wikipedia.org/wiki/Kabhi_Khushi_Kabhie_Gham...', 'Year': '2001', 'Directors': ['Karan Johar'], 'Producers': ['Yash Johar'], 'Actors': ['Amitabh Bachchan', 'Jaya Bachchan', 'Shah Rukh Khan', 'Kajol', 'Hrithik Roshan', 'Kareena Kapoor']}\n",
      "-----------\n",
      "{'Name': 'Kal Ho Naa Ho', 'Wiki url': 'https://en.wikipedia.org/wiki/Kal_Ho_Naa_Ho', 'Year': '2003', 'Directors': ['Nikhil Advani'], 'Producers': ['Yash Johar', 'Karan Johar'], 'Actors': ['Shah Rukh Khan', 'Preity Zinta', 'Saif Ali Khan', 'Jaya Bachchan']}\n",
      "-----------\n",
      "{'Name': 'Kaal', 'Wiki url': 'https://en.wikipedia.org/wiki/Kaal_(2005_film)', 'Year': '2005', 'Directors': ['Soham Shah'], 'Producers': ['Karan Johar', 'Shah Rukh Khan'], 'Actors': ['Ajay Devgn', 'John Abraham', 'Vivek Oberoi', 'Esha Deol', 'Lara Dutta']}\n",
      "-----------\n",
      "{'Name': 'Kabhi Alvida Naa Kehna', 'Wiki url': 'https://en.wikipedia.org/wiki/Kabhi_Alvida_Naa_Kehna', 'Year': '2006', 'Directors': ['Karan Johar'], 'Producers': ['Hiroo Johar'], 'Actors': ['Shah Rukh Khan', 'Rani Mukerji', 'Abhishek Bachchan', 'Preity Zinta', 'Amitabh Bachchan', 'Kirron Kher']}\n",
      "-----------\n",
      "{'Name': 'Dostana', 'Wiki url': 'https://en.wikipedia.org/wiki/Dostana_(2008_film)', 'Year': '2008', 'Directors': ['Tarun Mansukhani'], 'Producers': ['Karan Johar', 'Hiroo Johar'], 'Actors': ['Abhishek Bachchan', 'John Abraham', 'Priyanka Chopra', 'Bobby Deol']}\n",
      "-----------\n",
      "{'Name': 'Wake Up Sid', 'Wiki url': 'https://en.wikipedia.org/wiki/Wake_Up_Sid', 'Year': '2009', 'Directors': ['Ayan Mukerji'], 'Producers': ['Karan Johar', 'Hiroo Johar'], 'Actors': ['Ranbir Kapoor', 'Konkona Sen Sharma']}\n",
      "-----------\n",
      "{'Name': 'Kurbaan', 'Wiki url': 'https://en.wikipedia.org/wiki/Kurbaan_(2009_film)', 'Year': '2009', 'Directors': [\"Rensil D'Silva\"], 'Producers': ['Karan Johar', 'Hiroo Johar'], 'Actors': ['Saif Ali Khan', 'Kareena Kapoor', 'Vivek Oberoi']}\n",
      "-----------\n",
      "{'Name': 'My Name Is Khan', 'Wiki url': 'https://en.wikipedia.org/wiki/My_Name_Is_Khan', 'Year': '2010', 'Directors': ['Karan Johar'], 'Producers': ['Hiroo Johar', 'Gauri Khan'], 'Actors': ['Shah Rukh Khan', 'Kajol']}\n",
      "-----------\n",
      "{'Name': 'I Hate Luv Storys', 'Wiki url': 'https://en.wikipedia.org/wiki/I_Hate_Luv_Storys', 'Year': '2010', 'Directors': ['Punit Malhotra'], 'Producers': ['Karan Johar', 'Hiroo Johar', 'Ronnie Screwvala'], 'Actors': ['Imran Khan', 'Sonam Kapoor']}\n",
      "-----------\n",
      "{'Name': 'We Are Family', 'Wiki url': 'https://en.wikipedia.org/wiki/We_Are_Family_(2010_film)', 'Year': '2010', 'Directors': ['Siddharth Malhotra'], 'Producers': ['Karan Johar', 'Hiroo Johar'], 'Actors': ['Kajol', 'Kareena Kapoor', 'Arjun Rampal']}\n",
      "-----------\n",
      "{'Name': 'Agneepath', 'Wiki url': 'https://en.wikipedia.org/wiki/Agneepath_(2012_film)', 'Year': '2012', 'Directors': ['Karan Malhotra'], 'Producers': ['Karan Johar', 'Hiroo Johar'], 'Actors': ['Hrithik Roshan', 'Rishi Kapoor', 'Sanjay Dutt', 'Priyanka Chopra']}\n",
      "-----------\n",
      "{'Name': 'Ek Main Aur Ekk Tu', 'Wiki url': 'https://en.wikipedia.org/wiki/Ek_Main_Aur_Ekk_Tu', 'Year': '2012', 'Directors': ['Shakun Batra'], 'Producers': ['Karan Johar', 'Hiroo Johar', 'Ronnie Screwvala'], 'Actors': ['Imran Khan', 'Kareena Kapoor']}\n",
      "-----------\n",
      "{'Name': 'Student of the Year', 'Wiki url': 'https://en.wikipedia.org/wiki/Student_of_the_Year', 'Year': '2012', 'Directors': ['Karan Johar'], 'Producers': ['Hiroo Johar', 'Gauri Khan'], 'Actors': ['Sidharth Malhotra', 'Varun Dhawan', 'Alia Bhatt', 'Rishi Kapoor']}\n",
      "-----------\n",
      "{'Name': 'Gippi', 'Wiki url': 'https://en.wikipedia.org/wiki/Gippi', 'Year': '2013', 'Directors': ['Sonam Nair'], 'Producers': ['Karan Johar', 'Hiroo Johar'], 'Actors': ['Riya Vij', 'Divya Dutta', 'Taaha Shah']}\n",
      "-----------\n",
      "{'Name': 'Yeh Jawaani Hai Deewani', 'Wiki url': 'https://en.wikipedia.org/wiki/Yeh_Jawaani_Hai_Deewani', 'Year': '2013', 'Directors': ['Ayan Mukerji'], 'Producers': ['Karan Johar', 'Hiroo Johar'], 'Actors': ['Ranbir Kapoor', 'Deepika Padukone', 'Aditya Roy Kapur', 'Kalki Koechlin']}\n",
      "-----------\n",
      "{'Name': 'The Lunchbox', 'Wiki url': 'https://en.wikipedia.org/wiki/The_Lunchbox', 'Year': '2013', 'Directors': ['Ritesh Batra'], 'Producers': ['Guneet Monga', 'Anurag Kashyap', 'Arun Rangachari'], 'Actors': ['Irrfan Khan', 'Nimrat Kaur', 'Nawazuddin Siddiqui']}\n",
      "-----------\n",
      "{'Name': 'Gori Tere Pyaar Mein', 'Wiki url': 'https://en.wikipedia.org/wiki/Gori_Tere_Pyaar_Mein', 'Year': '2013', 'Directors': ['Punit Malhotra'], 'Producers': ['Karan Johar', 'Hiroo Johar'], 'Actors': ['Imran Khan', 'Kareena Kapoor']}\n",
      "-----------\n",
      "{'Name': 'Hasee Toh Phasee', 'Wiki url': 'https://en.wikipedia.org/wiki/Hasee_Toh_Phasee', 'Year': '2014', 'Directors': ['Vinil Mathew'], 'Producers': ['Karan Johar', 'Vikas Bahl', 'Vikramaditya Motwane', 'Anurag Kashyap'], 'Actors': ['Sidharth Malhotra', 'Parineeti Chopra', 'Adah Sharma']}\n",
      "-----------\n",
      "{'Name': '2 States', 'Wiki url': 'https://en.wikipedia.org/wiki/2_States_(2014_film)', 'Year': '2014', 'Directors': ['Abhishek Varman'], 'Producers': ['Karan Johar', 'Sajid Nadiadwala'], 'Actors': ['Arjun Kapoor', 'Alia Bhatt']}\n",
      "-----------\n",
      "{'Name': 'Humpty Sharma Ki Dulhania', 'Wiki url': 'https://en.wikipedia.org/wiki/Humpty_Sharma_Ki_Dulhania', 'Year': '2014', 'Directors': ['Shashank Khaitan'], 'Producers': ['Karan Johar', 'Hiroo Johar'], 'Actors': ['Varun Dhawan', 'Alia Bhatt', 'Sidharth Shukla']}\n",
      "-----------\n",
      "{'Name': 'Ungli', 'Wiki url': 'https://en.wikipedia.org/wiki/Ungli', 'Year': '2014', 'Directors': [\"Rensil D'Silva\"], 'Producers': ['Karan Johar', 'Hiroo Johar'], 'Actors': ['Emraan Hashmi', 'Sanjay Dutt', 'Randeep Hooda', 'Kangana Ranaut']}\n",
      "-----------\n",
      "{'Name': 'Brothers', 'Wiki url': 'https://en.wikipedia.org/wiki/Brothers_(2015_film)', 'Year': '2015', 'Directors': ['Karan Malhotra'], 'Producers': ['Karan Johar', 'Hiroo Johar'], 'Actors': ['Akshay Kumar', 'Sidharth Malhotra', 'Jackie Shroff', 'Jacqueline Fernandez']}\n",
      "-----------\n",
      "{'Name': 'Shaandaar', 'Wiki url': 'https://en.wikipedia.org/wiki/Shaandaar', 'Year': '2015', 'Directors': ['Vikas Bahl'], 'Producers': ['Karan Johar', 'Vikas Bahl', 'Vikramaditya Motwane', 'Anurag Kashyap'], 'Actors': ['Shahid Kapoor', 'Alia Bhatt', 'Pankaj Kapur']}\n",
      "-----------\n",
      "{'Name': 'Kapoor & Sons', 'Wiki url': 'https://en.wikipedia.org/wiki/Kapoor_%26_Sons', 'Year': '2016', 'Directors': ['Shakun Batra'], 'Producers': ['Karan Johar', 'Hiroo Johar', 'Apoorva Mehta'], 'Actors': ['Rishi Kapoor', 'Sidharth Malhotra', 'Fawad Khan', 'Alia Bhatt']}\n",
      "-----------\n",
      "{'Name': 'Baar Baar Dekho', 'Wiki url': 'https://en.wikipedia.org/wiki/Baar_Baar_Dekho', 'Year': '2016', 'Directors': ['Nitya Mehra'], 'Producers': ['Karan Johar', 'Farhan Akhtar', 'Ritesh Sidhwani'], 'Actors': ['Sidharth Malhotra', 'Katrina Kaif']}\n",
      "-----------\n",
      "{'Name': 'Ae Dil Hai Mushkil', 'Wiki url': 'https://en.wikipedia.org/wiki/Ae_Dil_Hai_Mushkil', 'Year': '2016', 'Directors': ['Karan Johar'], 'Producers': ['Karan Johar', 'Hiroo Johar'], 'Actors': ['Ranbir Kapoor', 'Aishwarya Rai', 'Anushka Sharma']}\n",
      "-----------\n",
      "{'Name': 'Dear Zindagi', 'Wiki url': 'https://en.wikipedia.org/wiki/Dear_Zindagi', 'Year': '2016', 'Directors': ['Gauri Shinde'], 'Producers': ['Karan Johar', 'Gauri Khan', 'Gauri Shinde'], 'Actors': ['Alia Bhatt', 'Shah Rukh Khan']}\n",
      "-----------\n",
      "{'Name': 'Ok Jaanu', 'Wiki url': 'https://en.wikipedia.org/wiki/Ok_Jaanu', 'Year': '2017', 'Directors': ['Shaad Ali'], 'Producers': ['Karan Johar', 'Mani Ratnam'], 'Actors': ['Aditya Roy Kapur', 'Shraddha Kapoor']}\n",
      "-----------\n",
      "{'Name': 'Badrinath Ki Dulhania', 'Wiki url': 'https://en.wikipedia.org/wiki/Badrinath_Ki_Dulhania', 'Year': '2017', 'Directors': ['Shashank Khaitan'], 'Producers': ['Karan Johar', 'Hiroo Johar', 'Apoorva Mehta'], 'Actors': ['Varun Dhawan', 'Alia Bhatt']}\n",
      "-----------\n",
      "{'Name': 'Ittefaq', 'Wiki url': 'https://en.wikipedia.org/wiki/Ittefaq_(2017_film)', 'Year': '2017', 'Directors': ['Abhay Chopra'], 'Producers': ['Karan Johar', 'Hiroo Johar', 'Gauri Khan', 'Renu Chopra'], 'Actors': ['Sidharth Malhotra', 'Akshaye Khanna', 'Sonakshi Sinha']}\n",
      "-----------\n",
      "{'Name': 'Raazi', 'Wiki url': 'https://en.wikipedia.org/wiki/Raazi', 'Year': '2018', 'Directors': ['Meghna Gulzar'], 'Producers': ['Karan Johar', 'Hiroo Johar', 'Vineet Jain', 'Apoorva Mehta'], 'Actors': ['Alia Bhatt', 'Vicky Kaushal']}\n",
      "-----------\n",
      "{'Name': 'Dhadak', 'Wiki url': 'https://en.wikipedia.org/wiki/Dhadak', 'Year': '2018', 'Directors': ['Shashank Khaitan'], 'Producers': ['Karan Johar', 'Hiroo Johar', 'Apoorva Mehta'], 'Actors': ['Ishaan Khatter', 'Janhvi Kapoor']}\n",
      "-----------\n",
      "{'Name': 'Simmba', 'Wiki url': 'https://en.wikipedia.org/wiki/Simmba', 'Year': '2018', 'Directors': ['Rohit Shetty'], 'Producers': ['Karan Johar', 'Hiroo Johar', 'Rohit Shetty', 'Apoorva Mehta'], 'Actors': ['Ranveer Singh', 'Sara Ali Khan', 'Sonu Sood']}\n",
      "-----------\n",
      "{'Name': 'Kesari', 'Wiki url': 'https://en.wikipedia.org/wiki/Kesari_(film)', 'Year': '2019', 'Directors': ['Anurag Singh'], 'Producers': ['Karan Johar', 'Akshay Kumar'], 'Actors': ['Akshay Kumar', 'Parineeti Chopra']}\n",
      "-----------\n",
      "{'Name': 'Kalank', 'Wiki url': 'https://en.wikipedia.org/wiki/Kalank', 'Year': '2019', 'Directors': ['Abhishek Varman'], 'Producers': ['Karan Johar', 'Sajid Nadiadwala'], 'Actors': ['Madhuri Dixit', 'Sonakshi Sinha', 'Alia Bhatt', 'Varun Dhawan', 'Aditya Roy Kapur', 'Sanjay Dutt']}\n",
      "-----------\n",
      "{'Name': 'Student of the Year 2', 'Wiki url': 'https://en.wikipedia.org/wiki/Student_of_the_Year_2', 'Year': '2019', 'Directors': ['Punit Malhotra'], 'Producers': ['Karan Johar', 'Hiroo Johar', 'Apoorva Mehta'], 'Actors': ['Tiger Shroff', 'Tara Sutaria', 'Ananya Panday']}\n",
      "-----------\n",
      "{'Name': 'Drive', 'Wiki url': 'https://en.wikipedia.org/wiki/Drive_(2019_film)', 'Year': '2019', 'Directors': ['Tarun Mansukhani'], 'Producers': ['Karan Johar', 'Hiroo Johar'], 'Actors': ['Sushant Singh Rajput', 'Jacqueline Fernandez']}\n",
      "-----------\n",
      "{'Name': 'Good Newwz', 'Wiki url': 'https://en.wikipedia.org/wiki/Good_Newwz', 'Year': '2019', 'Directors': ['Raj Mehta'], 'Producers': ['Karan Johar', 'Aruna Bhatia', 'Hiroo Yash Johar', 'Apoorva Mehta', 'Shashank Khaitan'], 'Actors': ['Akshay Kumar', 'Kareena Kapoor', 'Diljit Dosanjh', 'Kiara Advani']}\n",
      "-----------\n",
      "{'Name': 'Bhoot – Part One: The Haunted Ship', 'Wiki url': 'https://en.wikipedia.org/wiki/Bhoot_%E2%80%93_Part_One:_The_Haunted_Ship', 'Year': '2020', 'Directors': ['Bhanu Pratap Singh'], 'Producers': ['Karan Johar', 'Hiroo Johar', 'Apoorva Mehta', 'Shashank Khaitan'], 'Actors': ['Vicky Kaushal', 'Bhumi Pednekar']}\n",
      "-----------\n",
      "{'Name': 'Gunjan Saxena', 'Wiki url': 'https://en.wikipedia.org/wiki/Gunjan_Saxena', 'Year': '2020', 'Directors': ['Sharan Sharma'], 'Producers': ['Karan Johar', 'Hiroo Johar', 'Apoorva Mehta', 'Zee Studios'], 'Actors': ['Janhvi Kapoor', 'Pankaj Tripathi', 'Angad Bedi']}\n",
      "-----------\n",
      "{'Name': 'Shershaah', 'Wiki url': 'https://en.wikipedia.org/wiki/Shershaah', 'Year': '2020', 'Directors': ['Vishnuvardhan'], 'Producers': ['Karan Johar', 'Hiroo Johar', 'Apoorva Mehta', 'Shabbir Boxwala', 'Ajay Shah', 'Himanshu Gandhi'], 'Actors': ['Sidharth Malhotra', 'Kiara Advani']}\n",
      "-----------\n",
      "{'Name': 'Brahmastra', 'Wiki url': 'https://en.wikipedia.org/wiki/Brahmastra_(film)', 'Year': '2020', 'Directors': ['Ayan Mukerji'], 'Producers': ['Karan Johar', 'Hiroo Johar', 'Apoorva Mehta'], 'Actors': ['Ranbir Kapoor', 'Alia Bhatt', 'Amitabh Bachchan', 'Mouni Roy']}\n",
      "-----------\n",
      "{'Name': 'Sooryavanshi', 'Wiki url': 'https://en.wikipedia.org/wiki/Sooryavanshi', 'Year': '2020', 'Directors': ['Rohit Shetty'], 'Producers': ['Karan Johar', 'Rohit Shetty', 'Akshay Kumar'], 'Actors': ['Akshay Kumar', 'Katrina Kaif']}\n",
      "-----------\n",
      "{'Name': 'Dostana 2', 'Wiki url': 'https://en.wikipedia.org/wiki/Dostana_2', 'Year': '2020', 'Directors': [\"Colin D'Cunha\"], 'Producers': ['Karan Johar', 'Hiroo Johar', 'Apoorva Mehta'], 'Actors': ['Kartik Aaryan', 'Janhvi Kapoor', 'Lakshya']}\n"
     ]
    }
   ],
   "source": [
    "def get_movie_info_from_table(table):\n",
    "    dict_movie_info = {}\n",
    "    for tr in table.find_all('tr'):\n",
    "        movie_info = {}\n",
    "        tds = tr.find_all('td')\n",
    "        if len(tds)>0:\n",
    "            # Get movie namee\"\n",
    "            th  = tr.find('th')\n",
    "            a = th.find('a')\n",
    "            if a:\n",
    "                print('-----------')\n",
    "                movie_info['Name'] = a.text\n",
    "                movie_info['Wiki url'] = 'https://en.wikipedia.org' + a['href']\n",
    "                movie_info['Year'] = tds[0].text.replace('\\n','')\n",
    "                movie_info['Directors'] = [tds[1].text.replace('\\n','')]\n",
    "                                                                        \n",
    "                producers = tds[2].getText(separator='<br>')\n",
    "                producers = producers.replace(',', '')\n",
    "                producers = producers.replace('<br><br>', '<br>')\n",
    "                producers = producers.replace('<br>', ',')\n",
    "                producers = producers.replace('\\n', '')\n",
    "                producers = producers.split(',')\n",
    "                producers = [x.strip() for x in producers if x.strip()]\n",
    "                movie_info['Producers'] = producers\n",
    "                \n",
    "                \n",
    "                actors = []\n",
    "                for atag in tds[3].find_all('a'):\n",
    "                    actors.append(atag.text)                   \n",
    "                actors = [x.strip() for x in actors if x.strip()]\n",
    "                movie_info['Actors'] = actors\n",
    "                movie_year = int(movie_info['Year'])\n",
    "                if movie_year<=1998 and movie_info['Name'] !='Kuch Kuch Hota Hai':\n",
    "                    print('skip', movie_info['Name'])\n",
    "                else:\n",
    "                    dict_movie_info[movie_info['Name']] = movie_info\n",
    "                    print(dict_movie_info[movie_info['Name']])\n",
    "    return dict_movie_info\n",
    "\n",
    "dict_movie_info = get_movie_info_from_table(movie_table)"
   ]
  },
  {
   "cell_type": "markdown",
   "metadata": {},
   "source": [
    "### Clean up movie info to remove undesired data points"
   ]
  },
  {
   "cell_type": "code",
   "execution_count": 73,
   "metadata": {},
   "outputs": [
    {
     "name": "stdout",
     "output_type": "stream",
     "text": [
      "{'Kuch Kuch Hota Hai': {'Name': 'Kuch Kuch Hota Hai', 'Wiki url': 'https://en.wikipedia.org/wiki/Kuch_Kuch_Hota_Hai', 'Year': '1998', 'Directors': ['Karan Johar'], 'Producers': ['Yash Johar'], 'Actors': ['Shah Rukh Khan', 'Kajol', 'Rani Mukerji', 'Salman Khan']}, 'Kabhi Khushi Kabhie Gham...': {'Name': 'Kabhi Khushi Kabhie Gham...', 'Wiki url': 'https://en.wikipedia.org/wiki/Kabhi_Khushi_Kabhie_Gham...', 'Year': '2001', 'Directors': ['Karan Johar'], 'Producers': ['Yash Johar'], 'Actors': ['Amitabh Bachchan', 'Jaya Bachchan', 'Shah Rukh Khan', 'Kajol', 'Hrithik Roshan', 'Kareena Kapoor']}, 'Kal Ho Naa Ho': {'Name': 'Kal Ho Naa Ho', 'Wiki url': 'https://en.wikipedia.org/wiki/Kal_Ho_Naa_Ho', 'Year': '2003', 'Directors': ['Nikhil Advani'], 'Producers': ['Yash Johar', 'Karan Johar'], 'Actors': ['Shah Rukh Khan', 'Preity Zinta', 'Saif Ali Khan', 'Jaya Bachchan']}, 'Kaal': {'Name': 'Kaal', 'Wiki url': 'https://en.wikipedia.org/wiki/Kaal_(2005_film)', 'Year': '2005', 'Directors': ['Soham Shah'], 'Producers': ['Karan Johar', 'Shah Rukh Khan'], 'Actors': ['Ajay Devgn', 'John Abraham', 'Vivek Oberoi', 'Esha Deol', 'Lara Dutta']}, 'Kabhi Alvida Naa Kehna': {'Name': 'Kabhi Alvida Naa Kehna', 'Wiki url': 'https://en.wikipedia.org/wiki/Kabhi_Alvida_Naa_Kehna', 'Year': '2006', 'Directors': ['Karan Johar'], 'Producers': ['Hiroo Johar'], 'Actors': ['Shah Rukh Khan', 'Rani Mukerji', 'Abhishek Bachchan', 'Preity Zinta', 'Amitabh Bachchan', 'Kirron Kher']}, 'Dostana': {'Name': 'Dostana', 'Wiki url': 'https://en.wikipedia.org/wiki/Dostana_(2008_film)', 'Year': '2008', 'Directors': ['Tarun Mansukhani'], 'Producers': ['Karan Johar', 'Hiroo Johar'], 'Actors': ['Abhishek Bachchan', 'John Abraham', 'Priyanka Chopra', 'Bobby Deol']}, 'Wake Up Sid': {'Name': 'Wake Up Sid', 'Wiki url': 'https://en.wikipedia.org/wiki/Wake_Up_Sid', 'Year': '2009', 'Directors': ['Ayan Mukerji'], 'Producers': ['Karan Johar', 'Hiroo Johar'], 'Actors': ['Ranbir Kapoor', 'Konkona Sen Sharma']}, 'Kurbaan': {'Name': 'Kurbaan', 'Wiki url': 'https://en.wikipedia.org/wiki/Kurbaan_(2009_film)', 'Year': '2009', 'Directors': [\"Rensil D'Silva\"], 'Producers': ['Karan Johar', 'Hiroo Johar'], 'Actors': ['Saif Ali Khan', 'Kareena Kapoor', 'Vivek Oberoi']}, 'My Name Is Khan': {'Name': 'My Name Is Khan', 'Wiki url': 'https://en.wikipedia.org/wiki/My_Name_Is_Khan', 'Year': '2010', 'Directors': ['Karan Johar'], 'Producers': ['Hiroo Johar', 'Gauri Khan'], 'Actors': ['Shah Rukh Khan', 'Kajol']}, 'I Hate Luv Storys': {'Name': 'I Hate Luv Storys', 'Wiki url': 'https://en.wikipedia.org/wiki/I_Hate_Luv_Storys', 'Year': '2010', 'Directors': ['Punit Malhotra'], 'Producers': ['Karan Johar', 'Hiroo Johar', 'Ronnie Screwvala'], 'Actors': ['Imran Khan', 'Sonam Kapoor']}, 'We Are Family': {'Name': 'We Are Family', 'Wiki url': 'https://en.wikipedia.org/wiki/We_Are_Family_(2010_film)', 'Year': '2010', 'Directors': ['Siddharth Malhotra'], 'Producers': ['Karan Johar', 'Hiroo Johar'], 'Actors': ['Kajol', 'Kareena Kapoor', 'Arjun Rampal']}, 'Agneepath': {'Name': 'Agneepath', 'Wiki url': 'https://en.wikipedia.org/wiki/Agneepath_(2012_film)', 'Year': '2012', 'Directors': ['Karan Malhotra'], 'Producers': ['Karan Johar', 'Hiroo Johar'], 'Actors': ['Hrithik Roshan', 'Rishi Kapoor', 'Sanjay Dutt', 'Priyanka Chopra']}, 'Ek Main Aur Ekk Tu': {'Name': 'Ek Main Aur Ekk Tu', 'Wiki url': 'https://en.wikipedia.org/wiki/Ek_Main_Aur_Ekk_Tu', 'Year': '2012', 'Directors': ['Shakun Batra'], 'Producers': ['Karan Johar', 'Hiroo Johar', 'Ronnie Screwvala'], 'Actors': ['Imran Khan', 'Kareena Kapoor']}, 'Student of the Year': {'Name': 'Student of the Year', 'Wiki url': 'https://en.wikipedia.org/wiki/Student_of_the_Year', 'Year': '2012', 'Directors': ['Karan Johar'], 'Producers': ['Hiroo Johar', 'Gauri Khan'], 'Actors': ['Sidharth Malhotra', 'Varun Dhawan', 'Alia Bhatt', 'Rishi Kapoor']}, 'Gippi': {'Name': 'Gippi', 'Wiki url': 'https://en.wikipedia.org/wiki/Gippi', 'Year': '2013', 'Directors': ['Sonam Nair'], 'Producers': ['Karan Johar', 'Hiroo Johar'], 'Actors': ['Riya Vij', 'Divya Dutta', 'Taaha Shah']}, 'Yeh Jawaani Hai Deewani': {'Name': 'Yeh Jawaani Hai Deewani', 'Wiki url': 'https://en.wikipedia.org/wiki/Yeh_Jawaani_Hai_Deewani', 'Year': '2013', 'Directors': ['Ayan Mukerji'], 'Producers': ['Karan Johar', 'Hiroo Johar'], 'Actors': ['Ranbir Kapoor', 'Deepika Padukone', 'Aditya Roy Kapur', 'Kalki Koechlin']}, 'The Lunchbox': {'Name': 'The Lunchbox', 'Wiki url': 'https://en.wikipedia.org/wiki/The_Lunchbox', 'Year': '2013', 'Directors': ['Ritesh Batra'], 'Producers': ['Guneet Monga', 'Anurag Kashyap', 'Arun Rangachari'], 'Actors': ['Irrfan Khan', 'Nimrat Kaur', 'Nawazuddin Siddiqui']}, 'Gori Tere Pyaar Mein': {'Name': 'Gori Tere Pyaar Mein', 'Wiki url': 'https://en.wikipedia.org/wiki/Gori_Tere_Pyaar_Mein', 'Year': '2013', 'Directors': ['Punit Malhotra'], 'Producers': ['Karan Johar', 'Hiroo Johar'], 'Actors': ['Imran Khan', 'Kareena Kapoor']}, 'Hasee Toh Phasee': {'Name': 'Hasee Toh Phasee', 'Wiki url': 'https://en.wikipedia.org/wiki/Hasee_Toh_Phasee', 'Year': '2014', 'Directors': ['Vinil Mathew'], 'Producers': ['Karan Johar', 'Vikas Bahl', 'Vikramaditya Motwane', 'Anurag Kashyap'], 'Actors': ['Sidharth Malhotra', 'Parineeti Chopra', 'Adah Sharma']}, '2 States': {'Name': '2 States', 'Wiki url': 'https://en.wikipedia.org/wiki/2_States_(2014_film)', 'Year': '2014', 'Directors': ['Abhishek Varman'], 'Producers': ['Karan Johar', 'Sajid Nadiadwala'], 'Actors': ['Arjun Kapoor', 'Alia Bhatt']}, 'Humpty Sharma Ki Dulhania': {'Name': 'Humpty Sharma Ki Dulhania', 'Wiki url': 'https://en.wikipedia.org/wiki/Humpty_Sharma_Ki_Dulhania', 'Year': '2014', 'Directors': ['Shashank Khaitan'], 'Producers': ['Karan Johar', 'Hiroo Johar'], 'Actors': ['Varun Dhawan', 'Alia Bhatt', 'Sidharth Shukla']}, 'Ungli': {'Name': 'Ungli', 'Wiki url': 'https://en.wikipedia.org/wiki/Ungli', 'Year': '2014', 'Directors': [\"Rensil D'Silva\"], 'Producers': ['Karan Johar', 'Hiroo Johar'], 'Actors': ['Emraan Hashmi', 'Sanjay Dutt', 'Randeep Hooda', 'Kangana Ranaut']}, 'Brothers': {'Name': 'Brothers', 'Wiki url': 'https://en.wikipedia.org/wiki/Brothers_(2015_film)', 'Year': '2015', 'Directors': ['Karan Malhotra'], 'Producers': ['Karan Johar', 'Hiroo Johar'], 'Actors': ['Akshay Kumar', 'Sidharth Malhotra', 'Jackie Shroff', 'Jacqueline Fernandez']}, 'Shaandaar': {'Name': 'Shaandaar', 'Wiki url': 'https://en.wikipedia.org/wiki/Shaandaar', 'Year': '2015', 'Directors': ['Vikas Bahl'], 'Producers': ['Karan Johar', 'Vikas Bahl', 'Vikramaditya Motwane', 'Anurag Kashyap'], 'Actors': ['Shahid Kapoor', 'Alia Bhatt', 'Pankaj Kapur']}, 'Kapoor & Sons': {'Name': 'Kapoor & Sons', 'Wiki url': 'https://en.wikipedia.org/wiki/Kapoor_%26_Sons', 'Year': '2016', 'Directors': ['Shakun Batra'], 'Producers': ['Karan Johar', 'Hiroo Johar', 'Apoorva Mehta'], 'Actors': ['Rishi Kapoor', 'Sidharth Malhotra', 'Fawad Khan', 'Alia Bhatt']}, 'Baar Baar Dekho': {'Name': 'Baar Baar Dekho', 'Wiki url': 'https://en.wikipedia.org/wiki/Baar_Baar_Dekho', 'Year': '2016', 'Directors': ['Nitya Mehra'], 'Producers': ['Karan Johar', 'Farhan Akhtar', 'Ritesh Sidhwani'], 'Actors': ['Sidharth Malhotra', 'Katrina Kaif']}, 'Ae Dil Hai Mushkil': {'Name': 'Ae Dil Hai Mushkil', 'Wiki url': 'https://en.wikipedia.org/wiki/Ae_Dil_Hai_Mushkil', 'Year': '2016', 'Directors': ['Karan Johar'], 'Producers': ['Karan Johar', 'Hiroo Johar'], 'Actors': ['Ranbir Kapoor', 'Aishwarya Rai', 'Anushka Sharma']}, 'Dear Zindagi': {'Name': 'Dear Zindagi', 'Wiki url': 'https://en.wikipedia.org/wiki/Dear_Zindagi', 'Year': '2016', 'Directors': ['Gauri Shinde'], 'Producers': ['Karan Johar', 'Gauri Khan', 'Gauri Shinde'], 'Actors': ['Alia Bhatt', 'Shah Rukh Khan']}, 'Ok Jaanu': {'Name': 'Ok Jaanu', 'Wiki url': 'https://en.wikipedia.org/wiki/Ok_Jaanu', 'Year': '2017', 'Directors': ['Shaad Ali'], 'Producers': ['Karan Johar', 'Mani Ratnam'], 'Actors': ['Aditya Roy Kapur', 'Shraddha Kapoor']}, 'Badrinath Ki Dulhania': {'Name': 'Badrinath Ki Dulhania', 'Wiki url': 'https://en.wikipedia.org/wiki/Badrinath_Ki_Dulhania', 'Year': '2017', 'Directors': ['Shashank Khaitan'], 'Producers': ['Karan Johar', 'Hiroo Johar', 'Apoorva Mehta'], 'Actors': ['Varun Dhawan', 'Alia Bhatt']}, 'Ittefaq': {'Name': 'Ittefaq', 'Wiki url': 'https://en.wikipedia.org/wiki/Ittefaq_(2017_film)', 'Year': '2017', 'Directors': ['Abhay Chopra'], 'Producers': ['Karan Johar', 'Hiroo Johar', 'Gauri Khan', 'Renu Chopra'], 'Actors': ['Sidharth Malhotra', 'Akshaye Khanna', 'Sonakshi Sinha']}, 'Raazi': {'Name': 'Raazi', 'Wiki url': 'https://en.wikipedia.org/wiki/Raazi', 'Year': '2018', 'Directors': ['Meghna Gulzar'], 'Producers': ['Karan Johar', 'Hiroo Johar', 'Vineet Jain', 'Apoorva Mehta'], 'Actors': ['Alia Bhatt', 'Vicky Kaushal']}, 'Dhadak': {'Name': 'Dhadak', 'Wiki url': 'https://en.wikipedia.org/wiki/Dhadak', 'Year': '2018', 'Directors': ['Shashank Khaitan'], 'Producers': ['Karan Johar', 'Hiroo Johar', 'Apoorva Mehta'], 'Actors': ['Ishaan Khatter', 'Janhvi Kapoor']}, 'Simmba': {'Name': 'Simmba', 'Wiki url': 'https://en.wikipedia.org/wiki/Simmba', 'Year': '2018', 'Directors': ['Rohit Shetty'], 'Producers': ['Karan Johar', 'Hiroo Johar', 'Rohit Shetty', 'Apoorva Mehta'], 'Actors': ['Ranveer Singh', 'Sara Ali Khan', 'Sonu Sood']}, 'Kesari': {'Name': 'Kesari', 'Wiki url': 'https://en.wikipedia.org/wiki/Kesari_(film)', 'Year': '2019', 'Directors': ['Anurag Singh'], 'Producers': ['Karan Johar', 'Akshay Kumar'], 'Actors': ['Akshay Kumar', 'Parineeti Chopra']}, 'Kalank': {'Name': 'Kalank', 'Wiki url': 'https://en.wikipedia.org/wiki/Kalank', 'Year': '2019', 'Directors': ['Abhishek Varman'], 'Producers': ['Karan Johar', 'Sajid Nadiadwala'], 'Actors': ['Madhuri Dixit', 'Sonakshi Sinha', 'Alia Bhatt', 'Varun Dhawan', 'Aditya Roy Kapur', 'Sanjay Dutt']}, 'Student of the Year 2': {'Name': 'Student of the Year 2', 'Wiki url': 'https://en.wikipedia.org/wiki/Student_of_the_Year_2', 'Year': '2019', 'Directors': ['Punit Malhotra'], 'Producers': ['Karan Johar', 'Hiroo Johar', 'Apoorva Mehta'], 'Actors': ['Tiger Shroff', 'Tara Sutaria', 'Ananya Panday']}, 'Drive': {'Name': 'Drive', 'Wiki url': 'https://en.wikipedia.org/wiki/Drive_(2019_film)', 'Year': '2019', 'Directors': ['Tarun Mansukhani'], 'Producers': ['Karan Johar', 'Hiroo Johar'], 'Actors': ['Sushant Singh Rajput', 'Jacqueline Fernandez']}, 'Good Newwz': {'Name': 'Good Newwz', 'Wiki url': 'https://en.wikipedia.org/wiki/Good_Newwz', 'Year': '2019', 'Directors': ['Raj Mehta'], 'Producers': ['Karan Johar', 'Aruna Bhatia', 'Hiroo Yash Johar', 'Apoorva Mehta', 'Shashank Khaitan'], 'Actors': ['Akshay Kumar', 'Kareena Kapoor', 'Diljit Dosanjh', 'Kiara Advani']}, 'Bhoot – Part One: The Haunted Ship': {'Name': 'Bhoot – Part One: The Haunted Ship', 'Wiki url': 'https://en.wikipedia.org/wiki/Bhoot_%E2%80%93_Part_One:_The_Haunted_Ship', 'Year': '2020', 'Directors': ['Bhanu Pratap Singh'], 'Producers': ['Karan Johar', 'Hiroo Johar', 'Apoorva Mehta', 'Shashank Khaitan'], 'Actors': ['Vicky Kaushal', 'Bhumi Pednekar']}, 'Gunjan Saxena': {'Name': 'Gunjan Saxena', 'Wiki url': 'https://en.wikipedia.org/wiki/Gunjan_Saxena', 'Year': '2020', 'Directors': ['Sharan Sharma'], 'Producers': ['Karan Johar', 'Hiroo Johar', 'Apoorva Mehta'], 'Actors': ['Janhvi Kapoor', 'Pankaj Tripathi', 'Angad Bedi']}, 'Shershaah': {'Name': 'Shershaah', 'Wiki url': 'https://en.wikipedia.org/wiki/Shershaah', 'Year': '2020', 'Directors': ['Vishnuvardhan'], 'Producers': ['Karan Johar', 'Hiroo Johar', 'Apoorva Mehta', 'Shabbir Boxwala', 'Ajay Shah', 'Himanshu Gandhi'], 'Actors': ['Sidharth Malhotra', 'Kiara Advani']}, 'Brahmastra': {'Name': 'Brahmastra', 'Wiki url': 'https://en.wikipedia.org/wiki/Brahmastra_(film)', 'Year': '2020', 'Directors': ['Ayan Mukerji'], 'Producers': ['Karan Johar', 'Hiroo Johar', 'Apoorva Mehta'], 'Actors': ['Ranbir Kapoor', 'Alia Bhatt', 'Amitabh Bachchan', 'Mouni Roy']}, 'Sooryavanshi': {'Name': 'Sooryavanshi', 'Wiki url': 'https://en.wikipedia.org/wiki/Sooryavanshi', 'Year': '2020', 'Directors': ['Rohit Shetty'], 'Producers': ['Karan Johar', 'Rohit Shetty', 'Akshay Kumar'], 'Actors': ['Akshay Kumar', 'Katrina Kaif']}, 'Dostana 2': {'Name': 'Dostana 2', 'Wiki url': 'https://en.wikipedia.org/wiki/Dostana_2', 'Year': '2020', 'Directors': [\"Colin D'Cunha\"], 'Producers': ['Karan Johar', 'Hiroo Johar', 'Apoorva Mehta'], 'Actors': ['Kartik Aaryan', 'Janhvi Kapoor', 'Lakshya']}}\n"
     ]
    }
   ],
   "source": [
    "# Clean up movie info\n",
    "def clean_movie_info(movie_dict, crew_exclude):\n",
    "    \n",
    "    # Make a copy of movie_dict\n",
    "    movie_dict_cleaned = copy.deepcopy(movie_dict)\n",
    "        \n",
    "    # Exclude crew members\n",
    "    for movie in movie_dict_cleaned:\n",
    "        movie_info = movie_dict_cleaned[movie]\n",
    "        for category in movie_info:\n",
    "            for crew_delete in crew_exclude:\n",
    "                if crew_delete in movie_info[category]:\n",
    "                    category_list = movie_info[category]\n",
    "                    category_list.remove(crew_delete)\n",
    "                        \n",
    "    return movie_dict_cleaned\n",
    "\n",
    "# Exclude movies before Karan Johar started playing a prominent role in Dharma Productions\n",
    "# i.e., all movies before Kuch Kuch Hota Hai\n",
    "crew_exclude = ['Zee Studios']\n",
    "dict_movie_info_cleaned = clean_movie_info(dict_movie_info, crew_exclude)\n",
    "print(dict_movie_info_cleaned)"
   ]
  },
  {
   "cell_type": "markdown",
   "metadata": {},
   "source": [
    "### Save list of crew as Excel file to manually add relations to Bollywood, if any"
   ]
  },
  {
   "cell_type": "code",
   "execution_count": 151,
   "metadata": {},
   "outputs": [
    {
     "name": "stdout",
     "output_type": "stream",
     "text": [
      "['Karan Johar', 'Yash Johar', 'Shah Rukh Khan', 'Kajol', 'Rani Mukerji', 'Salman Khan', 'Amitabh Bachchan', 'Jaya Bachchan', 'Hrithik Roshan', 'Kareena Kapoor', 'Nikhil Advani', 'Preity Zinta', 'Saif Ali Khan', 'Soham Shah', 'Ajay Devgn', 'John Abraham', 'Vivek Oberoi', 'Esha Deol', 'Lara Dutta', 'Hiroo Johar', 'Abhishek Bachchan', 'Kirron Kher', 'Tarun Mansukhani', 'Priyanka Chopra', 'Bobby Deol', 'Ayan Mukerji', 'Ranbir Kapoor', 'Konkona Sen Sharma', \"Rensil D'Silva\", 'Gauri Khan', 'Punit Malhotra', 'Ronnie Screwvala', 'Imran Khan', 'Sonam Kapoor', 'Siddharth Malhotra', 'Arjun Rampal', 'Karan Malhotra', 'Rishi Kapoor', 'Sanjay Dutt', 'Shakun Batra', 'Sidharth Malhotra', 'Varun Dhawan', 'Alia Bhatt', 'Sonam Nair', 'Riya Vij', 'Divya Dutta', 'Taaha Shah', 'Deepika Padukone', 'Aditya Roy Kapur', 'Kalki Koechlin', 'Ritesh Batra', 'Guneet Monga', 'Anurag Kashyap', 'Arun Rangachari', 'Irrfan Khan', 'Nimrat Kaur', 'Nawazuddin Siddiqui', 'Vinil Mathew', 'Vikas Bahl', 'Vikramaditya Motwane', 'Parineeti Chopra', 'Adah Sharma', 'Abhishek Varman', 'Sajid Nadiadwala', 'Arjun Kapoor', 'Shashank Khaitan', 'Sidharth Shukla', 'Emraan Hashmi', 'Randeep Hooda', 'Kangana Ranaut', 'Akshay Kumar', 'Jackie Shroff', 'Jacqueline Fernandez', 'Shahid Kapoor', 'Pankaj Kapur', 'Apoorva Mehta', 'Fawad Khan', 'Nitya Mehra', 'Farhan Akhtar', 'Ritesh Sidhwani', 'Katrina Kaif', 'Aishwarya Rai', 'Anushka Sharma', 'Gauri Shinde', 'Shaad Ali', 'Mani Ratnam', 'Shraddha Kapoor', 'Abhay Chopra', 'Renu Chopra', 'Akshaye Khanna', 'Sonakshi Sinha', 'Meghna Gulzar', 'Vineet Jain', 'Vicky Kaushal', 'Hiroo Johar Apoorva Mehta', 'Ishaan Khatter', 'Janhvi Kapoor', 'Rohit Shetty', 'Ranveer Singh', 'Sara Ali Khan', 'Sonu Sood', 'Anurag Singh', 'Madhuri Dixit', 'Tiger Shroff', 'Tara Sutaria', 'Ananya Panday', 'Sushant Singh Rajput', 'Raj Mehta', 'Aruna Bhatia', 'Hiroo Yash Johar', 'Diljit Dosanjh', 'Kiara Advani', 'Bhanu Pratap Singh', 'Bhumi Pednekar', 'Sharan Sharma', 'Pankaj Tripathi', 'Angad Bedi', 'Vishnuvardhan', 'Shabbir Boxwala', 'Ajay Shah', 'Himanshu Gandhi', 'Mouni Roy', \"Colin D'Cunha\", 'Kartik Aaryan', 'Lakshya']\n"
     ]
    }
   ],
   "source": [
    "def save_crew_list(movie_dict):\n",
    "    crew_list = []\n",
    "    for movie, movie_info in movie_dict.items():\n",
    "        for item in movie_info:\n",
    "            if item in ['Directors', 'Producers', 'Actors']:\n",
    "                el = movie_info[item]\n",
    "                for crew in el:\n",
    "                    if crew not in crew_list:\n",
    "                        crew_list.append(crew)\n",
    "    print(crew_list)\n",
    "    df = pd.DataFrame()\n",
    "    df['Name'] = crew_list\n",
    "    #df.to_excel('crew_list.xlsx', index=False)\n",
    "        \n",
    "save_crew_list(dict_movie_info_cleaned)"
   ]
  },
  {
   "cell_type": "markdown",
   "metadata": {},
   "source": [
    "### Import manually curated bollywood crew relation database"
   ]
  },
  {
   "cell_type": "code",
   "execution_count": 289,
   "metadata": {},
   "outputs": [],
   "source": [
    "# Import crew-relation database\n",
    "main_directory = path.abspath(path.join(os.curdir, '..'))\n",
    "datafile_name = 'bollywood_crew_database.xlsx'\n",
    "datafile_location = path.join(main_directory, 'database', datafile_name)\n",
    "df_database = pd.read_excel(datafile_location)"
   ]
  },
  {
   "cell_type": "markdown",
   "metadata": {},
   "source": [
    "### Analysis #1: Nepotic % of each movie"
   ]
  },
  {
   "cell_type": "code",
   "execution_count": 290,
   "metadata": {},
   "outputs": [],
   "source": [
    "# Analysis\n",
    "def get_movie_nepotic_percentage(movie_info):\n",
    "    crew_count = 0\n",
    "    crew_nepotic_count = 0\n",
    "    for category in movie_info:\n",
    "        if category in categories_accounted:\n",
    "            category_info = movie_info[category]\n",
    "            for crew_name in category_info:\n",
    "                crew_found = 0\n",
    "                crew_count += 1\n",
    "                if crew_name in df_database['Name'].values: \n",
    "                    found_in = 'Name'\n",
    "                    crew_found += 1\n",
    "                elif crew_name in df_database['Alternate Name'].values:\n",
    "                    found_in = 'Alternate Name'\n",
    "                    crew_found += 1\n",
    "                if crew_found > 0:\n",
    "                    relation = df_database.loc[df_database[found_in] == crew_name, 'Known Bollywood Relation'].values\n",
    "                    if relation != 'None':\n",
    "                        crew_nepotic_count += 1  \n",
    "                            \n",
    "    return crew_nepotic_count/crew_count*100, crew_nepotic_count, crew_count\n",
    "    \n",
    "def get_movie_list_nepotic_value(movie_dict):\n",
    "    nepotic_value_list = {}\n",
    "    for movie in movie_dict:\n",
    "        movie_info = movie_dict[movie]\n",
    "        nepotic_percent, nepotic_crew_count, lead_crew_count = get_movie_nepotic_percentage(movie_info)\n",
    "        nepotic_value_list[movie] = [nepotic_percent, nepotic_crew_count, lead_crew_count]\n",
    "    return nepotic_value_list\n",
    "        \n",
    "nepotic_value_list = get_movie_list_nepotic_value(dict_movie_info_cleaned)"
   ]
  },
  {
   "cell_type": "code",
   "execution_count": 291,
   "metadata": {},
   "outputs": [],
   "source": [
    "# Visualization data: \n",
    "nepotic_percent = []\n",
    "nepotic_crew_count = []\n",
    "lead_crew_count = []\n",
    "movie_year_list = []\n",
    "for movie in nepotic_value_list:\n",
    "    nepotic_percent.append(nepotic_value_list[movie][0])\n",
    "    nepotic_crew_count.append(nepotic_value_list[movie][1])\n",
    "    lead_crew_count.append(nepotic_value_list[movie][2])\n",
    "    movie_year_list.append(dict_movie_info_cleaned[movie]['Year'])\n",
    "\n",
    "movies = list(dict_movie_info_cleaned.keys())\n",
    "for i, movie in enumerate(movies):\n",
    "    movies[i] = movie + ' (' + movie_year_list[i] + ')'\n",
    "movies.append('Average')\n",
    "nepotic_percent.append(sum(nepotic_percent) / len(nepotic_percent) )\n",
    "nepotic_crew_count.append('')\n",
    "lead_crew_count.append('')\n",
    "\n",
    "movies.reverse()\n",
    "nepotic_percent.reverse()"
   ]
  },
  {
   "cell_type": "code",
   "execution_count": 292,
   "metadata": {},
   "outputs": [
    {
     "data": {
      "application/vnd.plotly.v1+json": {
       "config": {
        "plotlyServerURL": "https://plot.ly"
       },
       "data": [
        {
         "marker": {
          "color": "#258193"
         },
         "orientation": "h",
         "type": "bar",
         "x": [
          64.23456790123458,
          57.14285714285714,
          50,
          75,
          44.44444444444444,
          57.14285714285714,
          71.42857142857143,
          60,
          40,
          85.71428571428571,
          77.77777777777779,
          40,
          75,
          83.33333333333334,
          85.71428571428571,
          75,
          83.33333333333334,
          60,
          50,
          66.66666666666666,
          33.33333333333333,
          62.5,
          37.5,
          28.57142857142857,
          57.14285714285714,
          66.66666666666666,
          80,
          25,
          100,
          14.285714285714285,
          71.42857142857143,
          50,
          85.71428571428571,
          66.66666666666666,
          71.42857142857143,
          83.33333333333334,
          83.33333333333334,
          80,
          83.33333333333334,
          100,
          57.14285714285714,
          62.5,
          50,
          57.14285714285714,
          62.5,
          83.33333333333334
         ],
         "y": [
          "Average",
          "Dostana 2 (2020)",
          "Sooryavanshi (2020)",
          "Brahmastra (2020)",
          "Shershaah (2020)",
          "Gunjan Saxena (2020)",
          "Bhoot – Part One: The Haunted Ship (2020)",
          "Good Newwz (2019)",
          "Drive (2019)",
          "Student of the Year 2 (2019)",
          "Kalank (2019)",
          "Kesari (2019)",
          "Simmba (2018)",
          "Dhadak (2018)",
          "Raazi (2018)",
          "Ittefaq (2017)",
          "Badrinath Ki Dulhania (2017)",
          "Ok Jaanu (2017)",
          "Dear Zindagi (2016)",
          "Ae Dil Hai Mushkil (2016)",
          "Baar Baar Dekho (2016)",
          "Kapoor & Sons (2016)",
          "Shaandaar (2015)",
          "Brothers (2015)",
          "Ungli (2014)",
          "Humpty Sharma Ki Dulhania (2014)",
          "2 States (2014)",
          "Hasee Toh Phasee (2014)",
          "Gori Tere Pyaar Mein (2013)",
          "The Lunchbox (2013)",
          "Yeh Jawaani Hai Deewani (2013)",
          "Gippi (2013)",
          "Student of the Year (2012)",
          "Ek Main Aur Ekk Tu (2012)",
          "Agneepath (2012)",
          "We Are Family (2010)",
          "I Hate Luv Storys (2010)",
          "My Name Is Khan (2010)",
          "Kurbaan (2009)",
          "Wake Up Sid (2009)",
          "Dostana (2008)",
          "Kabhi Alvida Naa Kehna (2006)",
          "Kaal (2005)",
          "Kal Ho Naa Ho (2003)",
          "Kabhi Khushi Kabhie Gham... (2001)",
          "Kuch Kuch Hota Hai (1998)"
         ]
        }
       ],
       "layout": {
        "annotations": [
         {
          "font": {
           "color": "#910838",
           "family": "Arial",
           "size": 12
          },
          "showarrow": false,
          "text": "64%",
          "x": 69.23456790123458,
          "xref": "x",
          "y": "Average",
          "yref": "y"
         },
         {
          "font": {
           "color": "#910838",
           "family": "Arial",
           "size": 12
          },
          "showarrow": false,
          "text": "57%",
          "x": 62.14285714285714,
          "xref": "x",
          "y": "Dostana 2 (2020)",
          "yref": "y"
         },
         {
          "font": {
           "color": "#910838",
           "family": "Arial",
           "size": 12
          },
          "showarrow": false,
          "text": "50%",
          "x": 55,
          "xref": "x",
          "y": "Sooryavanshi (2020)",
          "yref": "y"
         },
         {
          "font": {
           "color": "#910838",
           "family": "Arial",
           "size": 12
          },
          "showarrow": false,
          "text": "75%",
          "x": 80,
          "xref": "x",
          "y": "Brahmastra (2020)",
          "yref": "y"
         },
         {
          "font": {
           "color": "#910838",
           "family": "Arial",
           "size": 12
          },
          "showarrow": false,
          "text": "44%",
          "x": 49.44444444444444,
          "xref": "x",
          "y": "Shershaah (2020)",
          "yref": "y"
         },
         {
          "font": {
           "color": "#910838",
           "family": "Arial",
           "size": 12
          },
          "showarrow": false,
          "text": "57%",
          "x": 62.14285714285714,
          "xref": "x",
          "y": "Gunjan Saxena (2020)",
          "yref": "y"
         },
         {
          "font": {
           "color": "#910838",
           "family": "Arial",
           "size": 12
          },
          "showarrow": false,
          "text": "71%",
          "x": 76.42857142857143,
          "xref": "x",
          "y": "Bhoot – Part One: The Haunted Ship (2020)",
          "yref": "y"
         },
         {
          "font": {
           "color": "#910838",
           "family": "Arial",
           "size": 12
          },
          "showarrow": false,
          "text": "60%",
          "x": 65,
          "xref": "x",
          "y": "Good Newwz (2019)",
          "yref": "y"
         },
         {
          "font": {
           "color": "#910838",
           "family": "Arial",
           "size": 12
          },
          "showarrow": false,
          "text": "40%",
          "x": 45,
          "xref": "x",
          "y": "Drive (2019)",
          "yref": "y"
         },
         {
          "font": {
           "color": "#910838",
           "family": "Arial",
           "size": 12
          },
          "showarrow": false,
          "text": "86%",
          "x": 90.71428571428571,
          "xref": "x",
          "y": "Student of the Year 2 (2019)",
          "yref": "y"
         },
         {
          "font": {
           "color": "#910838",
           "family": "Arial",
           "size": 12
          },
          "showarrow": false,
          "text": "78%",
          "x": 82.77777777777779,
          "xref": "x",
          "y": "Kalank (2019)",
          "yref": "y"
         },
         {
          "font": {
           "color": "#910838",
           "family": "Arial",
           "size": 12
          },
          "showarrow": false,
          "text": "40%",
          "x": 45,
          "xref": "x",
          "y": "Kesari (2019)",
          "yref": "y"
         },
         {
          "font": {
           "color": "#910838",
           "family": "Arial",
           "size": 12
          },
          "showarrow": false,
          "text": "75%",
          "x": 80,
          "xref": "x",
          "y": "Simmba (2018)",
          "yref": "y"
         },
         {
          "font": {
           "color": "#910838",
           "family": "Arial",
           "size": 12
          },
          "showarrow": false,
          "text": "83%",
          "x": 88.33333333333334,
          "xref": "x",
          "y": "Dhadak (2018)",
          "yref": "y"
         },
         {
          "font": {
           "color": "#910838",
           "family": "Arial",
           "size": 12
          },
          "showarrow": false,
          "text": "86%",
          "x": 90.71428571428571,
          "xref": "x",
          "y": "Raazi (2018)",
          "yref": "y"
         },
         {
          "font": {
           "color": "#910838",
           "family": "Arial",
           "size": 12
          },
          "showarrow": false,
          "text": "75%",
          "x": 80,
          "xref": "x",
          "y": "Ittefaq (2017)",
          "yref": "y"
         },
         {
          "font": {
           "color": "#910838",
           "family": "Arial",
           "size": 12
          },
          "showarrow": false,
          "text": "83%",
          "x": 88.33333333333334,
          "xref": "x",
          "y": "Badrinath Ki Dulhania (2017)",
          "yref": "y"
         },
         {
          "font": {
           "color": "#910838",
           "family": "Arial",
           "size": 12
          },
          "showarrow": false,
          "text": "60%",
          "x": 65,
          "xref": "x",
          "y": "Ok Jaanu (2017)",
          "yref": "y"
         },
         {
          "font": {
           "color": "#910838",
           "family": "Arial",
           "size": 12
          },
          "showarrow": false,
          "text": "50%",
          "x": 55,
          "xref": "x",
          "y": "Dear Zindagi (2016)",
          "yref": "y"
         },
         {
          "font": {
           "color": "#910838",
           "family": "Arial",
           "size": 12
          },
          "showarrow": false,
          "text": "67%",
          "x": 71.66666666666666,
          "xref": "x",
          "y": "Ae Dil Hai Mushkil (2016)",
          "yref": "y"
         },
         {
          "font": {
           "color": "#910838",
           "family": "Arial",
           "size": 12
          },
          "showarrow": false,
          "text": "33%",
          "x": 38.33333333333333,
          "xref": "x",
          "y": "Baar Baar Dekho (2016)",
          "yref": "y"
         },
         {
          "font": {
           "color": "#910838",
           "family": "Arial",
           "size": 12
          },
          "showarrow": false,
          "text": "62%",
          "x": 67.5,
          "xref": "x",
          "y": "Kapoor & Sons (2016)",
          "yref": "y"
         },
         {
          "font": {
           "color": "#910838",
           "family": "Arial",
           "size": 12
          },
          "showarrow": false,
          "text": "38%",
          "x": 42.5,
          "xref": "x",
          "y": "Shaandaar (2015)",
          "yref": "y"
         },
         {
          "font": {
           "color": "#910838",
           "family": "Arial",
           "size": 12
          },
          "showarrow": false,
          "text": "29%",
          "x": 33.57142857142857,
          "xref": "x",
          "y": "Brothers (2015)",
          "yref": "y"
         },
         {
          "font": {
           "color": "#910838",
           "family": "Arial",
           "size": 12
          },
          "showarrow": false,
          "text": "57%",
          "x": 62.14285714285714,
          "xref": "x",
          "y": "Ungli (2014)",
          "yref": "y"
         },
         {
          "font": {
           "color": "#910838",
           "family": "Arial",
           "size": 12
          },
          "showarrow": false,
          "text": "67%",
          "x": 71.66666666666666,
          "xref": "x",
          "y": "Humpty Sharma Ki Dulhania (2014)",
          "yref": "y"
         },
         {
          "font": {
           "color": "#910838",
           "family": "Arial",
           "size": 12
          },
          "showarrow": false,
          "text": "80%",
          "x": 85,
          "xref": "x",
          "y": "2 States (2014)",
          "yref": "y"
         },
         {
          "font": {
           "color": "#910838",
           "family": "Arial",
           "size": 12
          },
          "showarrow": false,
          "text": "25%",
          "x": 30,
          "xref": "x",
          "y": "Hasee Toh Phasee (2014)",
          "yref": "y"
         },
         {
          "font": {
           "color": "#910838",
           "family": "Arial",
           "size": 12
          },
          "showarrow": false,
          "text": "100%",
          "x": 105,
          "xref": "x",
          "y": "Gori Tere Pyaar Mein (2013)",
          "yref": "y"
         },
         {
          "font": {
           "color": "#910838",
           "family": "Arial",
           "size": 12
          },
          "showarrow": false,
          "text": "14%",
          "x": 19.285714285714285,
          "xref": "x",
          "y": "The Lunchbox (2013)",
          "yref": "y"
         },
         {
          "font": {
           "color": "#910838",
           "family": "Arial",
           "size": 12
          },
          "showarrow": false,
          "text": "71%",
          "x": 76.42857142857143,
          "xref": "x",
          "y": "Yeh Jawaani Hai Deewani (2013)",
          "yref": "y"
         },
         {
          "font": {
           "color": "#910838",
           "family": "Arial",
           "size": 12
          },
          "showarrow": false,
          "text": "50%",
          "x": 55,
          "xref": "x",
          "y": "Gippi (2013)",
          "yref": "y"
         },
         {
          "font": {
           "color": "#910838",
           "family": "Arial",
           "size": 12
          },
          "showarrow": false,
          "text": "86%",
          "x": 90.71428571428571,
          "xref": "x",
          "y": "Student of the Year (2012)",
          "yref": "y"
         },
         {
          "font": {
           "color": "#910838",
           "family": "Arial",
           "size": 12
          },
          "showarrow": false,
          "text": "67%",
          "x": 71.66666666666666,
          "xref": "x",
          "y": "Ek Main Aur Ekk Tu (2012)",
          "yref": "y"
         },
         {
          "font": {
           "color": "#910838",
           "family": "Arial",
           "size": 12
          },
          "showarrow": false,
          "text": "71%",
          "x": 76.42857142857143,
          "xref": "x",
          "y": "Agneepath (2012)",
          "yref": "y"
         },
         {
          "font": {
           "color": "#910838",
           "family": "Arial",
           "size": 12
          },
          "showarrow": false,
          "text": "83%",
          "x": 88.33333333333334,
          "xref": "x",
          "y": "We Are Family (2010)",
          "yref": "y"
         },
         {
          "font": {
           "color": "#910838",
           "family": "Arial",
           "size": 12
          },
          "showarrow": false,
          "text": "83%",
          "x": 88.33333333333334,
          "xref": "x",
          "y": "I Hate Luv Storys (2010)",
          "yref": "y"
         },
         {
          "font": {
           "color": "#910838",
           "family": "Arial",
           "size": 12
          },
          "showarrow": false,
          "text": "80%",
          "x": 85,
          "xref": "x",
          "y": "My Name Is Khan (2010)",
          "yref": "y"
         },
         {
          "font": {
           "color": "#910838",
           "family": "Arial",
           "size": 12
          },
          "showarrow": false,
          "text": "83%",
          "x": 88.33333333333334,
          "xref": "x",
          "y": "Kurbaan (2009)",
          "yref": "y"
         },
         {
          "font": {
           "color": "#910838",
           "family": "Arial",
           "size": 12
          },
          "showarrow": false,
          "text": "100%",
          "x": 105,
          "xref": "x",
          "y": "Wake Up Sid (2009)",
          "yref": "y"
         },
         {
          "font": {
           "color": "#910838",
           "family": "Arial",
           "size": 12
          },
          "showarrow": false,
          "text": "57%",
          "x": 62.14285714285714,
          "xref": "x",
          "y": "Dostana (2008)",
          "yref": "y"
         },
         {
          "font": {
           "color": "#910838",
           "family": "Arial",
           "size": 12
          },
          "showarrow": false,
          "text": "62%",
          "x": 67.5,
          "xref": "x",
          "y": "Kabhi Alvida Naa Kehna (2006)",
          "yref": "y"
         },
         {
          "font": {
           "color": "#910838",
           "family": "Arial",
           "size": 12
          },
          "showarrow": false,
          "text": "50%",
          "x": 55,
          "xref": "x",
          "y": "Kaal (2005)",
          "yref": "y"
         },
         {
          "font": {
           "color": "#910838",
           "family": "Arial",
           "size": 12
          },
          "showarrow": false,
          "text": "57%",
          "x": 62.14285714285714,
          "xref": "x",
          "y": "Kal Ho Naa Ho (2003)",
          "yref": "y"
         },
         {
          "font": {
           "color": "#910838",
           "family": "Arial",
           "size": 12
          },
          "showarrow": false,
          "text": "62%",
          "x": 67.5,
          "xref": "x",
          "y": "Kabhi Khushi Kabhie Gham... (2001)",
          "yref": "y"
         },
         {
          "font": {
           "color": "#910838",
           "family": "Arial",
           "size": 12
          },
          "showarrow": false,
          "text": "83%",
          "x": 88.33333333333334,
          "xref": "x",
          "y": "Kuch Kuch Hota Hai (1998)",
          "yref": "y"
         }
        ],
        "autosize": false,
        "height": 1000,
        "margin": {
         "t": 10
        },
        "plot_bgcolor": "rgba(242, 241, 239, 1)",
        "template": {
         "data": {
          "bar": [
           {
            "error_x": {
             "color": "#2a3f5f"
            },
            "error_y": {
             "color": "#2a3f5f"
            },
            "marker": {
             "line": {
              "color": "#E5ECF6",
              "width": 0.5
             }
            },
            "type": "bar"
           }
          ],
          "barpolar": [
           {
            "marker": {
             "line": {
              "color": "#E5ECF6",
              "width": 0.5
             }
            },
            "type": "barpolar"
           }
          ],
          "carpet": [
           {
            "aaxis": {
             "endlinecolor": "#2a3f5f",
             "gridcolor": "white",
             "linecolor": "white",
             "minorgridcolor": "white",
             "startlinecolor": "#2a3f5f"
            },
            "baxis": {
             "endlinecolor": "#2a3f5f",
             "gridcolor": "white",
             "linecolor": "white",
             "minorgridcolor": "white",
             "startlinecolor": "#2a3f5f"
            },
            "type": "carpet"
           }
          ],
          "choropleth": [
           {
            "colorbar": {
             "outlinewidth": 0,
             "ticks": ""
            },
            "type": "choropleth"
           }
          ],
          "contour": [
           {
            "colorbar": {
             "outlinewidth": 0,
             "ticks": ""
            },
            "colorscale": [
             [
              0,
              "#0d0887"
             ],
             [
              0.1111111111111111,
              "#46039f"
             ],
             [
              0.2222222222222222,
              "#7201a8"
             ],
             [
              0.3333333333333333,
              "#9c179e"
             ],
             [
              0.4444444444444444,
              "#bd3786"
             ],
             [
              0.5555555555555556,
              "#d8576b"
             ],
             [
              0.6666666666666666,
              "#ed7953"
             ],
             [
              0.7777777777777778,
              "#fb9f3a"
             ],
             [
              0.8888888888888888,
              "#fdca26"
             ],
             [
              1,
              "#f0f921"
             ]
            ],
            "type": "contour"
           }
          ],
          "contourcarpet": [
           {
            "colorbar": {
             "outlinewidth": 0,
             "ticks": ""
            },
            "type": "contourcarpet"
           }
          ],
          "heatmap": [
           {
            "colorbar": {
             "outlinewidth": 0,
             "ticks": ""
            },
            "colorscale": [
             [
              0,
              "#0d0887"
             ],
             [
              0.1111111111111111,
              "#46039f"
             ],
             [
              0.2222222222222222,
              "#7201a8"
             ],
             [
              0.3333333333333333,
              "#9c179e"
             ],
             [
              0.4444444444444444,
              "#bd3786"
             ],
             [
              0.5555555555555556,
              "#d8576b"
             ],
             [
              0.6666666666666666,
              "#ed7953"
             ],
             [
              0.7777777777777778,
              "#fb9f3a"
             ],
             [
              0.8888888888888888,
              "#fdca26"
             ],
             [
              1,
              "#f0f921"
             ]
            ],
            "type": "heatmap"
           }
          ],
          "heatmapgl": [
           {
            "colorbar": {
             "outlinewidth": 0,
             "ticks": ""
            },
            "colorscale": [
             [
              0,
              "#0d0887"
             ],
             [
              0.1111111111111111,
              "#46039f"
             ],
             [
              0.2222222222222222,
              "#7201a8"
             ],
             [
              0.3333333333333333,
              "#9c179e"
             ],
             [
              0.4444444444444444,
              "#bd3786"
             ],
             [
              0.5555555555555556,
              "#d8576b"
             ],
             [
              0.6666666666666666,
              "#ed7953"
             ],
             [
              0.7777777777777778,
              "#fb9f3a"
             ],
             [
              0.8888888888888888,
              "#fdca26"
             ],
             [
              1,
              "#f0f921"
             ]
            ],
            "type": "heatmapgl"
           }
          ],
          "histogram": [
           {
            "marker": {
             "colorbar": {
              "outlinewidth": 0,
              "ticks": ""
             }
            },
            "type": "histogram"
           }
          ],
          "histogram2d": [
           {
            "colorbar": {
             "outlinewidth": 0,
             "ticks": ""
            },
            "colorscale": [
             [
              0,
              "#0d0887"
             ],
             [
              0.1111111111111111,
              "#46039f"
             ],
             [
              0.2222222222222222,
              "#7201a8"
             ],
             [
              0.3333333333333333,
              "#9c179e"
             ],
             [
              0.4444444444444444,
              "#bd3786"
             ],
             [
              0.5555555555555556,
              "#d8576b"
             ],
             [
              0.6666666666666666,
              "#ed7953"
             ],
             [
              0.7777777777777778,
              "#fb9f3a"
             ],
             [
              0.8888888888888888,
              "#fdca26"
             ],
             [
              1,
              "#f0f921"
             ]
            ],
            "type": "histogram2d"
           }
          ],
          "histogram2dcontour": [
           {
            "colorbar": {
             "outlinewidth": 0,
             "ticks": ""
            },
            "colorscale": [
             [
              0,
              "#0d0887"
             ],
             [
              0.1111111111111111,
              "#46039f"
             ],
             [
              0.2222222222222222,
              "#7201a8"
             ],
             [
              0.3333333333333333,
              "#9c179e"
             ],
             [
              0.4444444444444444,
              "#bd3786"
             ],
             [
              0.5555555555555556,
              "#d8576b"
             ],
             [
              0.6666666666666666,
              "#ed7953"
             ],
             [
              0.7777777777777778,
              "#fb9f3a"
             ],
             [
              0.8888888888888888,
              "#fdca26"
             ],
             [
              1,
              "#f0f921"
             ]
            ],
            "type": "histogram2dcontour"
           }
          ],
          "mesh3d": [
           {
            "colorbar": {
             "outlinewidth": 0,
             "ticks": ""
            },
            "type": "mesh3d"
           }
          ],
          "parcoords": [
           {
            "line": {
             "colorbar": {
              "outlinewidth": 0,
              "ticks": ""
             }
            },
            "type": "parcoords"
           }
          ],
          "pie": [
           {
            "automargin": true,
            "type": "pie"
           }
          ],
          "scatter": [
           {
            "marker": {
             "colorbar": {
              "outlinewidth": 0,
              "ticks": ""
             }
            },
            "type": "scatter"
           }
          ],
          "scatter3d": [
           {
            "line": {
             "colorbar": {
              "outlinewidth": 0,
              "ticks": ""
             }
            },
            "marker": {
             "colorbar": {
              "outlinewidth": 0,
              "ticks": ""
             }
            },
            "type": "scatter3d"
           }
          ],
          "scattercarpet": [
           {
            "marker": {
             "colorbar": {
              "outlinewidth": 0,
              "ticks": ""
             }
            },
            "type": "scattercarpet"
           }
          ],
          "scattergeo": [
           {
            "marker": {
             "colorbar": {
              "outlinewidth": 0,
              "ticks": ""
             }
            },
            "type": "scattergeo"
           }
          ],
          "scattergl": [
           {
            "marker": {
             "colorbar": {
              "outlinewidth": 0,
              "ticks": ""
             }
            },
            "type": "scattergl"
           }
          ],
          "scattermapbox": [
           {
            "marker": {
             "colorbar": {
              "outlinewidth": 0,
              "ticks": ""
             }
            },
            "type": "scattermapbox"
           }
          ],
          "scatterpolar": [
           {
            "marker": {
             "colorbar": {
              "outlinewidth": 0,
              "ticks": ""
             }
            },
            "type": "scatterpolar"
           }
          ],
          "scatterpolargl": [
           {
            "marker": {
             "colorbar": {
              "outlinewidth": 0,
              "ticks": ""
             }
            },
            "type": "scatterpolargl"
           }
          ],
          "scatterternary": [
           {
            "marker": {
             "colorbar": {
              "outlinewidth": 0,
              "ticks": ""
             }
            },
            "type": "scatterternary"
           }
          ],
          "surface": [
           {
            "colorbar": {
             "outlinewidth": 0,
             "ticks": ""
            },
            "colorscale": [
             [
              0,
              "#0d0887"
             ],
             [
              0.1111111111111111,
              "#46039f"
             ],
             [
              0.2222222222222222,
              "#7201a8"
             ],
             [
              0.3333333333333333,
              "#9c179e"
             ],
             [
              0.4444444444444444,
              "#bd3786"
             ],
             [
              0.5555555555555556,
              "#d8576b"
             ],
             [
              0.6666666666666666,
              "#ed7953"
             ],
             [
              0.7777777777777778,
              "#fb9f3a"
             ],
             [
              0.8888888888888888,
              "#fdca26"
             ],
             [
              1,
              "#f0f921"
             ]
            ],
            "type": "surface"
           }
          ],
          "table": [
           {
            "cells": {
             "fill": {
              "color": "#EBF0F8"
             },
             "line": {
              "color": "white"
             }
            },
            "header": {
             "fill": {
              "color": "#C8D4E3"
             },
             "line": {
              "color": "white"
             }
            },
            "type": "table"
           }
          ]
         },
         "layout": {
          "annotationdefaults": {
           "arrowcolor": "#2a3f5f",
           "arrowhead": 0,
           "arrowwidth": 1
          },
          "coloraxis": {
           "colorbar": {
            "outlinewidth": 0,
            "ticks": ""
           }
          },
          "colorscale": {
           "diverging": [
            [
             0,
             "#8e0152"
            ],
            [
             0.1,
             "#c51b7d"
            ],
            [
             0.2,
             "#de77ae"
            ],
            [
             0.3,
             "#f1b6da"
            ],
            [
             0.4,
             "#fde0ef"
            ],
            [
             0.5,
             "#f7f7f7"
            ],
            [
             0.6,
             "#e6f5d0"
            ],
            [
             0.7,
             "#b8e186"
            ],
            [
             0.8,
             "#7fbc41"
            ],
            [
             0.9,
             "#4d9221"
            ],
            [
             1,
             "#276419"
            ]
           ],
           "sequential": [
            [
             0,
             "#0d0887"
            ],
            [
             0.1111111111111111,
             "#46039f"
            ],
            [
             0.2222222222222222,
             "#7201a8"
            ],
            [
             0.3333333333333333,
             "#9c179e"
            ],
            [
             0.4444444444444444,
             "#bd3786"
            ],
            [
             0.5555555555555556,
             "#d8576b"
            ],
            [
             0.6666666666666666,
             "#ed7953"
            ],
            [
             0.7777777777777778,
             "#fb9f3a"
            ],
            [
             0.8888888888888888,
             "#fdca26"
            ],
            [
             1,
             "#f0f921"
            ]
           ],
           "sequentialminus": [
            [
             0,
             "#0d0887"
            ],
            [
             0.1111111111111111,
             "#46039f"
            ],
            [
             0.2222222222222222,
             "#7201a8"
            ],
            [
             0.3333333333333333,
             "#9c179e"
            ],
            [
             0.4444444444444444,
             "#bd3786"
            ],
            [
             0.5555555555555556,
             "#d8576b"
            ],
            [
             0.6666666666666666,
             "#ed7953"
            ],
            [
             0.7777777777777778,
             "#fb9f3a"
            ],
            [
             0.8888888888888888,
             "#fdca26"
            ],
            [
             1,
             "#f0f921"
            ]
           ]
          },
          "colorway": [
           "#636efa",
           "#EF553B",
           "#00cc96",
           "#ab63fa",
           "#FFA15A",
           "#19d3f3",
           "#FF6692",
           "#B6E880",
           "#FF97FF",
           "#FECB52"
          ],
          "font": {
           "color": "#2a3f5f"
          },
          "geo": {
           "bgcolor": "white",
           "lakecolor": "white",
           "landcolor": "#E5ECF6",
           "showlakes": true,
           "showland": true,
           "subunitcolor": "white"
          },
          "hoverlabel": {
           "align": "left"
          },
          "hovermode": "closest",
          "mapbox": {
           "style": "light"
          },
          "paper_bgcolor": "white",
          "plot_bgcolor": "#E5ECF6",
          "polar": {
           "angularaxis": {
            "gridcolor": "white",
            "linecolor": "white",
            "ticks": ""
           },
           "bgcolor": "#E5ECF6",
           "radialaxis": {
            "gridcolor": "white",
            "linecolor": "white",
            "ticks": ""
           }
          },
          "scene": {
           "xaxis": {
            "backgroundcolor": "#E5ECF6",
            "gridcolor": "white",
            "gridwidth": 2,
            "linecolor": "white",
            "showbackground": true,
            "ticks": "",
            "zerolinecolor": "white"
           },
           "yaxis": {
            "backgroundcolor": "#E5ECF6",
            "gridcolor": "white",
            "gridwidth": 2,
            "linecolor": "white",
            "showbackground": true,
            "ticks": "",
            "zerolinecolor": "white"
           },
           "zaxis": {
            "backgroundcolor": "#E5ECF6",
            "gridcolor": "white",
            "gridwidth": 2,
            "linecolor": "white",
            "showbackground": true,
            "ticks": "",
            "zerolinecolor": "white"
           }
          },
          "shapedefaults": {
           "line": {
            "color": "#2a3f5f"
           }
          },
          "ternary": {
           "aaxis": {
            "gridcolor": "white",
            "linecolor": "white",
            "ticks": ""
           },
           "baxis": {
            "gridcolor": "white",
            "linecolor": "white",
            "ticks": ""
           },
           "bgcolor": "#E5ECF6",
           "caxis": {
            "gridcolor": "white",
            "linecolor": "white",
            "ticks": ""
           }
          },
          "title": {
           "x": 0.05
          },
          "xaxis": {
           "automargin": true,
           "gridcolor": "white",
           "linecolor": "white",
           "ticks": "",
           "title": {
            "standoff": 15
           },
           "zerolinecolor": "white",
           "zerolinewidth": 2
          },
          "yaxis": {
           "automargin": true,
           "gridcolor": "white",
           "linecolor": "white",
           "ticks": "",
           "title": {
            "standoff": 15
           },
           "zerolinecolor": "white",
           "zerolinewidth": 2
          }
         }
        },
        "width": 900,
        "xaxis": {
         "autorange": true,
         "range": [
          0,
          108.67867867867868
         ],
         "title": {
          "text": "<b>Nepotic level (%)<b>"
         },
         "type": "linear"
        },
        "yaxis": {
         "autorange": true,
         "range": [
          -0.5,
          45.5
         ],
         "showgrid": false,
         "title": {
          "text": "<b>Dharma Productions movies since Karan Johar stepped in (year of release) <b>"
         },
         "type": "category"
        }
       }
      },
      "image/png": "[encoded data removed]",
      "text/html": [
       "<div>\n",
       "        \n",
       "        \n",
       "            <div id=\"9ae6f8e6-3eaf-4eca-88cf-40ddc95e4a78\" class=\"plotly-graph-div\" style=\"height:1000px; width:900px;\"></div>\n",
       "            <script type=\"text/javascript\">\n",
       "                require([\"plotly\"], function(Plotly) {\n",
       "                    window.PLOTLYENV=window.PLOTLYENV || {};\n",
       "                    \n",
       "                if (document.getElementById(\"9ae6f8e6-3eaf-4eca-88cf-40ddc95e4a78\")) {\n",
       "                    Plotly.newPlot(\n",
       "                        '9ae6f8e6-3eaf-4eca-88cf-40ddc95e4a78',\n",
       "                        [{\"marker\": {\"color\": \"#258193\"}, \"orientation\": \"h\", \"type\": \"bar\", \"x\": [64.23456790123458, 57.14285714285714, 50.0, 75.0, 44.44444444444444, 57.14285714285714, 71.42857142857143, 60.0, 40.0, 85.71428571428571, 77.77777777777779, 40.0, 75.0, 83.33333333333334, 85.71428571428571, 75.0, 83.33333333333334, 60.0, 50.0, 66.66666666666666, 33.33333333333333, 62.5, 37.5, 28.57142857142857, 57.14285714285714, 66.66666666666666, 80.0, 25.0, 100.0, 14.285714285714285, 71.42857142857143, 50.0, 85.71428571428571, 66.66666666666666, 71.42857142857143, 83.33333333333334, 83.33333333333334, 80.0, 83.33333333333334, 100.0, 57.14285714285714, 62.5, 50.0, 57.14285714285714, 62.5, 83.33333333333334], \"y\": [\"Average\", \"Dostana 2 (2020)\", \"Sooryavanshi (2020)\", \"Brahmastra (2020)\", \"Shershaah (2020)\", \"Gunjan Saxena (2020)\", \"Bhoot \\u2013 Part One: The Haunted Ship (2020)\", \"Good Newwz (2019)\", \"Drive (2019)\", \"Student of the Year 2 (2019)\", \"Kalank (2019)\", \"Kesari (2019)\", \"Simmba (2018)\", \"Dhadak (2018)\", \"Raazi (2018)\", \"Ittefaq (2017)\", \"Badrinath Ki Dulhania (2017)\", \"Ok Jaanu (2017)\", \"Dear Zindagi (2016)\", \"Ae Dil Hai Mushkil (2016)\", \"Baar Baar Dekho (2016)\", \"Kapoor & Sons (2016)\", \"Shaandaar (2015)\", \"Brothers (2015)\", \"Ungli (2014)\", \"Humpty Sharma Ki Dulhania (2014)\", \"2 States (2014)\", \"Hasee Toh Phasee (2014)\", \"Gori Tere Pyaar Mein (2013)\", \"The Lunchbox (2013)\", \"Yeh Jawaani Hai Deewani (2013)\", \"Gippi (2013)\", \"Student of the Year (2012)\", \"Ek Main Aur Ekk Tu (2012)\", \"Agneepath (2012)\", \"We Are Family (2010)\", \"I Hate Luv Storys (2010)\", \"My Name Is Khan (2010)\", \"Kurbaan (2009)\", \"Wake Up Sid (2009)\", \"Dostana (2008)\", \"Kabhi Alvida Naa Kehna (2006)\", \"Kaal (2005)\", \"Kal Ho Naa Ho (2003)\", \"Kabhi Khushi Kabhie Gham... (2001)\", \"Kuch Kuch Hota Hai (1998)\"]}],\n",
       "                        {\"annotations\": [{\"font\": {\"color\": \"#910838\", \"family\": \"Arial\", \"size\": 12}, \"showarrow\": false, \"text\": \"64%\", \"x\": 69.23456790123458, \"xref\": \"x\", \"y\": \"Average\", \"yref\": \"y\"}, {\"font\": {\"color\": \"#910838\", \"family\": \"Arial\", \"size\": 12}, \"showarrow\": false, \"text\": \"57%\", \"x\": 62.14285714285714, \"xref\": \"x\", \"y\": \"Dostana 2 (2020)\", \"yref\": \"y\"}, {\"font\": {\"color\": \"#910838\", \"family\": \"Arial\", \"size\": 12}, \"showarrow\": false, \"text\": \"50%\", \"x\": 55.0, \"xref\": \"x\", \"y\": \"Sooryavanshi (2020)\", \"yref\": \"y\"}, {\"font\": {\"color\": \"#910838\", \"family\": \"Arial\", \"size\": 12}, \"showarrow\": false, \"text\": \"75%\", \"x\": 80.0, \"xref\": \"x\", \"y\": \"Brahmastra (2020)\", \"yref\": \"y\"}, {\"font\": {\"color\": \"#910838\", \"family\": \"Arial\", \"size\": 12}, \"showarrow\": false, \"text\": \"44%\", \"x\": 49.44444444444444, \"xref\": \"x\", \"y\": \"Shershaah (2020)\", \"yref\": \"y\"}, {\"font\": {\"color\": \"#910838\", \"family\": \"Arial\", \"size\": 12}, \"showarrow\": false, \"text\": \"57%\", \"x\": 62.14285714285714, \"xref\": \"x\", \"y\": \"Gunjan Saxena (2020)\", \"yref\": \"y\"}, {\"font\": {\"color\": \"#910838\", \"family\": \"Arial\", \"size\": 12}, \"showarrow\": false, \"text\": \"71%\", \"x\": 76.42857142857143, \"xref\": \"x\", \"y\": \"Bhoot \\u2013 Part One: The Haunted Ship (2020)\", \"yref\": \"y\"}, {\"font\": {\"color\": \"#910838\", \"family\": \"Arial\", \"size\": 12}, \"showarrow\": false, \"text\": \"60%\", \"x\": 65.0, \"xref\": \"x\", \"y\": \"Good Newwz (2019)\", \"yref\": \"y\"}, {\"font\": {\"color\": \"#910838\", \"family\": \"Arial\", \"size\": 12}, \"showarrow\": false, \"text\": \"40%\", \"x\": 45.0, \"xref\": \"x\", \"y\": \"Drive (2019)\", \"yref\": \"y\"}, {\"font\": {\"color\": \"#910838\", \"family\": \"Arial\", \"size\": 12}, \"showarrow\": false, \"text\": \"86%\", \"x\": 90.71428571428571, \"xref\": \"x\", \"y\": \"Student of the Year 2 (2019)\", \"yref\": \"y\"}, {\"font\": {\"color\": \"#910838\", \"family\": \"Arial\", \"size\": 12}, \"showarrow\": false, \"text\": \"78%\", \"x\": 82.77777777777779, \"xref\": \"x\", \"y\": \"Kalank (2019)\", \"yref\": \"y\"}, {\"font\": {\"color\": \"#910838\", \"family\": \"Arial\", \"size\": 12}, \"showarrow\": false, \"text\": \"40%\", \"x\": 45.0, \"xref\": \"x\", \"y\": \"Kesari (2019)\", \"yref\": \"y\"}, {\"font\": {\"color\": \"#910838\", \"family\": \"Arial\", \"size\": 12}, \"showarrow\": false, \"text\": \"75%\", \"x\": 80.0, \"xref\": \"x\", \"y\": \"Simmba (2018)\", \"yref\": \"y\"}, {\"font\": {\"color\": \"#910838\", \"family\": \"Arial\", \"size\": 12}, \"showarrow\": false, \"text\": \"83%\", \"x\": 88.33333333333334, \"xref\": \"x\", \"y\": \"Dhadak (2018)\", \"yref\": \"y\"}, {\"font\": {\"color\": \"#910838\", \"family\": \"Arial\", \"size\": 12}, \"showarrow\": false, \"text\": \"86%\", \"x\": 90.71428571428571, \"xref\": \"x\", \"y\": \"Raazi (2018)\", \"yref\": \"y\"}, {\"font\": {\"color\": \"#910838\", \"family\": \"Arial\", \"size\": 12}, \"showarrow\": false, \"text\": \"75%\", \"x\": 80.0, \"xref\": \"x\", \"y\": \"Ittefaq (2017)\", \"yref\": \"y\"}, {\"font\": {\"color\": \"#910838\", \"family\": \"Arial\", \"size\": 12}, \"showarrow\": false, \"text\": \"83%\", \"x\": 88.33333333333334, \"xref\": \"x\", \"y\": \"Badrinath Ki Dulhania (2017)\", \"yref\": \"y\"}, {\"font\": {\"color\": \"#910838\", \"family\": \"Arial\", \"size\": 12}, \"showarrow\": false, \"text\": \"60%\", \"x\": 65.0, \"xref\": \"x\", \"y\": \"Ok Jaanu (2017)\", \"yref\": \"y\"}, {\"font\": {\"color\": \"#910838\", \"family\": \"Arial\", \"size\": 12}, \"showarrow\": false, \"text\": \"50%\", \"x\": 55.0, \"xref\": \"x\", \"y\": \"Dear Zindagi (2016)\", \"yref\": \"y\"}, {\"font\": {\"color\": \"#910838\", \"family\": \"Arial\", \"size\": 12}, \"showarrow\": false, \"text\": \"67%\", \"x\": 71.66666666666666, \"xref\": \"x\", \"y\": \"Ae Dil Hai Mushkil (2016)\", \"yref\": \"y\"}, {\"font\": {\"color\": \"#910838\", \"family\": \"Arial\", \"size\": 12}, \"showarrow\": false, \"text\": \"33%\", \"x\": 38.33333333333333, \"xref\": \"x\", \"y\": \"Baar Baar Dekho (2016)\", \"yref\": \"y\"}, {\"font\": {\"color\": \"#910838\", \"family\": \"Arial\", \"size\": 12}, \"showarrow\": false, \"text\": \"62%\", \"x\": 67.5, \"xref\": \"x\", \"y\": \"Kapoor & Sons (2016)\", \"yref\": \"y\"}, {\"font\": {\"color\": \"#910838\", \"family\": \"Arial\", \"size\": 12}, \"showarrow\": false, \"text\": \"38%\", \"x\": 42.5, \"xref\": \"x\", \"y\": \"Shaandaar (2015)\", \"yref\": \"y\"}, {\"font\": {\"color\": \"#910838\", \"family\": \"Arial\", \"size\": 12}, \"showarrow\": false, \"text\": \"29%\", \"x\": 33.57142857142857, \"xref\": \"x\", \"y\": \"Brothers (2015)\", \"yref\": \"y\"}, {\"font\": {\"color\": \"#910838\", \"family\": \"Arial\", \"size\": 12}, \"showarrow\": false, \"text\": \"57%\", \"x\": 62.14285714285714, \"xref\": \"x\", \"y\": \"Ungli (2014)\", \"yref\": \"y\"}, {\"font\": {\"color\": \"#910838\", \"family\": \"Arial\", \"size\": 12}, \"showarrow\": false, \"text\": \"67%\", \"x\": 71.66666666666666, \"xref\": \"x\", \"y\": \"Humpty Sharma Ki Dulhania (2014)\", \"yref\": \"y\"}, {\"font\": {\"color\": \"#910838\", \"family\": \"Arial\", \"size\": 12}, \"showarrow\": false, \"text\": \"80%\", \"x\": 85.0, \"xref\": \"x\", \"y\": \"2 States (2014)\", \"yref\": \"y\"}, {\"font\": {\"color\": \"#910838\", \"family\": \"Arial\", \"size\": 12}, \"showarrow\": false, \"text\": \"25%\", \"x\": 30.0, \"xref\": \"x\", \"y\": \"Hasee Toh Phasee (2014)\", \"yref\": \"y\"}, {\"font\": {\"color\": \"#910838\", \"family\": \"Arial\", \"size\": 12}, \"showarrow\": false, \"text\": \"100%\", \"x\": 105.0, \"xref\": \"x\", \"y\": \"Gori Tere Pyaar Mein (2013)\", \"yref\": \"y\"}, {\"font\": {\"color\": \"#910838\", \"family\": \"Arial\", \"size\": 12}, \"showarrow\": false, \"text\": \"14%\", \"x\": 19.285714285714285, \"xref\": \"x\", \"y\": \"The Lunchbox (2013)\", \"yref\": \"y\"}, {\"font\": {\"color\": \"#910838\", \"family\": \"Arial\", \"size\": 12}, \"showarrow\": false, \"text\": \"71%\", \"x\": 76.42857142857143, \"xref\": \"x\", \"y\": \"Yeh Jawaani Hai Deewani (2013)\", \"yref\": \"y\"}, {\"font\": {\"color\": \"#910838\", \"family\": \"Arial\", \"size\": 12}, \"showarrow\": false, \"text\": \"50%\", \"x\": 55.0, \"xref\": \"x\", \"y\": \"Gippi (2013)\", \"yref\": \"y\"}, {\"font\": {\"color\": \"#910838\", \"family\": \"Arial\", \"size\": 12}, \"showarrow\": false, \"text\": \"86%\", \"x\": 90.71428571428571, \"xref\": \"x\", \"y\": \"Student of the Year (2012)\", \"yref\": \"y\"}, {\"font\": {\"color\": \"#910838\", \"family\": \"Arial\", \"size\": 12}, \"showarrow\": false, \"text\": \"67%\", \"x\": 71.66666666666666, \"xref\": \"x\", \"y\": \"Ek Main Aur Ekk Tu (2012)\", \"yref\": \"y\"}, {\"font\": {\"color\": \"#910838\", \"family\": \"Arial\", \"size\": 12}, \"showarrow\": false, \"text\": \"71%\", \"x\": 76.42857142857143, \"xref\": \"x\", \"y\": \"Agneepath (2012)\", \"yref\": \"y\"}, {\"font\": {\"color\": \"#910838\", \"family\": \"Arial\", \"size\": 12}, \"showarrow\": false, \"text\": \"83%\", \"x\": 88.33333333333334, \"xref\": \"x\", \"y\": \"We Are Family (2010)\", \"yref\": \"y\"}, {\"font\": {\"color\": \"#910838\", \"family\": \"Arial\", \"size\": 12}, \"showarrow\": false, \"text\": \"83%\", \"x\": 88.33333333333334, \"xref\": \"x\", \"y\": \"I Hate Luv Storys (2010)\", \"yref\": \"y\"}, {\"font\": {\"color\": \"#910838\", \"family\": \"Arial\", \"size\": 12}, \"showarrow\": false, \"text\": \"80%\", \"x\": 85.0, \"xref\": \"x\", \"y\": \"My Name Is Khan (2010)\", \"yref\": \"y\"}, {\"font\": {\"color\": \"#910838\", \"family\": \"Arial\", \"size\": 12}, \"showarrow\": false, \"text\": \"83%\", \"x\": 88.33333333333334, \"xref\": \"x\", \"y\": \"Kurbaan (2009)\", \"yref\": \"y\"}, {\"font\": {\"color\": \"#910838\", \"family\": \"Arial\", \"size\": 12}, \"showarrow\": false, \"text\": \"100%\", \"x\": 105.0, \"xref\": \"x\", \"y\": \"Wake Up Sid (2009)\", \"yref\": \"y\"}, {\"font\": {\"color\": \"#910838\", \"family\": \"Arial\", \"size\": 12}, \"showarrow\": false, \"text\": \"57%\", \"x\": 62.14285714285714, \"xref\": \"x\", \"y\": \"Dostana (2008)\", \"yref\": \"y\"}, {\"font\": {\"color\": \"#910838\", \"family\": \"Arial\", \"size\": 12}, \"showarrow\": false, \"text\": \"62%\", \"x\": 67.5, \"xref\": \"x\", \"y\": \"Kabhi Alvida Naa Kehna (2006)\", \"yref\": \"y\"}, {\"font\": {\"color\": \"#910838\", \"family\": \"Arial\", \"size\": 12}, \"showarrow\": false, \"text\": \"50%\", \"x\": 55.0, \"xref\": \"x\", \"y\": \"Kaal (2005)\", \"yref\": \"y\"}, {\"font\": {\"color\": \"#910838\", \"family\": \"Arial\", \"size\": 12}, \"showarrow\": false, \"text\": \"57%\", \"x\": 62.14285714285714, \"xref\": \"x\", \"y\": \"Kal Ho Naa Ho (2003)\", \"yref\": \"y\"}, {\"font\": {\"color\": \"#910838\", \"family\": \"Arial\", \"size\": 12}, \"showarrow\": false, \"text\": \"62%\", \"x\": 67.5, \"xref\": \"x\", \"y\": \"Kabhi Khushi Kabhie Gham... (2001)\", \"yref\": \"y\"}, {\"font\": {\"color\": \"#910838\", \"family\": \"Arial\", \"size\": 12}, \"showarrow\": false, \"text\": \"83%\", \"x\": 88.33333333333334, \"xref\": \"x\", \"y\": \"Kuch Kuch Hota Hai (1998)\", \"yref\": \"y\"}], \"autosize\": false, \"height\": 1000, \"margin\": {\"t\": 10}, \"plot_bgcolor\": \"rgba(242, 241, 239, 1)\", \"template\": {\"data\": {\"bar\": [{\"error_x\": {\"color\": \"#2a3f5f\"}, \"error_y\": {\"color\": \"#2a3f5f\"}, \"marker\": {\"line\": {\"color\": \"#E5ECF6\", \"width\": 0.5}}, \"type\": \"bar\"}], \"barpolar\": [{\"marker\": {\"line\": {\"color\": \"#E5ECF6\", \"width\": 0.5}}, \"type\": \"barpolar\"}], \"carpet\": [{\"aaxis\": {\"endlinecolor\": \"#2a3f5f\", \"gridcolor\": \"white\", \"linecolor\": \"white\", \"minorgridcolor\": \"white\", \"startlinecolor\": \"#2a3f5f\"}, \"baxis\": {\"endlinecolor\": \"#2a3f5f\", \"gridcolor\": \"white\", \"linecolor\": \"white\", \"minorgridcolor\": \"white\", \"startlinecolor\": \"#2a3f5f\"}, \"type\": \"carpet\"}], \"choropleth\": [{\"colorbar\": {\"outlinewidth\": 0, \"ticks\": \"\"}, \"type\": \"choropleth\"}], \"contour\": [{\"colorbar\": {\"outlinewidth\": 0, \"ticks\": \"\"}, \"colorscale\": [[0.0, \"#0d0887\"], [0.1111111111111111, \"#46039f\"], [0.2222222222222222, \"#7201a8\"], [0.3333333333333333, \"#9c179e\"], [0.4444444444444444, \"#bd3786\"], [0.5555555555555556, \"#d8576b\"], [0.6666666666666666, \"#ed7953\"], [0.7777777777777778, \"#fb9f3a\"], [0.8888888888888888, \"#fdca26\"], [1.0, \"#f0f921\"]], \"type\": \"contour\"}], \"contourcarpet\": [{\"colorbar\": {\"outlinewidth\": 0, \"ticks\": \"\"}, \"type\": \"contourcarpet\"}], \"heatmap\": [{\"colorbar\": {\"outlinewidth\": 0, \"ticks\": \"\"}, \"colorscale\": [[0.0, \"#0d0887\"], [0.1111111111111111, \"#46039f\"], [0.2222222222222222, \"#7201a8\"], [0.3333333333333333, \"#9c179e\"], [0.4444444444444444, \"#bd3786\"], [0.5555555555555556, \"#d8576b\"], [0.6666666666666666, \"#ed7953\"], [0.7777777777777778, \"#fb9f3a\"], [0.8888888888888888, \"#fdca26\"], [1.0, \"#f0f921\"]], \"type\": \"heatmap\"}], \"heatmapgl\": [{\"colorbar\": {\"outlinewidth\": 0, \"ticks\": \"\"}, \"colorscale\": [[0.0, \"#0d0887\"], [0.1111111111111111, \"#46039f\"], [0.2222222222222222, \"#7201a8\"], [0.3333333333333333, \"#9c179e\"], [0.4444444444444444, \"#bd3786\"], [0.5555555555555556, \"#d8576b\"], [0.6666666666666666, \"#ed7953\"], [0.7777777777777778, \"#fb9f3a\"], [0.8888888888888888, \"#fdca26\"], [1.0, \"#f0f921\"]], \"type\": \"heatmapgl\"}], \"histogram\": [{\"marker\": {\"colorbar\": {\"outlinewidth\": 0, \"ticks\": \"\"}}, \"type\": \"histogram\"}], \"histogram2d\": [{\"colorbar\": {\"outlinewidth\": 0, \"ticks\": \"\"}, \"colorscale\": [[0.0, \"#0d0887\"], [0.1111111111111111, \"#46039f\"], [0.2222222222222222, \"#7201a8\"], [0.3333333333333333, \"#9c179e\"], [0.4444444444444444, \"#bd3786\"], [0.5555555555555556, \"#d8576b\"], [0.6666666666666666, \"#ed7953\"], [0.7777777777777778, \"#fb9f3a\"], [0.8888888888888888, \"#fdca26\"], [1.0, \"#f0f921\"]], \"type\": \"histogram2d\"}], \"histogram2dcontour\": [{\"colorbar\": {\"outlinewidth\": 0, \"ticks\": \"\"}, \"colorscale\": [[0.0, \"#0d0887\"], [0.1111111111111111, \"#46039f\"], [0.2222222222222222, \"#7201a8\"], [0.3333333333333333, \"#9c179e\"], [0.4444444444444444, \"#bd3786\"], [0.5555555555555556, \"#d8576b\"], [0.6666666666666666, \"#ed7953\"], [0.7777777777777778, \"#fb9f3a\"], [0.8888888888888888, \"#fdca26\"], [1.0, \"#f0f921\"]], \"type\": \"histogram2dcontour\"}], \"mesh3d\": [{\"colorbar\": {\"outlinewidth\": 0, \"ticks\": \"\"}, \"type\": \"mesh3d\"}], \"parcoords\": [{\"line\": {\"colorbar\": {\"outlinewidth\": 0, \"ticks\": \"\"}}, \"type\": \"parcoords\"}], \"pie\": [{\"automargin\": true, \"type\": \"pie\"}], \"scatter\": [{\"marker\": {\"colorbar\": {\"outlinewidth\": 0, \"ticks\": \"\"}}, \"type\": \"scatter\"}], \"scatter3d\": [{\"line\": {\"colorbar\": {\"outlinewidth\": 0, \"ticks\": \"\"}}, \"marker\": {\"colorbar\": {\"outlinewidth\": 0, \"ticks\": \"\"}}, \"type\": \"scatter3d\"}], \"scattercarpet\": [{\"marker\": {\"colorbar\": {\"outlinewidth\": 0, \"ticks\": \"\"}}, \"type\": \"scattercarpet\"}], \"scattergeo\": [{\"marker\": {\"colorbar\": {\"outlinewidth\": 0, \"ticks\": \"\"}}, \"type\": \"scattergeo\"}], \"scattergl\": [{\"marker\": {\"colorbar\": {\"outlinewidth\": 0, \"ticks\": \"\"}}, \"type\": \"scattergl\"}], \"scattermapbox\": [{\"marker\": {\"colorbar\": {\"outlinewidth\": 0, \"ticks\": \"\"}}, \"type\": \"scattermapbox\"}], \"scatterpolar\": [{\"marker\": {\"colorbar\": {\"outlinewidth\": 0, \"ticks\": \"\"}}, \"type\": \"scatterpolar\"}], \"scatterpolargl\": [{\"marker\": {\"colorbar\": {\"outlinewidth\": 0, \"ticks\": \"\"}}, \"type\": \"scatterpolargl\"}], \"scatterternary\": [{\"marker\": {\"colorbar\": {\"outlinewidth\": 0, \"ticks\": \"\"}}, \"type\": \"scatterternary\"}], \"surface\": [{\"colorbar\": {\"outlinewidth\": 0, \"ticks\": \"\"}, \"colorscale\": [[0.0, \"#0d0887\"], [0.1111111111111111, \"#46039f\"], [0.2222222222222222, \"#7201a8\"], [0.3333333333333333, \"#9c179e\"], [0.4444444444444444, \"#bd3786\"], [0.5555555555555556, \"#d8576b\"], [0.6666666666666666, \"#ed7953\"], [0.7777777777777778, \"#fb9f3a\"], [0.8888888888888888, \"#fdca26\"], [1.0, \"#f0f921\"]], \"type\": \"surface\"}], \"table\": [{\"cells\": {\"fill\": {\"color\": \"#EBF0F8\"}, \"line\": {\"color\": \"white\"}}, \"header\": {\"fill\": {\"color\": \"#C8D4E3\"}, \"line\": {\"color\": \"white\"}}, \"type\": \"table\"}]}, \"layout\": {\"annotationdefaults\": {\"arrowcolor\": \"#2a3f5f\", \"arrowhead\": 0, \"arrowwidth\": 1}, \"coloraxis\": {\"colorbar\": {\"outlinewidth\": 0, \"ticks\": \"\"}}, \"colorscale\": {\"diverging\": [[0, \"#8e0152\"], [0.1, \"#c51b7d\"], [0.2, \"#de77ae\"], [0.3, \"#f1b6da\"], [0.4, \"#fde0ef\"], [0.5, \"#f7f7f7\"], [0.6, \"#e6f5d0\"], [0.7, \"#b8e186\"], [0.8, \"#7fbc41\"], [0.9, \"#4d9221\"], [1, \"#276419\"]], \"sequential\": [[0.0, \"#0d0887\"], [0.1111111111111111, \"#46039f\"], [0.2222222222222222, \"#7201a8\"], [0.3333333333333333, \"#9c179e\"], [0.4444444444444444, \"#bd3786\"], [0.5555555555555556, \"#d8576b\"], [0.6666666666666666, \"#ed7953\"], [0.7777777777777778, \"#fb9f3a\"], [0.8888888888888888, \"#fdca26\"], [1.0, \"#f0f921\"]], \"sequentialminus\": [[0.0, \"#0d0887\"], [0.1111111111111111, \"#46039f\"], [0.2222222222222222, \"#7201a8\"], [0.3333333333333333, \"#9c179e\"], [0.4444444444444444, \"#bd3786\"], [0.5555555555555556, \"#d8576b\"], [0.6666666666666666, \"#ed7953\"], [0.7777777777777778, \"#fb9f3a\"], [0.8888888888888888, \"#fdca26\"], [1.0, \"#f0f921\"]]}, \"colorway\": [\"#636efa\", \"#EF553B\", \"#00cc96\", \"#ab63fa\", \"#FFA15A\", \"#19d3f3\", \"#FF6692\", \"#B6E880\", \"#FF97FF\", \"#FECB52\"], \"font\": {\"color\": \"#2a3f5f\"}, \"geo\": {\"bgcolor\": \"white\", \"lakecolor\": \"white\", \"landcolor\": \"#E5ECF6\", \"showlakes\": true, \"showland\": true, \"subunitcolor\": \"white\"}, \"hoverlabel\": {\"align\": \"left\"}, \"hovermode\": \"closest\", \"mapbox\": {\"style\": \"light\"}, \"paper_bgcolor\": \"white\", \"plot_bgcolor\": \"#E5ECF6\", \"polar\": {\"angularaxis\": {\"gridcolor\": \"white\", \"linecolor\": \"white\", \"ticks\": \"\"}, \"bgcolor\": \"#E5ECF6\", \"radialaxis\": {\"gridcolor\": \"white\", \"linecolor\": \"white\", \"ticks\": \"\"}}, \"scene\": {\"xaxis\": {\"backgroundcolor\": \"#E5ECF6\", \"gridcolor\": \"white\", \"gridwidth\": 2, \"linecolor\": \"white\", \"showbackground\": true, \"ticks\": \"\", \"zerolinecolor\": \"white\"}, \"yaxis\": {\"backgroundcolor\": \"#E5ECF6\", \"gridcolor\": \"white\", \"gridwidth\": 2, \"linecolor\": \"white\", \"showbackground\": true, \"ticks\": \"\", \"zerolinecolor\": \"white\"}, \"zaxis\": {\"backgroundcolor\": \"#E5ECF6\", \"gridcolor\": \"white\", \"gridwidth\": 2, \"linecolor\": \"white\", \"showbackground\": true, \"ticks\": \"\", \"zerolinecolor\": \"white\"}}, \"shapedefaults\": {\"line\": {\"color\": \"#2a3f5f\"}}, \"ternary\": {\"aaxis\": {\"gridcolor\": \"white\", \"linecolor\": \"white\", \"ticks\": \"\"}, \"baxis\": {\"gridcolor\": \"white\", \"linecolor\": \"white\", \"ticks\": \"\"}, \"bgcolor\": \"#E5ECF6\", \"caxis\": {\"gridcolor\": \"white\", \"linecolor\": \"white\", \"ticks\": \"\"}}, \"title\": {\"x\": 0.05}, \"xaxis\": {\"automargin\": true, \"gridcolor\": \"white\", \"linecolor\": \"white\", \"ticks\": \"\", \"title\": {\"standoff\": 15}, \"zerolinecolor\": \"white\", \"zerolinewidth\": 2}, \"yaxis\": {\"automargin\": true, \"gridcolor\": \"white\", \"linecolor\": \"white\", \"ticks\": \"\", \"title\": {\"standoff\": 15}, \"zerolinecolor\": \"white\", \"zerolinewidth\": 2}}}, \"width\": 900, \"xaxis\": {\"title\": {\"text\": \"<b>Nepotic level (%)<b>\"}}, \"yaxis\": {\"showgrid\": false, \"title\": {\"text\": \"<b>Dharma Productions movies since Karan Johar stepped in (year of release) <b>\"}}},\n",
       "                        {\"responsive\": true}\n",
       "                    ).then(function(){\n",
       "                            \n",
       "var gd = document.getElementById('9ae6f8e6-3eaf-4eca-88cf-40ddc95e4a78');\n",
       "var x = new MutationObserver(function (mutations, observer) {{\n",
       "        var display = window.getComputedStyle(gd).display;\n",
       "        if (!display || display === 'none') {{\n",
       "            console.log([gd, 'removed!']);\n",
       "            Plotly.purge(gd);\n",
       "            observer.disconnect();\n",
       "        }}\n",
       "}});\n",
       "\n",
       "// Listen for the removal of the full notebook cells\n",
       "var notebookContainer = gd.closest('#notebook-container');\n",
       "if (notebookContainer) {{\n",
       "    x.observe(notebookContainer, {childList: true});\n",
       "}}\n",
       "\n",
       "// Listen for the clearing of the current output cell\n",
       "var outputEl = gd.closest('.output');\n",
       "if (outputEl) {{\n",
       "    x.observe(outputEl, {childList: true});\n",
       "}}\n",
       "\n",
       "                        })\n",
       "                };\n",
       "                });\n",
       "            </script>\n",
       "        </div>"
      ]
     },
     "metadata": {},
     "output_type": "display_data"
    }
   ],
   "source": [
    "# Visualization\n",
    "fig = go.Figure(go.Bar(\n",
    "            x=nepotic_percent,\n",
    "            y=movies,\n",
    "            orientation='h',\n",
    "            marker=dict(\n",
    "            color=color_teal)\n",
    "               ))\n",
    "\n",
    "fig.update_layout(\n",
    "    autosize=False,\n",
    "    width=900,\n",
    "    height=1000,\n",
    "    xaxis = dict(title=\"<b>Nepotic level (%)<b>\"),\n",
    "    yaxis = dict(title=\"<b>Dharma Productions movies since Karan Johar stepped in (year of release) <b>\",\n",
    "                showgrid=False),\n",
    "    plot_bgcolor= 'rgba(242, 241, 239, 1)',\n",
    "    margin=go.layout.Margin(\n",
    "        t=10, #top margin\n",
    "    )\n",
    ")\n",
    "\n",
    "annotations = []\n",
    "\n",
    "label_text = []\n",
    "for i, v in enumerate(nepotic_percent):\n",
    "    label_text.append(str(round(v)))\n",
    "        \n",
    "for label, yd, xd in zip(label_text, nepotic_percent, movies):\n",
    "    # labeling the scatter savings\n",
    "    annotations.append(dict(xref='x1', yref='y1',\n",
    "                            y=xd, x=yd + 5,\n",
    "                            text=label + '%',\n",
    "                            font=dict(family='Arial', size=12,\n",
    "                                      color=color_plum),\n",
    "                            showarrow=False))\n",
    "    \n",
    "fig.update_layout(annotations=annotations)\n",
    "\n",
    "fig.show()\n",
    "\n",
    "fig.write_image(\"kj_movie_nepotic_percentage.png\", engine=\"kaleido\", scale = 1.5)"
   ]
  },
  {
   "cell_type": "markdown",
   "metadata": {},
   "source": [
    "### Analysis #2: Number of movies above a certain nepotic threshold"
   ]
  },
  {
   "cell_type": "code",
   "execution_count": 293,
   "metadata": {},
   "outputs": [],
   "source": [
    "def get_movie_with_given_nepotic_range(movie_dict, nepotic_treshold_min, nepotic_threshold_max):\n",
    "    movie_count = 0\n",
    "    movie_threshold = 0\n",
    "    for movie in movie_dict:\n",
    "        movie_count += 1\n",
    "        movie_info = movie_dict[movie]\n",
    "        nepotic_percent, nepotic_crew_count, lead_crew_count = get_movie_nepotic_percentage(movie_info)\n",
    "        if nepotic_percent > nepotic_treshold_min and nepotic_percent <= nepotic_threshold_max:\n",
    "            movie_threshold += 1\n",
    "    return movie_threshold, movie_count\n",
    "\n",
    "# Nepotic values\n",
    "nepotic_threshold_fifth = 20\n",
    "nepotic_threshold_quarter = 25\n",
    "nepotic_threshold_third = 33.3\n",
    "nepotic_threshold_half = 50\n",
    "movie_threshold_fifth, movie_count = get_movie_with_given_nepotic_range(dict_movie_info_cleaned, nepotic_threshold_fifth, 100)\n",
    "movie_threshold_quarter, movie_count = get_movie_with_given_nepotic_range(dict_movie_info_cleaned, nepotic_threshold_quarter, 100)\n",
    "movie_threshold_third, movie_count = get_movie_with_given_nepotic_range(dict_movie_info_cleaned, nepotic_threshold_third, 100)\n",
    "movie_threshold_half, movie_count = get_movie_with_given_nepotic_range(dict_movie_info_cleaned, nepotic_threshold_half, 100)\n",
    "\n",
    "# data = {'Total':movie_count, 'Over 20% nepotic':movie_threshold_fifth, \n",
    "#         'Over 25% nepotic': movie_threshold_quarter, 'Over 33.3% nepotic':movie_threshold_third, \n",
    "#         'Over 50% nepotic': movie_threshold_half} \n",
    "\n",
    "data = {'Total movies':movie_count,\n",
    "         'Highly nepotic movies': movie_threshold_half,\n",
    "        'Non-highly nepotic movies': movie_count - movie_threshold_half} \n",
    "\n",
    "movies = list(data.keys()) \n",
    "values = list(data.values()) "
   ]
  },
  {
   "cell_type": "code",
   "execution_count": 294,
   "metadata": {},
   "outputs": [
    {
     "data": {
      "application/vnd.plotly.v1+json": {
       "config": {
        "plotlyServerURL": "https://plot.ly"
       },
       "data": [
        {
         "marker": {
          "color": [
           "#258193",
           "#910838",
           "#064273"
          ]
         },
         "text": [
          "45",
          "33",
          "12"
         ],
         "textposition": "auto",
         "type": "bar",
         "x": [
          "Total movies",
          "Highly nepotic movies",
          "Non-highly nepotic movies"
         ],
         "y": [
          45,
          33,
          12
         ]
        }
       ],
       "layout": {
        "autosize": false,
        "height": 500,
        "margin": {
         "t": 10
        },
        "plot_bgcolor": "rgba(242, 241, 239, 1)",
        "template": {
         "data": {
          "bar": [
           {
            "error_x": {
             "color": "#2a3f5f"
            },
            "error_y": {
             "color": "#2a3f5f"
            },
            "marker": {
             "line": {
              "color": "#E5ECF6",
              "width": 0.5
             }
            },
            "type": "bar"
           }
          ],
          "barpolar": [
           {
            "marker": {
             "line": {
              "color": "#E5ECF6",
              "width": 0.5
             }
            },
            "type": "barpolar"
           }
          ],
          "carpet": [
           {
            "aaxis": {
             "endlinecolor": "#2a3f5f",
             "gridcolor": "white",
             "linecolor": "white",
             "minorgridcolor": "white",
             "startlinecolor": "#2a3f5f"
            },
            "baxis": {
             "endlinecolor": "#2a3f5f",
             "gridcolor": "white",
             "linecolor": "white",
             "minorgridcolor": "white",
             "startlinecolor": "#2a3f5f"
            },
            "type": "carpet"
           }
          ],
          "choropleth": [
           {
            "colorbar": {
             "outlinewidth": 0,
             "ticks": ""
            },
            "type": "choropleth"
           }
          ],
          "contour": [
           {
            "colorbar": {
             "outlinewidth": 0,
             "ticks": ""
            },
            "colorscale": [
             [
              0,
              "#0d0887"
             ],
             [
              0.1111111111111111,
              "#46039f"
             ],
             [
              0.2222222222222222,
              "#7201a8"
             ],
             [
              0.3333333333333333,
              "#9c179e"
             ],
             [
              0.4444444444444444,
              "#bd3786"
             ],
             [
              0.5555555555555556,
              "#d8576b"
             ],
             [
              0.6666666666666666,
              "#ed7953"
             ],
             [
              0.7777777777777778,
              "#fb9f3a"
             ],
             [
              0.8888888888888888,
              "#fdca26"
             ],
             [
              1,
              "#f0f921"
             ]
            ],
            "type": "contour"
           }
          ],
          "contourcarpet": [
           {
            "colorbar": {
             "outlinewidth": 0,
             "ticks": ""
            },
            "type": "contourcarpet"
           }
          ],
          "heatmap": [
           {
            "colorbar": {
             "outlinewidth": 0,
             "ticks": ""
            },
            "colorscale": [
             [
              0,
              "#0d0887"
             ],
             [
              0.1111111111111111,
              "#46039f"
             ],
             [
              0.2222222222222222,
              "#7201a8"
             ],
             [
              0.3333333333333333,
              "#9c179e"
             ],
             [
              0.4444444444444444,
              "#bd3786"
             ],
             [
              0.5555555555555556,
              "#d8576b"
             ],
             [
              0.6666666666666666,
              "#ed7953"
             ],
             [
              0.7777777777777778,
              "#fb9f3a"
             ],
             [
              0.8888888888888888,
              "#fdca26"
             ],
             [
              1,
              "#f0f921"
             ]
            ],
            "type": "heatmap"
           }
          ],
          "heatmapgl": [
           {
            "colorbar": {
             "outlinewidth": 0,
             "ticks": ""
            },
            "colorscale": [
             [
              0,
              "#0d0887"
             ],
             [
              0.1111111111111111,
              "#46039f"
             ],
             [
              0.2222222222222222,
              "#7201a8"
             ],
             [
              0.3333333333333333,
              "#9c179e"
             ],
             [
              0.4444444444444444,
              "#bd3786"
             ],
             [
              0.5555555555555556,
              "#d8576b"
             ],
             [
              0.6666666666666666,
              "#ed7953"
             ],
             [
              0.7777777777777778,
              "#fb9f3a"
             ],
             [
              0.8888888888888888,
              "#fdca26"
             ],
             [
              1,
              "#f0f921"
             ]
            ],
            "type": "heatmapgl"
           }
          ],
          "histogram": [
           {
            "marker": {
             "colorbar": {
              "outlinewidth": 0,
              "ticks": ""
             }
            },
            "type": "histogram"
           }
          ],
          "histogram2d": [
           {
            "colorbar": {
             "outlinewidth": 0,
             "ticks": ""
            },
            "colorscale": [
             [
              0,
              "#0d0887"
             ],
             [
              0.1111111111111111,
              "#46039f"
             ],
             [
              0.2222222222222222,
              "#7201a8"
             ],
             [
              0.3333333333333333,
              "#9c179e"
             ],
             [
              0.4444444444444444,
              "#bd3786"
             ],
             [
              0.5555555555555556,
              "#d8576b"
             ],
             [
              0.6666666666666666,
              "#ed7953"
             ],
             [
              0.7777777777777778,
              "#fb9f3a"
             ],
             [
              0.8888888888888888,
              "#fdca26"
             ],
             [
              1,
              "#f0f921"
             ]
            ],
            "type": "histogram2d"
           }
          ],
          "histogram2dcontour": [
           {
            "colorbar": {
             "outlinewidth": 0,
             "ticks": ""
            },
            "colorscale": [
             [
              0,
              "#0d0887"
             ],
             [
              0.1111111111111111,
              "#46039f"
             ],
             [
              0.2222222222222222,
              "#7201a8"
             ],
             [
              0.3333333333333333,
              "#9c179e"
             ],
             [
              0.4444444444444444,
              "#bd3786"
             ],
             [
              0.5555555555555556,
              "#d8576b"
             ],
             [
              0.6666666666666666,
              "#ed7953"
             ],
             [
              0.7777777777777778,
              "#fb9f3a"
             ],
             [
              0.8888888888888888,
              "#fdca26"
             ],
             [
              1,
              "#f0f921"
             ]
            ],
            "type": "histogram2dcontour"
           }
          ],
          "mesh3d": [
           {
            "colorbar": {
             "outlinewidth": 0,
             "ticks": ""
            },
            "type": "mesh3d"
           }
          ],
          "parcoords": [
           {
            "line": {
             "colorbar": {
              "outlinewidth": 0,
              "ticks": ""
             }
            },
            "type": "parcoords"
           }
          ],
          "pie": [
           {
            "automargin": true,
            "type": "pie"
           }
          ],
          "scatter": [
           {
            "marker": {
             "colorbar": {
              "outlinewidth": 0,
              "ticks": ""
             }
            },
            "type": "scatter"
           }
          ],
          "scatter3d": [
           {
            "line": {
             "colorbar": {
              "outlinewidth": 0,
              "ticks": ""
             }
            },
            "marker": {
             "colorbar": {
              "outlinewidth": 0,
              "ticks": ""
             }
            },
            "type": "scatter3d"
           }
          ],
          "scattercarpet": [
           {
            "marker": {
             "colorbar": {
              "outlinewidth": 0,
              "ticks": ""
             }
            },
            "type": "scattercarpet"
           }
          ],
          "scattergeo": [
           {
            "marker": {
             "colorbar": {
              "outlinewidth": 0,
              "ticks": ""
             }
            },
            "type": "scattergeo"
           }
          ],
          "scattergl": [
           {
            "marker": {
             "colorbar": {
              "outlinewidth": 0,
              "ticks": ""
             }
            },
            "type": "scattergl"
           }
          ],
          "scattermapbox": [
           {
            "marker": {
             "colorbar": {
              "outlinewidth": 0,
              "ticks": ""
             }
            },
            "type": "scattermapbox"
           }
          ],
          "scatterpolar": [
           {
            "marker": {
             "colorbar": {
              "outlinewidth": 0,
              "ticks": ""
             }
            },
            "type": "scatterpolar"
           }
          ],
          "scatterpolargl": [
           {
            "marker": {
             "colorbar": {
              "outlinewidth": 0,
              "ticks": ""
             }
            },
            "type": "scatterpolargl"
           }
          ],
          "scatterternary": [
           {
            "marker": {
             "colorbar": {
              "outlinewidth": 0,
              "ticks": ""
             }
            },
            "type": "scatterternary"
           }
          ],
          "surface": [
           {
            "colorbar": {
             "outlinewidth": 0,
             "ticks": ""
            },
            "colorscale": [
             [
              0,
              "#0d0887"
             ],
             [
              0.1111111111111111,
              "#46039f"
             ],
             [
              0.2222222222222222,
              "#7201a8"
             ],
             [
              0.3333333333333333,
              "#9c179e"
             ],
             [
              0.4444444444444444,
              "#bd3786"
             ],
             [
              0.5555555555555556,
              "#d8576b"
             ],
             [
              0.6666666666666666,
              "#ed7953"
             ],
             [
              0.7777777777777778,
              "#fb9f3a"
             ],
             [
              0.8888888888888888,
              "#fdca26"
             ],
             [
              1,
              "#f0f921"
             ]
            ],
            "type": "surface"
           }
          ],
          "table": [
           {
            "cells": {
             "fill": {
              "color": "#EBF0F8"
             },
             "line": {
              "color": "white"
             }
            },
            "header": {
             "fill": {
              "color": "#C8D4E3"
             },
             "line": {
              "color": "white"
             }
            },
            "type": "table"
           }
          ]
         },
         "layout": {
          "annotationdefaults": {
           "arrowcolor": "#2a3f5f",
           "arrowhead": 0,
           "arrowwidth": 1
          },
          "coloraxis": {
           "colorbar": {
            "outlinewidth": 0,
            "ticks": ""
           }
          },
          "colorscale": {
           "diverging": [
            [
             0,
             "#8e0152"
            ],
            [
             0.1,
             "#c51b7d"
            ],
            [
             0.2,
             "#de77ae"
            ],
            [
             0.3,
             "#f1b6da"
            ],
            [
             0.4,
             "#fde0ef"
            ],
            [
             0.5,
             "#f7f7f7"
            ],
            [
             0.6,
             "#e6f5d0"
            ],
            [
             0.7,
             "#b8e186"
            ],
            [
             0.8,
             "#7fbc41"
            ],
            [
             0.9,
             "#4d9221"
            ],
            [
             1,
             "#276419"
            ]
           ],
           "sequential": [
            [
             0,
             "#0d0887"
            ],
            [
             0.1111111111111111,
             "#46039f"
            ],
            [
             0.2222222222222222,
             "#7201a8"
            ],
            [
             0.3333333333333333,
             "#9c179e"
            ],
            [
             0.4444444444444444,
             "#bd3786"
            ],
            [
             0.5555555555555556,
             "#d8576b"
            ],
            [
             0.6666666666666666,
             "#ed7953"
            ],
            [
             0.7777777777777778,
             "#fb9f3a"
            ],
            [
             0.8888888888888888,
             "#fdca26"
            ],
            [
             1,
             "#f0f921"
            ]
           ],
           "sequentialminus": [
            [
             0,
             "#0d0887"
            ],
            [
             0.1111111111111111,
             "#46039f"
            ],
            [
             0.2222222222222222,
             "#7201a8"
            ],
            [
             0.3333333333333333,
             "#9c179e"
            ],
            [
             0.4444444444444444,
             "#bd3786"
            ],
            [
             0.5555555555555556,
             "#d8576b"
            ],
            [
             0.6666666666666666,
             "#ed7953"
            ],
            [
             0.7777777777777778,
             "#fb9f3a"
            ],
            [
             0.8888888888888888,
             "#fdca26"
            ],
            [
             1,
             "#f0f921"
            ]
           ]
          },
          "colorway": [
           "#636efa",
           "#EF553B",
           "#00cc96",
           "#ab63fa",
           "#FFA15A",
           "#19d3f3",
           "#FF6692",
           "#B6E880",
           "#FF97FF",
           "#FECB52"
          ],
          "font": {
           "color": "#2a3f5f"
          },
          "geo": {
           "bgcolor": "white",
           "lakecolor": "white",
           "landcolor": "#E5ECF6",
           "showlakes": true,
           "showland": true,
           "subunitcolor": "white"
          },
          "hoverlabel": {
           "align": "left"
          },
          "hovermode": "closest",
          "mapbox": {
           "style": "light"
          },
          "paper_bgcolor": "white",
          "plot_bgcolor": "#E5ECF6",
          "polar": {
           "angularaxis": {
            "gridcolor": "white",
            "linecolor": "white",
            "ticks": ""
           },
           "bgcolor": "#E5ECF6",
           "radialaxis": {
            "gridcolor": "white",
            "linecolor": "white",
            "ticks": ""
           }
          },
          "scene": {
           "xaxis": {
            "backgroundcolor": "#E5ECF6",
            "gridcolor": "white",
            "gridwidth": 2,
            "linecolor": "white",
            "showbackground": true,
            "ticks": "",
            "zerolinecolor": "white"
           },
           "yaxis": {
            "backgroundcolor": "#E5ECF6",
            "gridcolor": "white",
            "gridwidth": 2,
            "linecolor": "white",
            "showbackground": true,
            "ticks": "",
            "zerolinecolor": "white"
           },
           "zaxis": {
            "backgroundcolor": "#E5ECF6",
            "gridcolor": "white",
            "gridwidth": 2,
            "linecolor": "white",
            "showbackground": true,
            "ticks": "",
            "zerolinecolor": "white"
           }
          },
          "shapedefaults": {
           "line": {
            "color": "#2a3f5f"
           }
          },
          "ternary": {
           "aaxis": {
            "gridcolor": "white",
            "linecolor": "white",
            "ticks": ""
           },
           "baxis": {
            "gridcolor": "white",
            "linecolor": "white",
            "ticks": ""
           },
           "bgcolor": "#E5ECF6",
           "caxis": {
            "gridcolor": "white",
            "linecolor": "white",
            "ticks": ""
           }
          },
          "title": {
           "x": 0.05
          },
          "xaxis": {
           "automargin": true,
           "gridcolor": "white",
           "linecolor": "white",
           "ticks": "",
           "title": {
            "standoff": 15
           },
           "zerolinecolor": "white",
           "zerolinewidth": 2
          },
          "yaxis": {
           "automargin": true,
           "gridcolor": "white",
           "linecolor": "white",
           "ticks": "",
           "title": {
            "standoff": 15
           },
           "zerolinecolor": "white",
           "zerolinewidth": 2
          }
         }
        },
        "width": 500,
        "xaxis": {
         "autorange": true,
         "range": [
          -0.5,
          2.5
         ],
         "showgrid": false,
         "type": "category"
        },
        "yaxis": {
         "autorange": true,
         "range": [
          0,
          47.368421052631575
         ],
         "title": {
          "text": "<b> Number of movies <b>"
         },
         "type": "linear"
        }
       }
      },
      "image/png": "[encoded data removed]",
      "text/html": [
       "<div>\n",
       "        \n",
       "        \n",
       "            <div id=\"d717c7b5-bd9f-46f1-8712-4ad3a240044a\" class=\"plotly-graph-div\" style=\"height:500px; width:500px;\"></div>\n",
       "            <script type=\"text/javascript\">\n",
       "                require([\"plotly\"], function(Plotly) {\n",
       "                    window.PLOTLYENV=window.PLOTLYENV || {};\n",
       "                    \n",
       "                if (document.getElementById(\"d717c7b5-bd9f-46f1-8712-4ad3a240044a\")) {\n",
       "                    Plotly.newPlot(\n",
       "                        'd717c7b5-bd9f-46f1-8712-4ad3a240044a',\n",
       "                        [{\"marker\": {\"color\": [\"#258193\", \"#910838\", \"#064273\"]}, \"text\": [\"45\", \"33\", \"12\"], \"textposition\": \"auto\", \"type\": \"bar\", \"x\": [\"Total movies\", \"Highly nepotic movies\", \"Non-highly nepotic movies\"], \"y\": [45, 33, 12]}],\n",
       "                        {\"autosize\": false, \"height\": 500, \"margin\": {\"t\": 10}, \"plot_bgcolor\": \"rgba(242, 241, 239, 1)\", \"template\": {\"data\": {\"bar\": [{\"error_x\": {\"color\": \"#2a3f5f\"}, \"error_y\": {\"color\": \"#2a3f5f\"}, \"marker\": {\"line\": {\"color\": \"#E5ECF6\", \"width\": 0.5}}, \"type\": \"bar\"}], \"barpolar\": [{\"marker\": {\"line\": {\"color\": \"#E5ECF6\", \"width\": 0.5}}, \"type\": \"barpolar\"}], \"carpet\": [{\"aaxis\": {\"endlinecolor\": \"#2a3f5f\", \"gridcolor\": \"white\", \"linecolor\": \"white\", \"minorgridcolor\": \"white\", \"startlinecolor\": \"#2a3f5f\"}, \"baxis\": {\"endlinecolor\": \"#2a3f5f\", \"gridcolor\": \"white\", \"linecolor\": \"white\", \"minorgridcolor\": \"white\", \"startlinecolor\": \"#2a3f5f\"}, \"type\": \"carpet\"}], \"choropleth\": [{\"colorbar\": {\"outlinewidth\": 0, \"ticks\": \"\"}, \"type\": \"choropleth\"}], \"contour\": [{\"colorbar\": {\"outlinewidth\": 0, \"ticks\": \"\"}, \"colorscale\": [[0.0, \"#0d0887\"], [0.1111111111111111, \"#46039f\"], [0.2222222222222222, \"#7201a8\"], [0.3333333333333333, \"#9c179e\"], [0.4444444444444444, \"#bd3786\"], [0.5555555555555556, \"#d8576b\"], [0.6666666666666666, \"#ed7953\"], [0.7777777777777778, \"#fb9f3a\"], [0.8888888888888888, \"#fdca26\"], [1.0, \"#f0f921\"]], \"type\": \"contour\"}], \"contourcarpet\": [{\"colorbar\": {\"outlinewidth\": 0, \"ticks\": \"\"}, \"type\": \"contourcarpet\"}], \"heatmap\": [{\"colorbar\": {\"outlinewidth\": 0, \"ticks\": \"\"}, \"colorscale\": [[0.0, \"#0d0887\"], [0.1111111111111111, \"#46039f\"], [0.2222222222222222, \"#7201a8\"], [0.3333333333333333, \"#9c179e\"], [0.4444444444444444, \"#bd3786\"], [0.5555555555555556, \"#d8576b\"], [0.6666666666666666, \"#ed7953\"], [0.7777777777777778, \"#fb9f3a\"], [0.8888888888888888, \"#fdca26\"], [1.0, \"#f0f921\"]], \"type\": \"heatmap\"}], \"heatmapgl\": [{\"colorbar\": {\"outlinewidth\": 0, \"ticks\": \"\"}, \"colorscale\": [[0.0, \"#0d0887\"], [0.1111111111111111, \"#46039f\"], [0.2222222222222222, \"#7201a8\"], [0.3333333333333333, \"#9c179e\"], [0.4444444444444444, \"#bd3786\"], [0.5555555555555556, \"#d8576b\"], [0.6666666666666666, \"#ed7953\"], [0.7777777777777778, \"#fb9f3a\"], [0.8888888888888888, \"#fdca26\"], [1.0, \"#f0f921\"]], \"type\": \"heatmapgl\"}], \"histogram\": [{\"marker\": {\"colorbar\": {\"outlinewidth\": 0, \"ticks\": \"\"}}, \"type\": \"histogram\"}], \"histogram2d\": [{\"colorbar\": {\"outlinewidth\": 0, \"ticks\": \"\"}, \"colorscale\": [[0.0, \"#0d0887\"], [0.1111111111111111, \"#46039f\"], [0.2222222222222222, \"#7201a8\"], [0.3333333333333333, \"#9c179e\"], [0.4444444444444444, \"#bd3786\"], [0.5555555555555556, \"#d8576b\"], [0.6666666666666666, \"#ed7953\"], [0.7777777777777778, \"#fb9f3a\"], [0.8888888888888888, \"#fdca26\"], [1.0, \"#f0f921\"]], \"type\": \"histogram2d\"}], \"histogram2dcontour\": [{\"colorbar\": {\"outlinewidth\": 0, \"ticks\": \"\"}, \"colorscale\": [[0.0, \"#0d0887\"], [0.1111111111111111, \"#46039f\"], [0.2222222222222222, \"#7201a8\"], [0.3333333333333333, \"#9c179e\"], [0.4444444444444444, \"#bd3786\"], [0.5555555555555556, \"#d8576b\"], [0.6666666666666666, \"#ed7953\"], [0.7777777777777778, \"#fb9f3a\"], [0.8888888888888888, \"#fdca26\"], [1.0, \"#f0f921\"]], \"type\": \"histogram2dcontour\"}], \"mesh3d\": [{\"colorbar\": {\"outlinewidth\": 0, \"ticks\": \"\"}, \"type\": \"mesh3d\"}], \"parcoords\": [{\"line\": {\"colorbar\": {\"outlinewidth\": 0, \"ticks\": \"\"}}, \"type\": \"parcoords\"}], \"pie\": [{\"automargin\": true, \"type\": \"pie\"}], \"scatter\": [{\"marker\": {\"colorbar\": {\"outlinewidth\": 0, \"ticks\": \"\"}}, \"type\": \"scatter\"}], \"scatter3d\": [{\"line\": {\"colorbar\": {\"outlinewidth\": 0, \"ticks\": \"\"}}, \"marker\": {\"colorbar\": {\"outlinewidth\": 0, \"ticks\": \"\"}}, \"type\": \"scatter3d\"}], \"scattercarpet\": [{\"marker\": {\"colorbar\": {\"outlinewidth\": 0, \"ticks\": \"\"}}, \"type\": \"scattercarpet\"}], \"scattergeo\": [{\"marker\": {\"colorbar\": {\"outlinewidth\": 0, \"ticks\": \"\"}}, \"type\": \"scattergeo\"}], \"scattergl\": [{\"marker\": {\"colorbar\": {\"outlinewidth\": 0, \"ticks\": \"\"}}, \"type\": \"scattergl\"}], \"scattermapbox\": [{\"marker\": {\"colorbar\": {\"outlinewidth\": 0, \"ticks\": \"\"}}, \"type\": \"scattermapbox\"}], \"scatterpolar\": [{\"marker\": {\"colorbar\": {\"outlinewidth\": 0, \"ticks\": \"\"}}, \"type\": \"scatterpolar\"}], \"scatterpolargl\": [{\"marker\": {\"colorbar\": {\"outlinewidth\": 0, \"ticks\": \"\"}}, \"type\": \"scatterpolargl\"}], \"scatterternary\": [{\"marker\": {\"colorbar\": {\"outlinewidth\": 0, \"ticks\": \"\"}}, \"type\": \"scatterternary\"}], \"surface\": [{\"colorbar\": {\"outlinewidth\": 0, \"ticks\": \"\"}, \"colorscale\": [[0.0, \"#0d0887\"], [0.1111111111111111, \"#46039f\"], [0.2222222222222222, \"#7201a8\"], [0.3333333333333333, \"#9c179e\"], [0.4444444444444444, \"#bd3786\"], [0.5555555555555556, \"#d8576b\"], [0.6666666666666666, \"#ed7953\"], [0.7777777777777778, \"#fb9f3a\"], [0.8888888888888888, \"#fdca26\"], [1.0, \"#f0f921\"]], \"type\": \"surface\"}], \"table\": [{\"cells\": {\"fill\": {\"color\": \"#EBF0F8\"}, \"line\": {\"color\": \"white\"}}, \"header\": {\"fill\": {\"color\": \"#C8D4E3\"}, \"line\": {\"color\": \"white\"}}, \"type\": \"table\"}]}, \"layout\": {\"annotationdefaults\": {\"arrowcolor\": \"#2a3f5f\", \"arrowhead\": 0, \"arrowwidth\": 1}, \"coloraxis\": {\"colorbar\": {\"outlinewidth\": 0, \"ticks\": \"\"}}, \"colorscale\": {\"diverging\": [[0, \"#8e0152\"], [0.1, \"#c51b7d\"], [0.2, \"#de77ae\"], [0.3, \"#f1b6da\"], [0.4, \"#fde0ef\"], [0.5, \"#f7f7f7\"], [0.6, \"#e6f5d0\"], [0.7, \"#b8e186\"], [0.8, \"#7fbc41\"], [0.9, \"#4d9221\"], [1, \"#276419\"]], \"sequential\": [[0.0, \"#0d0887\"], [0.1111111111111111, \"#46039f\"], [0.2222222222222222, \"#7201a8\"], [0.3333333333333333, \"#9c179e\"], [0.4444444444444444, \"#bd3786\"], [0.5555555555555556, \"#d8576b\"], [0.6666666666666666, \"#ed7953\"], [0.7777777777777778, \"#fb9f3a\"], [0.8888888888888888, \"#fdca26\"], [1.0, \"#f0f921\"]], \"sequentialminus\": [[0.0, \"#0d0887\"], [0.1111111111111111, \"#46039f\"], [0.2222222222222222, \"#7201a8\"], [0.3333333333333333, \"#9c179e\"], [0.4444444444444444, \"#bd3786\"], [0.5555555555555556, \"#d8576b\"], [0.6666666666666666, \"#ed7953\"], [0.7777777777777778, \"#fb9f3a\"], [0.8888888888888888, \"#fdca26\"], [1.0, \"#f0f921\"]]}, \"colorway\": [\"#636efa\", \"#EF553B\", \"#00cc96\", \"#ab63fa\", \"#FFA15A\", \"#19d3f3\", \"#FF6692\", \"#B6E880\", \"#FF97FF\", \"#FECB52\"], \"font\": {\"color\": \"#2a3f5f\"}, \"geo\": {\"bgcolor\": \"white\", \"lakecolor\": \"white\", \"landcolor\": \"#E5ECF6\", \"showlakes\": true, \"showland\": true, \"subunitcolor\": \"white\"}, \"hoverlabel\": {\"align\": \"left\"}, \"hovermode\": \"closest\", \"mapbox\": {\"style\": \"light\"}, \"paper_bgcolor\": \"white\", \"plot_bgcolor\": \"#E5ECF6\", \"polar\": {\"angularaxis\": {\"gridcolor\": \"white\", \"linecolor\": \"white\", \"ticks\": \"\"}, \"bgcolor\": \"#E5ECF6\", \"radialaxis\": {\"gridcolor\": \"white\", \"linecolor\": \"white\", \"ticks\": \"\"}}, \"scene\": {\"xaxis\": {\"backgroundcolor\": \"#E5ECF6\", \"gridcolor\": \"white\", \"gridwidth\": 2, \"linecolor\": \"white\", \"showbackground\": true, \"ticks\": \"\", \"zerolinecolor\": \"white\"}, \"yaxis\": {\"backgroundcolor\": \"#E5ECF6\", \"gridcolor\": \"white\", \"gridwidth\": 2, \"linecolor\": \"white\", \"showbackground\": true, \"ticks\": \"\", \"zerolinecolor\": \"white\"}, \"zaxis\": {\"backgroundcolor\": \"#E5ECF6\", \"gridcolor\": \"white\", \"gridwidth\": 2, \"linecolor\": \"white\", \"showbackground\": true, \"ticks\": \"\", \"zerolinecolor\": \"white\"}}, \"shapedefaults\": {\"line\": {\"color\": \"#2a3f5f\"}}, \"ternary\": {\"aaxis\": {\"gridcolor\": \"white\", \"linecolor\": \"white\", \"ticks\": \"\"}, \"baxis\": {\"gridcolor\": \"white\", \"linecolor\": \"white\", \"ticks\": \"\"}, \"bgcolor\": \"#E5ECF6\", \"caxis\": {\"gridcolor\": \"white\", \"linecolor\": \"white\", \"ticks\": \"\"}}, \"title\": {\"x\": 0.05}, \"xaxis\": {\"automargin\": true, \"gridcolor\": \"white\", \"linecolor\": \"white\", \"ticks\": \"\", \"title\": {\"standoff\": 15}, \"zerolinecolor\": \"white\", \"zerolinewidth\": 2}, \"yaxis\": {\"automargin\": true, \"gridcolor\": \"white\", \"linecolor\": \"white\", \"ticks\": \"\", \"title\": {\"standoff\": 15}, \"zerolinecolor\": \"white\", \"zerolinewidth\": 2}}}, \"width\": 500, \"xaxis\": {\"showgrid\": false}, \"yaxis\": {\"title\": {\"text\": \"<b> Number of movies <b>\"}}},\n",
       "                        {\"responsive\": true}\n",
       "                    ).then(function(){\n",
       "                            \n",
       "var gd = document.getElementById('d717c7b5-bd9f-46f1-8712-4ad3a240044a');\n",
       "var x = new MutationObserver(function (mutations, observer) {{\n",
       "        var display = window.getComputedStyle(gd).display;\n",
       "        if (!display || display === 'none') {{\n",
       "            console.log([gd, 'removed!']);\n",
       "            Plotly.purge(gd);\n",
       "            observer.disconnect();\n",
       "        }}\n",
       "}});\n",
       "\n",
       "// Listen for the removal of the full notebook cells\n",
       "var notebookContainer = gd.closest('#notebook-container');\n",
       "if (notebookContainer) {{\n",
       "    x.observe(notebookContainer, {childList: true});\n",
       "}}\n",
       "\n",
       "// Listen for the clearing of the current output cell\n",
       "var outputEl = gd.closest('.output');\n",
       "if (outputEl) {{\n",
       "    x.observe(outputEl, {childList: true});\n",
       "}}\n",
       "\n",
       "                        })\n",
       "                };\n",
       "                });\n",
       "            </script>\n",
       "        </div>"
      ]
     },
     "metadata": {},
     "output_type": "display_data"
    }
   ],
   "source": [
    "# Visualization\n",
    "fig = go.Figure(data=[go.Bar(\n",
    "            x=movies, y=values,\n",
    "            text=values,\n",
    "            textposition='auto',\n",
    "            marker=dict(color=[color_teal, color_plum, '#064273'])\n",
    "        )])\n",
    "\n",
    "fig.update_layout(\n",
    "    autosize=False,\n",
    "    width=500,\n",
    "    height=500,\n",
    "    xaxis = dict(showgrid = False),\n",
    "    yaxis = dict(title=\"<b> Number of movies <b>\"),\n",
    "    plot_bgcolor= 'rgba(242, 241, 239, 1)',\n",
    "    margin=go.layout.Margin(\n",
    "        t=10, #top margin\n",
    "    )\n",
    ")\n",
    "\n",
    "fig.show()\n",
    "\n",
    "fig.write_image(\"kj_movies_by_nepotic_level.png\", engine=\"kaleido\", scale = 2.5)"
   ]
  },
  {
   "cell_type": "markdown",
   "metadata": {},
   "source": [
    "### Analysis #3: Evolution of the proportion of nepotic movies over time"
   ]
  },
  {
   "cell_type": "code",
   "execution_count": 295,
   "metadata": {},
   "outputs": [],
   "source": [
    "def get_average_nepotic_level_over_time(movie_dict):\n",
    "    year_list = []\n",
    "    avg_nepotic_level_list = []\n",
    "    ratio_highly_nepotic = []\n",
    "    sum_nepotic_level = 0\n",
    "    count = 0\n",
    "    count_nepotic = 0\n",
    "    year_current = '1998'\n",
    "    for movie in movie_dict:\n",
    "        movie_info = movie_dict[movie]\n",
    "        movie_year = movie_info['Year']\n",
    "        if movie_year != year_current:\n",
    "            avg_nepotic_level_list.append(sum_nepotic_level/count)\n",
    "            ratio_highly_nepotic.append(count_nepotic/count*100)\n",
    "            year_list.append(int(year_current))\n",
    "            year_current = movie_year\n",
    "        count += 1\n",
    "        nepotic_percent, nepotic_crew_count, lead_crew_count = get_movie_nepotic_percentage(movie_info)\n",
    "        sum_nepotic_level += nepotic_percent\n",
    "        if nepotic_percent > 50:\n",
    "            count_nepotic += 1\n",
    "    avg_nepotic_level_list.append(sum_nepotic_level/count)\n",
    "    ratio_highly_nepotic.append(count_nepotic/count*100)\n",
    "    year_list.append(int(year_current))\n",
    "    return avg_nepotic_level_list, year_list, ratio_highly_nepotic\n",
    "            \n",
    "avg_nepotic_level_list, year_list, ratio_highly_nepotic = get_average_nepotic_level_over_time(dict_movie_info_cleaned)      \n"
   ]
  },
  {
   "cell_type": "code",
   "execution_count": 296,
   "metadata": {},
   "outputs": [
    {
     "data": {
      "application/vnd.plotly.v1+json": {
       "config": {
        "plotlyServerURL": "https://plot.ly"
       },
       "data": [
        {
         "marker": {
          "color": "#258193",
          "size": 10
         },
         "type": "scatter",
         "x": [
          1998,
          2001,
          2003,
          2005,
          2006,
          2008,
          2009,
          2010,
          2012,
          2013,
          2014,
          2015,
          2016,
          2017,
          2018,
          2019,
          2020
         ],
         "y": [
          100,
          100,
          100,
          75,
          80,
          83.33333333333334,
          87.5,
          90.9090909090909,
          92.85714285714286,
          83.33333333333334,
          81.81818181818183,
          75,
          71.42857142857143,
          74.19354838709677,
          76.47058823529412,
          74.35897435897436,
          73.33333333333333
         ]
        }
       ],
       "layout": {
        "autosize": false,
        "height": 500,
        "margin": {
         "t": 10
        },
        "plot_bgcolor": "rgba(242, 241, 239, 1)",
        "template": {
         "data": {
          "bar": [
           {
            "error_x": {
             "color": "#2a3f5f"
            },
            "error_y": {
             "color": "#2a3f5f"
            },
            "marker": {
             "line": {
              "color": "#E5ECF6",
              "width": 0.5
             }
            },
            "type": "bar"
           }
          ],
          "barpolar": [
           {
            "marker": {
             "line": {
              "color": "#E5ECF6",
              "width": 0.5
             }
            },
            "type": "barpolar"
           }
          ],
          "carpet": [
           {
            "aaxis": {
             "endlinecolor": "#2a3f5f",
             "gridcolor": "white",
             "linecolor": "white",
             "minorgridcolor": "white",
             "startlinecolor": "#2a3f5f"
            },
            "baxis": {
             "endlinecolor": "#2a3f5f",
             "gridcolor": "white",
             "linecolor": "white",
             "minorgridcolor": "white",
             "startlinecolor": "#2a3f5f"
            },
            "type": "carpet"
           }
          ],
          "choropleth": [
           {
            "colorbar": {
             "outlinewidth": 0,
             "ticks": ""
            },
            "type": "choropleth"
           }
          ],
          "contour": [
           {
            "colorbar": {
             "outlinewidth": 0,
             "ticks": ""
            },
            "colorscale": [
             [
              0,
              "#0d0887"
             ],
             [
              0.1111111111111111,
              "#46039f"
             ],
             [
              0.2222222222222222,
              "#7201a8"
             ],
             [
              0.3333333333333333,
              "#9c179e"
             ],
             [
              0.4444444444444444,
              "#bd3786"
             ],
             [
              0.5555555555555556,
              "#d8576b"
             ],
             [
              0.6666666666666666,
              "#ed7953"
             ],
             [
              0.7777777777777778,
              "#fb9f3a"
             ],
             [
              0.8888888888888888,
              "#fdca26"
             ],
             [
              1,
              "#f0f921"
             ]
            ],
            "type": "contour"
           }
          ],
          "contourcarpet": [
           {
            "colorbar": {
             "outlinewidth": 0,
             "ticks": ""
            },
            "type": "contourcarpet"
           }
          ],
          "heatmap": [
           {
            "colorbar": {
             "outlinewidth": 0,
             "ticks": ""
            },
            "colorscale": [
             [
              0,
              "#0d0887"
             ],
             [
              0.1111111111111111,
              "#46039f"
             ],
             [
              0.2222222222222222,
              "#7201a8"
             ],
             [
              0.3333333333333333,
              "#9c179e"
             ],
             [
              0.4444444444444444,
              "#bd3786"
             ],
             [
              0.5555555555555556,
              "#d8576b"
             ],
             [
              0.6666666666666666,
              "#ed7953"
             ],
             [
              0.7777777777777778,
              "#fb9f3a"
             ],
             [
              0.8888888888888888,
              "#fdca26"
             ],
             [
              1,
              "#f0f921"
             ]
            ],
            "type": "heatmap"
           }
          ],
          "heatmapgl": [
           {
            "colorbar": {
             "outlinewidth": 0,
             "ticks": ""
            },
            "colorscale": [
             [
              0,
              "#0d0887"
             ],
             [
              0.1111111111111111,
              "#46039f"
             ],
             [
              0.2222222222222222,
              "#7201a8"
             ],
             [
              0.3333333333333333,
              "#9c179e"
             ],
             [
              0.4444444444444444,
              "#bd3786"
             ],
             [
              0.5555555555555556,
              "#d8576b"
             ],
             [
              0.6666666666666666,
              "#ed7953"
             ],
             [
              0.7777777777777778,
              "#fb9f3a"
             ],
             [
              0.8888888888888888,
              "#fdca26"
             ],
             [
              1,
              "#f0f921"
             ]
            ],
            "type": "heatmapgl"
           }
          ],
          "histogram": [
           {
            "marker": {
             "colorbar": {
              "outlinewidth": 0,
              "ticks": ""
             }
            },
            "type": "histogram"
           }
          ],
          "histogram2d": [
           {
            "colorbar": {
             "outlinewidth": 0,
             "ticks": ""
            },
            "colorscale": [
             [
              0,
              "#0d0887"
             ],
             [
              0.1111111111111111,
              "#46039f"
             ],
             [
              0.2222222222222222,
              "#7201a8"
             ],
             [
              0.3333333333333333,
              "#9c179e"
             ],
             [
              0.4444444444444444,
              "#bd3786"
             ],
             [
              0.5555555555555556,
              "#d8576b"
             ],
             [
              0.6666666666666666,
              "#ed7953"
             ],
             [
              0.7777777777777778,
              "#fb9f3a"
             ],
             [
              0.8888888888888888,
              "#fdca26"
             ],
             [
              1,
              "#f0f921"
             ]
            ],
            "type": "histogram2d"
           }
          ],
          "histogram2dcontour": [
           {
            "colorbar": {
             "outlinewidth": 0,
             "ticks": ""
            },
            "colorscale": [
             [
              0,
              "#0d0887"
             ],
             [
              0.1111111111111111,
              "#46039f"
             ],
             [
              0.2222222222222222,
              "#7201a8"
             ],
             [
              0.3333333333333333,
              "#9c179e"
             ],
             [
              0.4444444444444444,
              "#bd3786"
             ],
             [
              0.5555555555555556,
              "#d8576b"
             ],
             [
              0.6666666666666666,
              "#ed7953"
             ],
             [
              0.7777777777777778,
              "#fb9f3a"
             ],
             [
              0.8888888888888888,
              "#fdca26"
             ],
             [
              1,
              "#f0f921"
             ]
            ],
            "type": "histogram2dcontour"
           }
          ],
          "mesh3d": [
           {
            "colorbar": {
             "outlinewidth": 0,
             "ticks": ""
            },
            "type": "mesh3d"
           }
          ],
          "parcoords": [
           {
            "line": {
             "colorbar": {
              "outlinewidth": 0,
              "ticks": ""
             }
            },
            "type": "parcoords"
           }
          ],
          "pie": [
           {
            "automargin": true,
            "type": "pie"
           }
          ],
          "scatter": [
           {
            "marker": {
             "colorbar": {
              "outlinewidth": 0,
              "ticks": ""
             }
            },
            "type": "scatter"
           }
          ],
          "scatter3d": [
           {
            "line": {
             "colorbar": {
              "outlinewidth": 0,
              "ticks": ""
             }
            },
            "marker": {
             "colorbar": {
              "outlinewidth": 0,
              "ticks": ""
             }
            },
            "type": "scatter3d"
           }
          ],
          "scattercarpet": [
           {
            "marker": {
             "colorbar": {
              "outlinewidth": 0,
              "ticks": ""
             }
            },
            "type": "scattercarpet"
           }
          ],
          "scattergeo": [
           {
            "marker": {
             "colorbar": {
              "outlinewidth": 0,
              "ticks": ""
             }
            },
            "type": "scattergeo"
           }
          ],
          "scattergl": [
           {
            "marker": {
             "colorbar": {
              "outlinewidth": 0,
              "ticks": ""
             }
            },
            "type": "scattergl"
           }
          ],
          "scattermapbox": [
           {
            "marker": {
             "colorbar": {
              "outlinewidth": 0,
              "ticks": ""
             }
            },
            "type": "scattermapbox"
           }
          ],
          "scatterpolar": [
           {
            "marker": {
             "colorbar": {
              "outlinewidth": 0,
              "ticks": ""
             }
            },
            "type": "scatterpolar"
           }
          ],
          "scatterpolargl": [
           {
            "marker": {
             "colorbar": {
              "outlinewidth": 0,
              "ticks": ""
             }
            },
            "type": "scatterpolargl"
           }
          ],
          "scatterternary": [
           {
            "marker": {
             "colorbar": {
              "outlinewidth": 0,
              "ticks": ""
             }
            },
            "type": "scatterternary"
           }
          ],
          "surface": [
           {
            "colorbar": {
             "outlinewidth": 0,
             "ticks": ""
            },
            "colorscale": [
             [
              0,
              "#0d0887"
             ],
             [
              0.1111111111111111,
              "#46039f"
             ],
             [
              0.2222222222222222,
              "#7201a8"
             ],
             [
              0.3333333333333333,
              "#9c179e"
             ],
             [
              0.4444444444444444,
              "#bd3786"
             ],
             [
              0.5555555555555556,
              "#d8576b"
             ],
             [
              0.6666666666666666,
              "#ed7953"
             ],
             [
              0.7777777777777778,
              "#fb9f3a"
             ],
             [
              0.8888888888888888,
              "#fdca26"
             ],
             [
              1,
              "#f0f921"
             ]
            ],
            "type": "surface"
           }
          ],
          "table": [
           {
            "cells": {
             "fill": {
              "color": "#EBF0F8"
             },
             "line": {
              "color": "white"
             }
            },
            "header": {
             "fill": {
              "color": "#C8D4E3"
             },
             "line": {
              "color": "white"
             }
            },
            "type": "table"
           }
          ]
         },
         "layout": {
          "annotationdefaults": {
           "arrowcolor": "#2a3f5f",
           "arrowhead": 0,
           "arrowwidth": 1
          },
          "coloraxis": {
           "colorbar": {
            "outlinewidth": 0,
            "ticks": ""
           }
          },
          "colorscale": {
           "diverging": [
            [
             0,
             "#8e0152"
            ],
            [
             0.1,
             "#c51b7d"
            ],
            [
             0.2,
             "#de77ae"
            ],
            [
             0.3,
             "#f1b6da"
            ],
            [
             0.4,
             "#fde0ef"
            ],
            [
             0.5,
             "#f7f7f7"
            ],
            [
             0.6,
             "#e6f5d0"
            ],
            [
             0.7,
             "#b8e186"
            ],
            [
             0.8,
             "#7fbc41"
            ],
            [
             0.9,
             "#4d9221"
            ],
            [
             1,
             "#276419"
            ]
           ],
           "sequential": [
            [
             0,
             "#0d0887"
            ],
            [
             0.1111111111111111,
             "#46039f"
            ],
            [
             0.2222222222222222,
             "#7201a8"
            ],
            [
             0.3333333333333333,
             "#9c179e"
            ],
            [
             0.4444444444444444,
             "#bd3786"
            ],
            [
             0.5555555555555556,
             "#d8576b"
            ],
            [
             0.6666666666666666,
             "#ed7953"
            ],
            [
             0.7777777777777778,
             "#fb9f3a"
            ],
            [
             0.8888888888888888,
             "#fdca26"
            ],
            [
             1,
             "#f0f921"
            ]
           ],
           "sequentialminus": [
            [
             0,
             "#0d0887"
            ],
            [
             0.1111111111111111,
             "#46039f"
            ],
            [
             0.2222222222222222,
             "#7201a8"
            ],
            [
             0.3333333333333333,
             "#9c179e"
            ],
            [
             0.4444444444444444,
             "#bd3786"
            ],
            [
             0.5555555555555556,
             "#d8576b"
            ],
            [
             0.6666666666666666,
             "#ed7953"
            ],
            [
             0.7777777777777778,
             "#fb9f3a"
            ],
            [
             0.8888888888888888,
             "#fdca26"
            ],
            [
             1,
             "#f0f921"
            ]
           ]
          },
          "colorway": [
           "#636efa",
           "#EF553B",
           "#00cc96",
           "#ab63fa",
           "#FFA15A",
           "#19d3f3",
           "#FF6692",
           "#B6E880",
           "#FF97FF",
           "#FECB52"
          ],
          "font": {
           "color": "#2a3f5f"
          },
          "geo": {
           "bgcolor": "white",
           "lakecolor": "white",
           "landcolor": "#E5ECF6",
           "showlakes": true,
           "showland": true,
           "subunitcolor": "white"
          },
          "hoverlabel": {
           "align": "left"
          },
          "hovermode": "closest",
          "mapbox": {
           "style": "light"
          },
          "paper_bgcolor": "white",
          "plot_bgcolor": "#E5ECF6",
          "polar": {
           "angularaxis": {
            "gridcolor": "white",
            "linecolor": "white",
            "ticks": ""
           },
           "bgcolor": "#E5ECF6",
           "radialaxis": {
            "gridcolor": "white",
            "linecolor": "white",
            "ticks": ""
           }
          },
          "scene": {
           "xaxis": {
            "backgroundcolor": "#E5ECF6",
            "gridcolor": "white",
            "gridwidth": 2,
            "linecolor": "white",
            "showbackground": true,
            "ticks": "",
            "zerolinecolor": "white"
           },
           "yaxis": {
            "backgroundcolor": "#E5ECF6",
            "gridcolor": "white",
            "gridwidth": 2,
            "linecolor": "white",
            "showbackground": true,
            "ticks": "",
            "zerolinecolor": "white"
           },
           "zaxis": {
            "backgroundcolor": "#E5ECF6",
            "gridcolor": "white",
            "gridwidth": 2,
            "linecolor": "white",
            "showbackground": true,
            "ticks": "",
            "zerolinecolor": "white"
           }
          },
          "shapedefaults": {
           "line": {
            "color": "#2a3f5f"
           }
          },
          "ternary": {
           "aaxis": {
            "gridcolor": "white",
            "linecolor": "white",
            "ticks": ""
           },
           "baxis": {
            "gridcolor": "white",
            "linecolor": "white",
            "ticks": ""
           },
           "bgcolor": "#E5ECF6",
           "caxis": {
            "gridcolor": "white",
            "linecolor": "white",
            "ticks": ""
           }
          },
          "title": {
           "x": 0.05
          },
          "xaxis": {
           "automargin": true,
           "gridcolor": "white",
           "linecolor": "white",
           "ticks": "",
           "title": {
            "standoff": 15
           },
           "zerolinecolor": "white",
           "zerolinewidth": 2
          },
          "yaxis": {
           "automargin": true,
           "gridcolor": "white",
           "linecolor": "white",
           "ticks": "",
           "title": {
            "standoff": 15
           },
           "zerolinecolor": "white",
           "zerolinewidth": 2
          }
         }
        },
        "width": 600,
        "xaxis": {
         "range": [
          1993,
          2022
         ],
         "showgrid": true,
         "title": {
          "text": "<b> Year <b>"
         },
         "type": "linear"
        },
        "yaxis": {
         "range": [
          62,
          102
         ],
         "showgrid": true,
         "title": {
          "text": "<b> Proportion of highly nepotic <br> Karan Johar movies (%) <b>"
         },
         "type": "linear"
        }
       }
      },
      "image/png": "[encoded data removed]",
      "text/html": [
       "<div>\n",
       "        \n",
       "        \n",
       "            <div id=\"2770c05d-15f4-47f2-b2da-0d504970b0fb\" class=\"plotly-graph-div\" style=\"height:500px; width:600px;\"></div>\n",
       "            <script type=\"text/javascript\">\n",
       "                require([\"plotly\"], function(Plotly) {\n",
       "                    window.PLOTLYENV=window.PLOTLYENV || {};\n",
       "                    \n",
       "                if (document.getElementById(\"2770c05d-15f4-47f2-b2da-0d504970b0fb\")) {\n",
       "                    Plotly.newPlot(\n",
       "                        '2770c05d-15f4-47f2-b2da-0d504970b0fb',\n",
       "                        [{\"marker\": {\"color\": \"#258193\", \"size\": 10}, \"type\": \"scatter\", \"x\": [1998, 2001, 2003, 2005, 2006, 2008, 2009, 2010, 2012, 2013, 2014, 2015, 2016, 2017, 2018, 2019, 2020], \"y\": [100.0, 100.0, 100.0, 75.0, 80.0, 83.33333333333334, 87.5, 90.9090909090909, 92.85714285714286, 83.33333333333334, 81.81818181818183, 75.0, 71.42857142857143, 74.19354838709677, 76.47058823529412, 74.35897435897436, 73.33333333333333]}],\n",
       "                        {\"autosize\": false, \"height\": 500, \"margin\": {\"t\": 10}, \"plot_bgcolor\": \"rgba(242, 241, 239, 1)\", \"template\": {\"data\": {\"bar\": [{\"error_x\": {\"color\": \"#2a3f5f\"}, \"error_y\": {\"color\": \"#2a3f5f\"}, \"marker\": {\"line\": {\"color\": \"#E5ECF6\", \"width\": 0.5}}, \"type\": \"bar\"}], \"barpolar\": [{\"marker\": {\"line\": {\"color\": \"#E5ECF6\", \"width\": 0.5}}, \"type\": \"barpolar\"}], \"carpet\": [{\"aaxis\": {\"endlinecolor\": \"#2a3f5f\", \"gridcolor\": \"white\", \"linecolor\": \"white\", \"minorgridcolor\": \"white\", \"startlinecolor\": \"#2a3f5f\"}, \"baxis\": {\"endlinecolor\": \"#2a3f5f\", \"gridcolor\": \"white\", \"linecolor\": \"white\", \"minorgridcolor\": \"white\", \"startlinecolor\": \"#2a3f5f\"}, \"type\": \"carpet\"}], \"choropleth\": [{\"colorbar\": {\"outlinewidth\": 0, \"ticks\": \"\"}, \"type\": \"choropleth\"}], \"contour\": [{\"colorbar\": {\"outlinewidth\": 0, \"ticks\": \"\"}, \"colorscale\": [[0.0, \"#0d0887\"], [0.1111111111111111, \"#46039f\"], [0.2222222222222222, \"#7201a8\"], [0.3333333333333333, \"#9c179e\"], [0.4444444444444444, \"#bd3786\"], [0.5555555555555556, \"#d8576b\"], [0.6666666666666666, \"#ed7953\"], [0.7777777777777778, \"#fb9f3a\"], [0.8888888888888888, \"#fdca26\"], [1.0, \"#f0f921\"]], \"type\": \"contour\"}], \"contourcarpet\": [{\"colorbar\": {\"outlinewidth\": 0, \"ticks\": \"\"}, \"type\": \"contourcarpet\"}], \"heatmap\": [{\"colorbar\": {\"outlinewidth\": 0, \"ticks\": \"\"}, \"colorscale\": [[0.0, \"#0d0887\"], [0.1111111111111111, \"#46039f\"], [0.2222222222222222, \"#7201a8\"], [0.3333333333333333, \"#9c179e\"], [0.4444444444444444, \"#bd3786\"], [0.5555555555555556, \"#d8576b\"], [0.6666666666666666, \"#ed7953\"], [0.7777777777777778, \"#fb9f3a\"], [0.8888888888888888, \"#fdca26\"], [1.0, \"#f0f921\"]], \"type\": \"heatmap\"}], \"heatmapgl\": [{\"colorbar\": {\"outlinewidth\": 0, \"ticks\": \"\"}, \"colorscale\": [[0.0, \"#0d0887\"], [0.1111111111111111, \"#46039f\"], [0.2222222222222222, \"#7201a8\"], [0.3333333333333333, \"#9c179e\"], [0.4444444444444444, \"#bd3786\"], [0.5555555555555556, \"#d8576b\"], [0.6666666666666666, \"#ed7953\"], [0.7777777777777778, \"#fb9f3a\"], [0.8888888888888888, \"#fdca26\"], [1.0, \"#f0f921\"]], \"type\": \"heatmapgl\"}], \"histogram\": [{\"marker\": {\"colorbar\": {\"outlinewidth\": 0, \"ticks\": \"\"}}, \"type\": \"histogram\"}], \"histogram2d\": [{\"colorbar\": {\"outlinewidth\": 0, \"ticks\": \"\"}, \"colorscale\": [[0.0, \"#0d0887\"], [0.1111111111111111, \"#46039f\"], [0.2222222222222222, \"#7201a8\"], [0.3333333333333333, \"#9c179e\"], [0.4444444444444444, \"#bd3786\"], [0.5555555555555556, \"#d8576b\"], [0.6666666666666666, \"#ed7953\"], [0.7777777777777778, \"#fb9f3a\"], [0.8888888888888888, \"#fdca26\"], [1.0, \"#f0f921\"]], \"type\": \"histogram2d\"}], \"histogram2dcontour\": [{\"colorbar\": {\"outlinewidth\": 0, \"ticks\": \"\"}, \"colorscale\": [[0.0, \"#0d0887\"], [0.1111111111111111, \"#46039f\"], [0.2222222222222222, \"#7201a8\"], [0.3333333333333333, \"#9c179e\"], [0.4444444444444444, \"#bd3786\"], [0.5555555555555556, \"#d8576b\"], [0.6666666666666666, \"#ed7953\"], [0.7777777777777778, \"#fb9f3a\"], [0.8888888888888888, \"#fdca26\"], [1.0, \"#f0f921\"]], \"type\": \"histogram2dcontour\"}], \"mesh3d\": [{\"colorbar\": {\"outlinewidth\": 0, \"ticks\": \"\"}, \"type\": \"mesh3d\"}], \"parcoords\": [{\"line\": {\"colorbar\": {\"outlinewidth\": 0, \"ticks\": \"\"}}, \"type\": \"parcoords\"}], \"pie\": [{\"automargin\": true, \"type\": \"pie\"}], \"scatter\": [{\"marker\": {\"colorbar\": {\"outlinewidth\": 0, \"ticks\": \"\"}}, \"type\": \"scatter\"}], \"scatter3d\": [{\"line\": {\"colorbar\": {\"outlinewidth\": 0, \"ticks\": \"\"}}, \"marker\": {\"colorbar\": {\"outlinewidth\": 0, \"ticks\": \"\"}}, \"type\": \"scatter3d\"}], \"scattercarpet\": [{\"marker\": {\"colorbar\": {\"outlinewidth\": 0, \"ticks\": \"\"}}, \"type\": \"scattercarpet\"}], \"scattergeo\": [{\"marker\": {\"colorbar\": {\"outlinewidth\": 0, \"ticks\": \"\"}}, \"type\": \"scattergeo\"}], \"scattergl\": [{\"marker\": {\"colorbar\": {\"outlinewidth\": 0, \"ticks\": \"\"}}, \"type\": \"scattergl\"}], \"scattermapbox\": [{\"marker\": {\"colorbar\": {\"outlinewidth\": 0, \"ticks\": \"\"}}, \"type\": \"scattermapbox\"}], \"scatterpolar\": [{\"marker\": {\"colorbar\": {\"outlinewidth\": 0, \"ticks\": \"\"}}, \"type\": \"scatterpolar\"}], \"scatterpolargl\": [{\"marker\": {\"colorbar\": {\"outlinewidth\": 0, \"ticks\": \"\"}}, \"type\": \"scatterpolargl\"}], \"scatterternary\": [{\"marker\": {\"colorbar\": {\"outlinewidth\": 0, \"ticks\": \"\"}}, \"type\": \"scatterternary\"}], \"surface\": [{\"colorbar\": {\"outlinewidth\": 0, \"ticks\": \"\"}, \"colorscale\": [[0.0, \"#0d0887\"], [0.1111111111111111, \"#46039f\"], [0.2222222222222222, \"#7201a8\"], [0.3333333333333333, \"#9c179e\"], [0.4444444444444444, \"#bd3786\"], [0.5555555555555556, \"#d8576b\"], [0.6666666666666666, \"#ed7953\"], [0.7777777777777778, \"#fb9f3a\"], [0.8888888888888888, \"#fdca26\"], [1.0, \"#f0f921\"]], \"type\": \"surface\"}], \"table\": [{\"cells\": {\"fill\": {\"color\": \"#EBF0F8\"}, \"line\": {\"color\": \"white\"}}, \"header\": {\"fill\": {\"color\": \"#C8D4E3\"}, \"line\": {\"color\": \"white\"}}, \"type\": \"table\"}]}, \"layout\": {\"annotationdefaults\": {\"arrowcolor\": \"#2a3f5f\", \"arrowhead\": 0, \"arrowwidth\": 1}, \"coloraxis\": {\"colorbar\": {\"outlinewidth\": 0, \"ticks\": \"\"}}, \"colorscale\": {\"diverging\": [[0, \"#8e0152\"], [0.1, \"#c51b7d\"], [0.2, \"#de77ae\"], [0.3, \"#f1b6da\"], [0.4, \"#fde0ef\"], [0.5, \"#f7f7f7\"], [0.6, \"#e6f5d0\"], [0.7, \"#b8e186\"], [0.8, \"#7fbc41\"], [0.9, \"#4d9221\"], [1, \"#276419\"]], \"sequential\": [[0.0, \"#0d0887\"], [0.1111111111111111, \"#46039f\"], [0.2222222222222222, \"#7201a8\"], [0.3333333333333333, \"#9c179e\"], [0.4444444444444444, \"#bd3786\"], [0.5555555555555556, \"#d8576b\"], [0.6666666666666666, \"#ed7953\"], [0.7777777777777778, \"#fb9f3a\"], [0.8888888888888888, \"#fdca26\"], [1.0, \"#f0f921\"]], \"sequentialminus\": [[0.0, \"#0d0887\"], [0.1111111111111111, \"#46039f\"], [0.2222222222222222, \"#7201a8\"], [0.3333333333333333, \"#9c179e\"], [0.4444444444444444, \"#bd3786\"], [0.5555555555555556, \"#d8576b\"], [0.6666666666666666, \"#ed7953\"], [0.7777777777777778, \"#fb9f3a\"], [0.8888888888888888, \"#fdca26\"], [1.0, \"#f0f921\"]]}, \"colorway\": [\"#636efa\", \"#EF553B\", \"#00cc96\", \"#ab63fa\", \"#FFA15A\", \"#19d3f3\", \"#FF6692\", \"#B6E880\", \"#FF97FF\", \"#FECB52\"], \"font\": {\"color\": \"#2a3f5f\"}, \"geo\": {\"bgcolor\": \"white\", \"lakecolor\": \"white\", \"landcolor\": \"#E5ECF6\", \"showlakes\": true, \"showland\": true, \"subunitcolor\": \"white\"}, \"hoverlabel\": {\"align\": \"left\"}, \"hovermode\": \"closest\", \"mapbox\": {\"style\": \"light\"}, \"paper_bgcolor\": \"white\", \"plot_bgcolor\": \"#E5ECF6\", \"polar\": {\"angularaxis\": {\"gridcolor\": \"white\", \"linecolor\": \"white\", \"ticks\": \"\"}, \"bgcolor\": \"#E5ECF6\", \"radialaxis\": {\"gridcolor\": \"white\", \"linecolor\": \"white\", \"ticks\": \"\"}}, \"scene\": {\"xaxis\": {\"backgroundcolor\": \"#E5ECF6\", \"gridcolor\": \"white\", \"gridwidth\": 2, \"linecolor\": \"white\", \"showbackground\": true, \"ticks\": \"\", \"zerolinecolor\": \"white\"}, \"yaxis\": {\"backgroundcolor\": \"#E5ECF6\", \"gridcolor\": \"white\", \"gridwidth\": 2, \"linecolor\": \"white\", \"showbackground\": true, \"ticks\": \"\", \"zerolinecolor\": \"white\"}, \"zaxis\": {\"backgroundcolor\": \"#E5ECF6\", \"gridcolor\": \"white\", \"gridwidth\": 2, \"linecolor\": \"white\", \"showbackground\": true, \"ticks\": \"\", \"zerolinecolor\": \"white\"}}, \"shapedefaults\": {\"line\": {\"color\": \"#2a3f5f\"}}, \"ternary\": {\"aaxis\": {\"gridcolor\": \"white\", \"linecolor\": \"white\", \"ticks\": \"\"}, \"baxis\": {\"gridcolor\": \"white\", \"linecolor\": \"white\", \"ticks\": \"\"}, \"bgcolor\": \"#E5ECF6\", \"caxis\": {\"gridcolor\": \"white\", \"linecolor\": \"white\", \"ticks\": \"\"}}, \"title\": {\"x\": 0.05}, \"xaxis\": {\"automargin\": true, \"gridcolor\": \"white\", \"linecolor\": \"white\", \"ticks\": \"\", \"title\": {\"standoff\": 15}, \"zerolinecolor\": \"white\", \"zerolinewidth\": 2}, \"yaxis\": {\"automargin\": true, \"gridcolor\": \"white\", \"linecolor\": \"white\", \"ticks\": \"\", \"title\": {\"standoff\": 15}, \"zerolinecolor\": \"white\", \"zerolinewidth\": 2}}}, \"width\": 600, \"xaxis\": {\"range\": [1993, 2022], \"showgrid\": true, \"title\": {\"text\": \"<b> Year <b>\"}}, \"yaxis\": {\"range\": [62, 102], \"showgrid\": true, \"title\": {\"text\": \"<b> Proportion of highly nepotic <br> Karan Johar movies (%) <b>\"}}},\n",
       "                        {\"responsive\": true}\n",
       "                    ).then(function(){\n",
       "                            \n",
       "var gd = document.getElementById('2770c05d-15f4-47f2-b2da-0d504970b0fb');\n",
       "var x = new MutationObserver(function (mutations, observer) {{\n",
       "        var display = window.getComputedStyle(gd).display;\n",
       "        if (!display || display === 'none') {{\n",
       "            console.log([gd, 'removed!']);\n",
       "            Plotly.purge(gd);\n",
       "            observer.disconnect();\n",
       "        }}\n",
       "}});\n",
       "\n",
       "// Listen for the removal of the full notebook cells\n",
       "var notebookContainer = gd.closest('#notebook-container');\n",
       "if (notebookContainer) {{\n",
       "    x.observe(notebookContainer, {childList: true});\n",
       "}}\n",
       "\n",
       "// Listen for the clearing of the current output cell\n",
       "var outputEl = gd.closest('.output');\n",
       "if (outputEl) {{\n",
       "    x.observe(outputEl, {childList: true});\n",
       "}}\n",
       "\n",
       "                        })\n",
       "                };\n",
       "                });\n",
       "            </script>\n",
       "        </div>"
      ]
     },
     "metadata": {},
     "output_type": "display_data"
    }
   ],
   "source": [
    "# Visualization\n",
    "\n",
    "fig = go.Figure(data=go.Scatter(x=year_list, y=ratio_highly_nepotic, marker=dict(size = 10, color=color_teal)) )\n",
    "\n",
    "fig.update_layout(\n",
    "    autosize=False,\n",
    "    width=600,\n",
    "    height=500,\n",
    "    xaxis = dict(title=\"<b> Year <b>\", showgrid = True, range = [1993,2022]),\n",
    "    yaxis = dict(title=\"<b> Proportion of highly nepotic <br> Karan Johar movies (%) <b>\",\n",
    "                showgrid = True, range = [62,102]),\n",
    "    plot_bgcolor= 'rgba(242, 241, 239, 1)',\n",
    "     margin=go.layout.Margin(\n",
    "        t=10, #top margin\n",
    "    )\n",
    ")\n",
    "\n",
    "fig.show()\n",
    "\n",
    "fig.write_image(\"kj_ratio_highly_nepotic_movies.png\", engine=\"kaleido\", width = 600, height=500, scale = 2)"
   ]
  },
  {
   "cell_type": "markdown",
   "metadata": {},
   "source": [
    "### Analysis #4: Success of a movie vs nepotic level"
   ]
  },
  {
   "cell_type": "code",
   "execution_count": 297,
   "metadata": {},
   "outputs": [],
   "source": [
    "#Manually curated box office verdict list based on boxofficeindia.com\n",
    "datafile_name = 'bollywood_movies_box_office_verdict.xlsx'\n",
    "datafile_location = path.join(main_directory, 'database', datafile_name)\n",
    "df_box_office = pd.read_excel(datafile_location)"
   ]
  },
  {
   "cell_type": "code",
   "execution_count": 308,
   "metadata": {},
   "outputs": [
    {
     "name": "stdout",
     "output_type": "stream",
     "text": [
      "Drive\n",
      "Gunjan Saxena\n",
      "Shershaah\n",
      "Brahmastra\n",
      "Sooryavanshi\n",
      "Dostana 2\n"
     ]
    }
   ],
   "source": [
    "verdict_to_value = {'Not Applicable': 0, 'DISASTER': 1, 'FLOP': 2, 'AVERAGE': 3, 'SEMI HIT': 4, 'HIT': 5, 'SUPER HIT': 6, 'BLOCKBUSTER': 7, 'ALL TIME BLOCKBUSTER': 8}\n",
    "\n",
    "def add_box_office_verdict(movie_dict):\n",
    "    for movie in movie_dict:\n",
    "        movie_info = movie_dict[movie]\n",
    "        if movie in df_box_office['Name'].values:\n",
    "            movie_info['Box Office Verdict'] = list(df_box_office[df_box_office['Name'] == movie]['Box Office Verdict'].values)[0]\n",
    "            movie_dict[movie] = movie_info\n",
    "            #print(movie_dict)\n",
    "        else:\n",
    "            print(movie)\n",
    "            \n",
    "def extract_movie_verdict_list(movie_dict, nepotic_lim, verdict_lim):\n",
    "    df_movie_verdict = pd.DataFrame()\n",
    "    movie_name = []\n",
    "    nepotic_percent_list = []\n",
    "    verdict_value_list = []\n",
    "    outcome_list = []\n",
    "    for movie in movie_dict:\n",
    "        movie_info = movie_dict[movie]\n",
    "        if movie_info['Box Office Verdict'] != 'Not Applicable':\n",
    "            movie_name.append(movie)\n",
    "            nepotic_percent = get_movie_nepotic_percentage(movie_info)\n",
    "            nepotic_percent_list.append(nepotic_percent[0])\n",
    "            verdict = movie_info['Box Office Verdict']\n",
    "            verdict_val = verdict_to_value[verdict]\n",
    "            verdict_value_list.append(verdict_val)\n",
    "            nepotic_percent = nepotic_percent[0]\n",
    "            if verdict_val >= verdict_lim and nepotic_percent > nepotic_lim:\n",
    "                outcome = \"Highly nepotic - above average\"\n",
    "            if verdict_val >= verdict_lim and nepotic_percent <= nepotic_lim:\n",
    "                outcome = \"Non-highly nepotic - above average\"\n",
    "            if verdict_val < verdict_lim and nepotic_percent <= nepotic_lim:\n",
    "                outcome = \"Non-highly nepotic - average or below\"\n",
    "            if verdict_val < verdict_lim and nepotic_percent > nepotic_lim:\n",
    "                outcome = \"Highly nepotic - average or below\"\n",
    "            outcome_list.append(outcome)\n",
    "        else:\n",
    "            print(movie)\n",
    "    df_movie_verdict['Name'] = movie_name\n",
    "    df_movie_verdict['Verdict Value'] = verdict_value_list\n",
    "    df_movie_verdict['Nepotic Level'] = nepotic_percent_list\n",
    "    df_movie_verdict['Outcome'] = outcome_list\n",
    "    return df_movie_verdict\n",
    " \n",
    "verdict_lim = 3.5\n",
    "nepotic_lim = 50\n",
    "add_box_office_verdict(dict_movie_info_cleaned) \n",
    "df_movie_verdict = extract_movie_verdict_list(dict_movie_info_cleaned, nepotic_lim, verdict_lim)\n",
    "verdict_text = list(verdict_to_value.keys())\n",
    "\n",
    "count_ur = 0\n",
    "count_ul = 0\n",
    "count_ll = 0\n",
    "count_lr = 0\n",
    "for verdict_val, nepotic_lev in zip(df_movie_verdict['Verdict Value'], df_movie_verdict['Nepotic Level']):\n",
    "    if verdict_val >= verdict_lim and nepotic_lev > nepotic_lim:\n",
    "        count_ur += 1\n",
    "    if verdict_val >= verdict_lim and nepotic_lev <= nepotic_lim:\n",
    "        count_ul += 1\n",
    "    if verdict_val < verdict_lim and nepotic_lev <= nepotic_lim:\n",
    "        count_ll += 1\n",
    "    if verdict_val < verdict_lim and nepotic_lev > nepotic_lim:\n",
    "        count_lr += 1"
   ]
  },
  {
   "cell_type": "code",
   "execution_count": 305,
   "metadata": {},
   "outputs": [
    {
     "data": {
      "application/vnd.plotly.v1+json": {
       "config": {
        "plotlyServerURL": "https://plot.ly"
       },
       "data": [
        {
         "hovertemplate": "Outcome=Highly nepotic - above average<br>Nepotic Level=%{x}<br>Verdict Value=%{y}<extra></extra>",
         "legendgroup": "Highly nepotic - above average",
         "marker": {
          "color": "#636efa",
          "size": 12,
          "symbol": "circle"
         },
         "mode": "markers",
         "name": "Highly nepotic - above average",
         "orientation": "v",
         "showlegend": true,
         "textposition": "top center",
         "type": "scatter",
         "x": [
          83.33333333333334,
          62.5,
          57.14285714285714,
          62.5,
          100,
          80,
          83.33333333333334,
          71.42857142857143,
          85.71428571428571,
          71.42857142857143,
          80,
          66.66666666666666,
          62.5,
          66.66666666666666,
          83.33333333333334,
          85.71428571428571,
          83.33333333333334,
          75,
          60
         ],
         "xaxis": "x",
         "y": [
          8,
          7,
          5,
          4,
          4,
          5,
          5,
          6,
          4,
          7,
          6,
          5,
          5,
          5,
          6,
          6,
          5,
          7,
          6
         ],
         "yaxis": "y"
        },
        {
         "hovertemplate": "Outcome=Non-highly nepotic - average or below<br>Nepotic Level=%{x}<br>Verdict Value=%{y}<extra></extra>",
         "legendgroup": "Non-highly nepotic - average or below",
         "marker": {
          "color": "#EF553B",
          "size": 12,
          "symbol": "circle"
         },
         "mode": "markers",
         "name": "Non-highly nepotic - average or below",
         "orientation": "v",
         "showlegend": true,
         "textposition": "top center",
         "type": "scatter",
         "x": [
          50,
          50,
          14.285714285714285,
          25,
          28.57142857142857,
          37.5,
          33.33333333333333
         ],
         "xaxis": "x",
         "y": [
          3,
          2,
          3,
          3,
          2,
          2,
          2
         ],
         "yaxis": "y"
        },
        {
         "hovertemplate": "Outcome=Highly nepotic - average or below<br>Nepotic Level=%{x}<br>Verdict Value=%{y}<extra></extra>",
         "legendgroup": "Highly nepotic - average or below",
         "marker": {
          "color": "#00cc96",
          "size": 12,
          "symbol": "circle"
         },
         "mode": "markers",
         "name": "Highly nepotic - average or below",
         "orientation": "v",
         "showlegend": true,
         "textposition": "top center",
         "type": "scatter",
         "x": [
          57.14285714285714,
          83.33333333333334,
          83.33333333333334,
          66.66666666666666,
          100,
          57.14285714285714,
          60,
          75,
          77.77777777777779,
          85.71428571428571,
          71.42857142857143
         ],
         "xaxis": "x",
         "y": [
          3,
          2,
          2,
          3,
          1,
          1,
          2,
          2,
          2,
          2,
          2
         ],
         "yaxis": "y"
        },
        {
         "hovertemplate": "Outcome=Non-highly nepotic - above average<br>Nepotic Level=%{x}<br>Verdict Value=%{y}<extra></extra>",
         "legendgroup": "Non-highly nepotic - above average",
         "marker": {
          "color": "#ab63fa",
          "size": 12,
          "symbol": "circle"
         },
         "mode": "markers",
         "name": "Non-highly nepotic - above average",
         "orientation": "v",
         "showlegend": true,
         "textposition": "top center",
         "type": "scatter",
         "x": [
          50,
          40
         ],
         "xaxis": "x",
         "y": [
          4,
          5
         ],
         "yaxis": "y"
        }
       ],
       "layout": {
        "annotations": [
         {
          "arrowhead": 2,
          "ax": 0,
          "ay": 20,
          "showarrow": true,
          "text": "Kuch Kuch Hota Hai",
          "x": 83.333,
          "xref": "x",
          "y": 7.9,
          "yref": "y"
         },
         {
          "arrowhead": 2,
          "ax": 0,
          "ay": -20,
          "showarrow": true,
          "text": "Kesari",
          "x": 40,
          "xref": "x",
          "y": 5.1,
          "yref": "y"
         },
         {
          "arrowhead": 2,
          "ax": 0,
          "ay": 20,
          "showarrow": true,
          "text": "The Lunchbox",
          "x": 14.3,
          "xref": "x",
          "y": 2.9,
          "yref": "y"
         },
         {
          "arrowhead": 2,
          "ax": 0,
          "ay": -20,
          "showarrow": true,
          "text": "Student of the Year 2",
          "x": 85.71,
          "xref": "x",
          "y": 2.1,
          "yref": "y"
         },
         {
          "font": {
           "color": "black",
           "size": 14
          },
          "showarrow": false,
          "text": "Count: 19",
          "x": 60,
          "xref": "x",
          "y": 8.5,
          "yref": "y"
         },
         {
          "font": {
           "color": "black",
           "size": 14
          },
          "showarrow": false,
          "text": "Count: 2",
          "x": 40,
          "xref": "x",
          "y": 8.5,
          "yref": "y"
         },
         {
          "font": {
           "color": "black",
           "size": 14
          },
          "showarrow": false,
          "text": "Count: 7",
          "x": 40,
          "xref": "x",
          "y": 0.5,
          "yref": "y"
         },
         {
          "font": {
           "color": "black",
           "size": 14
          },
          "showarrow": false,
          "text": "Count: 11",
          "x": 60,
          "xref": "x",
          "y": 0.5,
          "yref": "y"
         }
        ],
        "autosize": false,
        "height": 700,
        "legend": {
         "title": {
          "text": "Movie"
         },
         "tracegroupgap": 0,
         "x": 0.25,
         "y": 1.2
        },
        "margin": {
         "t": 10
        },
        "plot_bgcolor": "rgba(242, 241, 239, 1)",
        "shapes": [
         {
          "line": {
           "color": "#258193",
           "dash": "dot",
           "width": 2
          },
          "type": "line",
          "x0": 51,
          "x1": 51,
          "y0": 0,
          "y1": 9
         },
         {
          "line": {
           "color": "#258193",
           "dash": "dot",
           "width": 2
          },
          "type": "line",
          "x0": 0,
          "x1": 110,
          "y0": 3.5,
          "y1": 3.5
         }
        ],
        "template": {
         "data": {
          "bar": [
           {
            "error_x": {
             "color": "#2a3f5f"
            },
            "error_y": {
             "color": "#2a3f5f"
            },
            "marker": {
             "line": {
              "color": "#E5ECF6",
              "width": 0.5
             }
            },
            "type": "bar"
           }
          ],
          "barpolar": [
           {
            "marker": {
             "line": {
              "color": "#E5ECF6",
              "width": 0.5
             }
            },
            "type": "barpolar"
           }
          ],
          "carpet": [
           {
            "aaxis": {
             "endlinecolor": "#2a3f5f",
             "gridcolor": "white",
             "linecolor": "white",
             "minorgridcolor": "white",
             "startlinecolor": "#2a3f5f"
            },
            "baxis": {
             "endlinecolor": "#2a3f5f",
             "gridcolor": "white",
             "linecolor": "white",
             "minorgridcolor": "white",
             "startlinecolor": "#2a3f5f"
            },
            "type": "carpet"
           }
          ],
          "choropleth": [
           {
            "colorbar": {
             "outlinewidth": 0,
             "ticks": ""
            },
            "type": "choropleth"
           }
          ],
          "contour": [
           {
            "colorbar": {
             "outlinewidth": 0,
             "ticks": ""
            },
            "colorscale": [
             [
              0,
              "#0d0887"
             ],
             [
              0.1111111111111111,
              "#46039f"
             ],
             [
              0.2222222222222222,
              "#7201a8"
             ],
             [
              0.3333333333333333,
              "#9c179e"
             ],
             [
              0.4444444444444444,
              "#bd3786"
             ],
             [
              0.5555555555555556,
              "#d8576b"
             ],
             [
              0.6666666666666666,
              "#ed7953"
             ],
             [
              0.7777777777777778,
              "#fb9f3a"
             ],
             [
              0.8888888888888888,
              "#fdca26"
             ],
             [
              1,
              "#f0f921"
             ]
            ],
            "type": "contour"
           }
          ],
          "contourcarpet": [
           {
            "colorbar": {
             "outlinewidth": 0,
             "ticks": ""
            },
            "type": "contourcarpet"
           }
          ],
          "heatmap": [
           {
            "colorbar": {
             "outlinewidth": 0,
             "ticks": ""
            },
            "colorscale": [
             [
              0,
              "#0d0887"
             ],
             [
              0.1111111111111111,
              "#46039f"
             ],
             [
              0.2222222222222222,
              "#7201a8"
             ],
             [
              0.3333333333333333,
              "#9c179e"
             ],
             [
              0.4444444444444444,
              "#bd3786"
             ],
             [
              0.5555555555555556,
              "#d8576b"
             ],
             [
              0.6666666666666666,
              "#ed7953"
             ],
             [
              0.7777777777777778,
              "#fb9f3a"
             ],
             [
              0.8888888888888888,
              "#fdca26"
             ],
             [
              1,
              "#f0f921"
             ]
            ],
            "type": "heatmap"
           }
          ],
          "heatmapgl": [
           {
            "colorbar": {
             "outlinewidth": 0,
             "ticks": ""
            },
            "colorscale": [
             [
              0,
              "#0d0887"
             ],
             [
              0.1111111111111111,
              "#46039f"
             ],
             [
              0.2222222222222222,
              "#7201a8"
             ],
             [
              0.3333333333333333,
              "#9c179e"
             ],
             [
              0.4444444444444444,
              "#bd3786"
             ],
             [
              0.5555555555555556,
              "#d8576b"
             ],
             [
              0.6666666666666666,
              "#ed7953"
             ],
             [
              0.7777777777777778,
              "#fb9f3a"
             ],
             [
              0.8888888888888888,
              "#fdca26"
             ],
             [
              1,
              "#f0f921"
             ]
            ],
            "type": "heatmapgl"
           }
          ],
          "histogram": [
           {
            "marker": {
             "colorbar": {
              "outlinewidth": 0,
              "ticks": ""
             }
            },
            "type": "histogram"
           }
          ],
          "histogram2d": [
           {
            "colorbar": {
             "outlinewidth": 0,
             "ticks": ""
            },
            "colorscale": [
             [
              0,
              "#0d0887"
             ],
             [
              0.1111111111111111,
              "#46039f"
             ],
             [
              0.2222222222222222,
              "#7201a8"
             ],
             [
              0.3333333333333333,
              "#9c179e"
             ],
             [
              0.4444444444444444,
              "#bd3786"
             ],
             [
              0.5555555555555556,
              "#d8576b"
             ],
             [
              0.6666666666666666,
              "#ed7953"
             ],
             [
              0.7777777777777778,
              "#fb9f3a"
             ],
             [
              0.8888888888888888,
              "#fdca26"
             ],
             [
              1,
              "#f0f921"
             ]
            ],
            "type": "histogram2d"
           }
          ],
          "histogram2dcontour": [
           {
            "colorbar": {
             "outlinewidth": 0,
             "ticks": ""
            },
            "colorscale": [
             [
              0,
              "#0d0887"
             ],
             [
              0.1111111111111111,
              "#46039f"
             ],
             [
              0.2222222222222222,
              "#7201a8"
             ],
             [
              0.3333333333333333,
              "#9c179e"
             ],
             [
              0.4444444444444444,
              "#bd3786"
             ],
             [
              0.5555555555555556,
              "#d8576b"
             ],
             [
              0.6666666666666666,
              "#ed7953"
             ],
             [
              0.7777777777777778,
              "#fb9f3a"
             ],
             [
              0.8888888888888888,
              "#fdca26"
             ],
             [
              1,
              "#f0f921"
             ]
            ],
            "type": "histogram2dcontour"
           }
          ],
          "mesh3d": [
           {
            "colorbar": {
             "outlinewidth": 0,
             "ticks": ""
            },
            "type": "mesh3d"
           }
          ],
          "parcoords": [
           {
            "line": {
             "colorbar": {
              "outlinewidth": 0,
              "ticks": ""
             }
            },
            "type": "parcoords"
           }
          ],
          "pie": [
           {
            "automargin": true,
            "type": "pie"
           }
          ],
          "scatter": [
           {
            "marker": {
             "colorbar": {
              "outlinewidth": 0,
              "ticks": ""
             }
            },
            "type": "scatter"
           }
          ],
          "scatter3d": [
           {
            "line": {
             "colorbar": {
              "outlinewidth": 0,
              "ticks": ""
             }
            },
            "marker": {
             "colorbar": {
              "outlinewidth": 0,
              "ticks": ""
             }
            },
            "type": "scatter3d"
           }
          ],
          "scattercarpet": [
           {
            "marker": {
             "colorbar": {
              "outlinewidth": 0,
              "ticks": ""
             }
            },
            "type": "scattercarpet"
           }
          ],
          "scattergeo": [
           {
            "marker": {
             "colorbar": {
              "outlinewidth": 0,
              "ticks": ""
             }
            },
            "type": "scattergeo"
           }
          ],
          "scattergl": [
           {
            "marker": {
             "colorbar": {
              "outlinewidth": 0,
              "ticks": ""
             }
            },
            "type": "scattergl"
           }
          ],
          "scattermapbox": [
           {
            "marker": {
             "colorbar": {
              "outlinewidth": 0,
              "ticks": ""
             }
            },
            "type": "scattermapbox"
           }
          ],
          "scatterpolar": [
           {
            "marker": {
             "colorbar": {
              "outlinewidth": 0,
              "ticks": ""
             }
            },
            "type": "scatterpolar"
           }
          ],
          "scatterpolargl": [
           {
            "marker": {
             "colorbar": {
              "outlinewidth": 0,
              "ticks": ""
             }
            },
            "type": "scatterpolargl"
           }
          ],
          "scatterternary": [
           {
            "marker": {
             "colorbar": {
              "outlinewidth": 0,
              "ticks": ""
             }
            },
            "type": "scatterternary"
           }
          ],
          "surface": [
           {
            "colorbar": {
             "outlinewidth": 0,
             "ticks": ""
            },
            "colorscale": [
             [
              0,
              "#0d0887"
             ],
             [
              0.1111111111111111,
              "#46039f"
             ],
             [
              0.2222222222222222,
              "#7201a8"
             ],
             [
              0.3333333333333333,
              "#9c179e"
             ],
             [
              0.4444444444444444,
              "#bd3786"
             ],
             [
              0.5555555555555556,
              "#d8576b"
             ],
             [
              0.6666666666666666,
              "#ed7953"
             ],
             [
              0.7777777777777778,
              "#fb9f3a"
             ],
             [
              0.8888888888888888,
              "#fdca26"
             ],
             [
              1,
              "#f0f921"
             ]
            ],
            "type": "surface"
           }
          ],
          "table": [
           {
            "cells": {
             "fill": {
              "color": "#EBF0F8"
             },
             "line": {
              "color": "white"
             }
            },
            "header": {
             "fill": {
              "color": "#C8D4E3"
             },
             "line": {
              "color": "white"
             }
            },
            "type": "table"
           }
          ]
         },
         "layout": {
          "annotationdefaults": {
           "arrowcolor": "#2a3f5f",
           "arrowhead": 0,
           "arrowwidth": 1
          },
          "coloraxis": {
           "colorbar": {
            "outlinewidth": 0,
            "ticks": ""
           }
          },
          "colorscale": {
           "diverging": [
            [
             0,
             "#8e0152"
            ],
            [
             0.1,
             "#c51b7d"
            ],
            [
             0.2,
             "#de77ae"
            ],
            [
             0.3,
             "#f1b6da"
            ],
            [
             0.4,
             "#fde0ef"
            ],
            [
             0.5,
             "#f7f7f7"
            ],
            [
             0.6,
             "#e6f5d0"
            ],
            [
             0.7,
             "#b8e186"
            ],
            [
             0.8,
             "#7fbc41"
            ],
            [
             0.9,
             "#4d9221"
            ],
            [
             1,
             "#276419"
            ]
           ],
           "sequential": [
            [
             0,
             "#0d0887"
            ],
            [
             0.1111111111111111,
             "#46039f"
            ],
            [
             0.2222222222222222,
             "#7201a8"
            ],
            [
             0.3333333333333333,
             "#9c179e"
            ],
            [
             0.4444444444444444,
             "#bd3786"
            ],
            [
             0.5555555555555556,
             "#d8576b"
            ],
            [
             0.6666666666666666,
             "#ed7953"
            ],
            [
             0.7777777777777778,
             "#fb9f3a"
            ],
            [
             0.8888888888888888,
             "#fdca26"
            ],
            [
             1,
             "#f0f921"
            ]
           ],
           "sequentialminus": [
            [
             0,
             "#0d0887"
            ],
            [
             0.1111111111111111,
             "#46039f"
            ],
            [
             0.2222222222222222,
             "#7201a8"
            ],
            [
             0.3333333333333333,
             "#9c179e"
            ],
            [
             0.4444444444444444,
             "#bd3786"
            ],
            [
             0.5555555555555556,
             "#d8576b"
            ],
            [
             0.6666666666666666,
             "#ed7953"
            ],
            [
             0.7777777777777778,
             "#fb9f3a"
            ],
            [
             0.8888888888888888,
             "#fdca26"
            ],
            [
             1,
             "#f0f921"
            ]
           ]
          },
          "colorway": [
           "#636efa",
           "#EF553B",
           "#00cc96",
           "#ab63fa",
           "#FFA15A",
           "#19d3f3",
           "#FF6692",
           "#B6E880",
           "#FF97FF",
           "#FECB52"
          ],
          "font": {
           "color": "#2a3f5f"
          },
          "geo": {
           "bgcolor": "white",
           "lakecolor": "white",
           "landcolor": "#E5ECF6",
           "showlakes": true,
           "showland": true,
           "subunitcolor": "white"
          },
          "hoverlabel": {
           "align": "left"
          },
          "hovermode": "closest",
          "mapbox": {
           "style": "light"
          },
          "paper_bgcolor": "white",
          "plot_bgcolor": "#E5ECF6",
          "polar": {
           "angularaxis": {
            "gridcolor": "white",
            "linecolor": "white",
            "ticks": ""
           },
           "bgcolor": "#E5ECF6",
           "radialaxis": {
            "gridcolor": "white",
            "linecolor": "white",
            "ticks": ""
           }
          },
          "scene": {
           "xaxis": {
            "backgroundcolor": "#E5ECF6",
            "gridcolor": "white",
            "gridwidth": 2,
            "linecolor": "white",
            "showbackground": true,
            "ticks": "",
            "zerolinecolor": "white"
           },
           "yaxis": {
            "backgroundcolor": "#E5ECF6",
            "gridcolor": "white",
            "gridwidth": 2,
            "linecolor": "white",
            "showbackground": true,
            "ticks": "",
            "zerolinecolor": "white"
           },
           "zaxis": {
            "backgroundcolor": "#E5ECF6",
            "gridcolor": "white",
            "gridwidth": 2,
            "linecolor": "white",
            "showbackground": true,
            "ticks": "",
            "zerolinecolor": "white"
           }
          },
          "shapedefaults": {
           "line": {
            "color": "#2a3f5f"
           }
          },
          "ternary": {
           "aaxis": {
            "gridcolor": "white",
            "linecolor": "white",
            "ticks": ""
           },
           "baxis": {
            "gridcolor": "white",
            "linecolor": "white",
            "ticks": ""
           },
           "bgcolor": "#E5ECF6",
           "caxis": {
            "gridcolor": "white",
            "linecolor": "white",
            "ticks": ""
           }
          },
          "title": {
           "x": 0.05
          },
          "xaxis": {
           "automargin": true,
           "gridcolor": "white",
           "linecolor": "white",
           "ticks": "",
           "title": {
            "standoff": 15
           },
           "zerolinecolor": "white",
           "zerolinewidth": 2
          },
          "yaxis": {
           "automargin": true,
           "gridcolor": "white",
           "linecolor": "white",
           "ticks": "",
           "title": {
            "standoff": 15
           },
           "zerolinecolor": "white",
           "zerolinewidth": 2
          }
         }
        },
        "width": 900,
        "xaxis": {
         "anchor": "y",
         "domain": [
          0,
          1
         ],
         "range": [
          0,
          105
         ],
         "showgrid": true,
         "title": {
          "text": "<b> Nepotic level (%) <b>"
         },
         "type": "linear"
        },
        "yaxis": {
         "anchor": "x",
         "autorange": true,
         "domain": [
          0,
          1
         ],
         "range": [
          -0.017786561264822136,
          9.017786561264822
         ],
         "showgrid": true,
         "tickmode": "array",
         "ticktext": [
          "DISASTER",
          "FLOP",
          "AVERAGE",
          "SEMI HIT",
          "HIT",
          "SUPER HIT",
          "BLOCKBUSTER",
          "ALL TIME BLOCKBUSTER"
         ],
         "tickvals": [
          1,
          2,
          3,
          4,
          5,
          6,
          7,
          8
         ],
         "title": {
          "text": "<b> Box office verdict <b>"
         },
         "type": "linear"
        }
       }
      },
      "image/png": "[encoded data removed]",
      "text/html": [
       "<div>\n",
       "        \n",
       "        \n",
       "            <div id=\"2d516ac6-44a9-4af1-89cf-c91bdcc773a4\" class=\"plotly-graph-div\" style=\"height:700px; width:900px;\"></div>\n",
       "            <script type=\"text/javascript\">\n",
       "                require([\"plotly\"], function(Plotly) {\n",
       "                    window.PLOTLYENV=window.PLOTLYENV || {};\n",
       "                    \n",
       "                if (document.getElementById(\"2d516ac6-44a9-4af1-89cf-c91bdcc773a4\")) {\n",
       "                    Plotly.newPlot(\n",
       "                        '2d516ac6-44a9-4af1-89cf-c91bdcc773a4',\n",
       "                        [{\"hovertemplate\": \"Outcome=Highly nepotic - above average<br>Nepotic Level=%{x}<br>Verdict Value=%{y}<extra></extra>\", \"legendgroup\": \"Highly nepotic - above average\", \"marker\": {\"color\": \"#636efa\", \"size\": 12, \"symbol\": \"circle\"}, \"mode\": \"markers\", \"name\": \"Highly nepotic - above average\", \"orientation\": \"v\", \"showlegend\": true, \"textposition\": \"top center\", \"type\": \"scatter\", \"x\": [83.33333333333334, 62.5, 57.14285714285714, 62.5, 100.0, 80.0, 83.33333333333334, 71.42857142857143, 85.71428571428571, 71.42857142857143, 80.0, 66.66666666666666, 62.5, 66.66666666666666, 83.33333333333334, 85.71428571428571, 83.33333333333334, 75.0, 60.0], \"xaxis\": \"x\", \"y\": [8, 7, 5, 4, 4, 5, 5, 6, 4, 7, 6, 5, 5, 5, 6, 6, 5, 7, 6], \"yaxis\": \"y\"}, {\"hovertemplate\": \"Outcome=Non-highly nepotic - average or below<br>Nepotic Level=%{x}<br>Verdict Value=%{y}<extra></extra>\", \"legendgroup\": \"Non-highly nepotic - average or below\", \"marker\": {\"color\": \"#EF553B\", \"size\": 12, \"symbol\": \"circle\"}, \"mode\": \"markers\", \"name\": \"Non-highly nepotic - average or below\", \"orientation\": \"v\", \"showlegend\": true, \"textposition\": \"top center\", \"type\": \"scatter\", \"x\": [50.0, 50.0, 14.285714285714285, 25.0, 28.57142857142857, 37.5, 33.33333333333333], \"xaxis\": \"x\", \"y\": [3, 2, 3, 3, 2, 2, 2], \"yaxis\": \"y\"}, {\"hovertemplate\": \"Outcome=Highly nepotic - average or below<br>Nepotic Level=%{x}<br>Verdict Value=%{y}<extra></extra>\", \"legendgroup\": \"Highly nepotic - average or below\", \"marker\": {\"color\": \"#00cc96\", \"size\": 12, \"symbol\": \"circle\"}, \"mode\": \"markers\", \"name\": \"Highly nepotic - average or below\", \"orientation\": \"v\", \"showlegend\": true, \"textposition\": \"top center\", \"type\": \"scatter\", \"x\": [57.14285714285714, 83.33333333333334, 83.33333333333334, 66.66666666666666, 100.0, 57.14285714285714, 60.0, 75.0, 77.77777777777779, 85.71428571428571, 71.42857142857143], \"xaxis\": \"x\", \"y\": [3, 2, 2, 3, 1, 1, 2, 2, 2, 2, 2], \"yaxis\": \"y\"}, {\"hovertemplate\": \"Outcome=Non-highly nepotic - above average<br>Nepotic Level=%{x}<br>Verdict Value=%{y}<extra></extra>\", \"legendgroup\": \"Non-highly nepotic - above average\", \"marker\": {\"color\": \"#ab63fa\", \"size\": 12, \"symbol\": \"circle\"}, \"mode\": \"markers\", \"name\": \"Non-highly nepotic - above average\", \"orientation\": \"v\", \"showlegend\": true, \"textposition\": \"top center\", \"type\": \"scatter\", \"x\": [50.0, 40.0], \"xaxis\": \"x\", \"y\": [4, 5], \"yaxis\": \"y\"}],\n",
       "                        {\"annotations\": [{\"arrowhead\": 2, \"ax\": 0, \"ay\": 20, \"showarrow\": true, \"text\": \"Kuch Kuch Hota Hai\", \"x\": 83.333, \"xref\": \"x\", \"y\": 7.9, \"yref\": \"y\"}, {\"arrowhead\": 2, \"ax\": 0, \"ay\": -20, \"showarrow\": true, \"text\": \"Kesari\", \"x\": 40, \"xref\": \"x\", \"y\": 5.1, \"yref\": \"y\"}, {\"arrowhead\": 2, \"ax\": 0, \"ay\": 20, \"showarrow\": true, \"text\": \"The Lunchbox\", \"x\": 14.3, \"xref\": \"x\", \"y\": 2.9, \"yref\": \"y\"}, {\"arrowhead\": 2, \"ax\": 0, \"ay\": -20, \"showarrow\": true, \"text\": \"Student of the Year 2\", \"x\": 85.71, \"xref\": \"x\", \"y\": 2.1, \"yref\": \"y\"}, {\"font\": {\"color\": \"black\", \"size\": 14}, \"showarrow\": false, \"text\": \"Count: 19\", \"x\": 60, \"xref\": \"x\", \"y\": 8.5, \"yref\": \"y\"}, {\"font\": {\"color\": \"black\", \"size\": 14}, \"showarrow\": false, \"text\": \"Count: 2\", \"x\": 40, \"xref\": \"x\", \"y\": 8.5, \"yref\": \"y\"}, {\"font\": {\"color\": \"black\", \"size\": 14}, \"showarrow\": false, \"text\": \"Count: 7\", \"x\": 40, \"xref\": \"x\", \"y\": 0.5, \"yref\": \"y\"}, {\"font\": {\"color\": \"black\", \"size\": 14}, \"showarrow\": false, \"text\": \"Count: 11\", \"x\": 60, \"xref\": \"x\", \"y\": 0.5, \"yref\": \"y\"}], \"autosize\": false, \"height\": 700, \"legend\": {\"title\": {\"text\": \"Movie\"}, \"tracegroupgap\": 0, \"x\": 0.25, \"y\": 1.2}, \"margin\": {\"t\": 10}, \"plot_bgcolor\": \"rgba(242, 241, 239, 1)\", \"shapes\": [{\"line\": {\"color\": \"#258193\", \"dash\": \"dot\", \"width\": 2}, \"type\": \"line\", \"x0\": 51, \"x1\": 51, \"y0\": 0, \"y1\": 9}, {\"line\": {\"color\": \"#258193\", \"dash\": \"dot\", \"width\": 2}, \"type\": \"line\", \"x0\": 0, \"x1\": 110, \"y0\": 3.5, \"y1\": 3.5}], \"template\": {\"data\": {\"bar\": [{\"error_x\": {\"color\": \"#2a3f5f\"}, \"error_y\": {\"color\": \"#2a3f5f\"}, \"marker\": {\"line\": {\"color\": \"#E5ECF6\", \"width\": 0.5}}, \"type\": \"bar\"}], \"barpolar\": [{\"marker\": {\"line\": {\"color\": \"#E5ECF6\", \"width\": 0.5}}, \"type\": \"barpolar\"}], \"carpet\": [{\"aaxis\": {\"endlinecolor\": \"#2a3f5f\", \"gridcolor\": \"white\", \"linecolor\": \"white\", \"minorgridcolor\": \"white\", \"startlinecolor\": \"#2a3f5f\"}, \"baxis\": {\"endlinecolor\": \"#2a3f5f\", \"gridcolor\": \"white\", \"linecolor\": \"white\", \"minorgridcolor\": \"white\", \"startlinecolor\": \"#2a3f5f\"}, \"type\": \"carpet\"}], \"choropleth\": [{\"colorbar\": {\"outlinewidth\": 0, \"ticks\": \"\"}, \"type\": \"choropleth\"}], \"contour\": [{\"colorbar\": {\"outlinewidth\": 0, \"ticks\": \"\"}, \"colorscale\": [[0.0, \"#0d0887\"], [0.1111111111111111, \"#46039f\"], [0.2222222222222222, \"#7201a8\"], [0.3333333333333333, \"#9c179e\"], [0.4444444444444444, \"#bd3786\"], [0.5555555555555556, \"#d8576b\"], [0.6666666666666666, \"#ed7953\"], [0.7777777777777778, \"#fb9f3a\"], [0.8888888888888888, \"#fdca26\"], [1.0, \"#f0f921\"]], \"type\": \"contour\"}], \"contourcarpet\": [{\"colorbar\": {\"outlinewidth\": 0, \"ticks\": \"\"}, \"type\": \"contourcarpet\"}], \"heatmap\": [{\"colorbar\": {\"outlinewidth\": 0, \"ticks\": \"\"}, \"colorscale\": [[0.0, \"#0d0887\"], [0.1111111111111111, \"#46039f\"], [0.2222222222222222, \"#7201a8\"], [0.3333333333333333, \"#9c179e\"], [0.4444444444444444, \"#bd3786\"], [0.5555555555555556, \"#d8576b\"], [0.6666666666666666, \"#ed7953\"], [0.7777777777777778, \"#fb9f3a\"], [0.8888888888888888, \"#fdca26\"], [1.0, \"#f0f921\"]], \"type\": \"heatmap\"}], \"heatmapgl\": [{\"colorbar\": {\"outlinewidth\": 0, \"ticks\": \"\"}, \"colorscale\": [[0.0, \"#0d0887\"], [0.1111111111111111, \"#46039f\"], [0.2222222222222222, \"#7201a8\"], [0.3333333333333333, \"#9c179e\"], [0.4444444444444444, \"#bd3786\"], [0.5555555555555556, \"#d8576b\"], [0.6666666666666666, \"#ed7953\"], [0.7777777777777778, \"#fb9f3a\"], [0.8888888888888888, \"#fdca26\"], [1.0, \"#f0f921\"]], \"type\": \"heatmapgl\"}], \"histogram\": [{\"marker\": {\"colorbar\": {\"outlinewidth\": 0, \"ticks\": \"\"}}, \"type\": \"histogram\"}], \"histogram2d\": [{\"colorbar\": {\"outlinewidth\": 0, \"ticks\": \"\"}, \"colorscale\": [[0.0, \"#0d0887\"], [0.1111111111111111, \"#46039f\"], [0.2222222222222222, \"#7201a8\"], [0.3333333333333333, \"#9c179e\"], [0.4444444444444444, \"#bd3786\"], [0.5555555555555556, \"#d8576b\"], [0.6666666666666666, \"#ed7953\"], [0.7777777777777778, \"#fb9f3a\"], [0.8888888888888888, \"#fdca26\"], [1.0, \"#f0f921\"]], \"type\": \"histogram2d\"}], \"histogram2dcontour\": [{\"colorbar\": {\"outlinewidth\": 0, \"ticks\": \"\"}, \"colorscale\": [[0.0, \"#0d0887\"], [0.1111111111111111, \"#46039f\"], [0.2222222222222222, \"#7201a8\"], [0.3333333333333333, \"#9c179e\"], [0.4444444444444444, \"#bd3786\"], [0.5555555555555556, \"#d8576b\"], [0.6666666666666666, \"#ed7953\"], [0.7777777777777778, \"#fb9f3a\"], [0.8888888888888888, \"#fdca26\"], [1.0, \"#f0f921\"]], \"type\": \"histogram2dcontour\"}], \"mesh3d\": [{\"colorbar\": {\"outlinewidth\": 0, \"ticks\": \"\"}, \"type\": \"mesh3d\"}], \"parcoords\": [{\"line\": {\"colorbar\": {\"outlinewidth\": 0, \"ticks\": \"\"}}, \"type\": \"parcoords\"}], \"pie\": [{\"automargin\": true, \"type\": \"pie\"}], \"scatter\": [{\"marker\": {\"colorbar\": {\"outlinewidth\": 0, \"ticks\": \"\"}}, \"type\": \"scatter\"}], \"scatter3d\": [{\"line\": {\"colorbar\": {\"outlinewidth\": 0, \"ticks\": \"\"}}, \"marker\": {\"colorbar\": {\"outlinewidth\": 0, \"ticks\": \"\"}}, \"type\": \"scatter3d\"}], \"scattercarpet\": [{\"marker\": {\"colorbar\": {\"outlinewidth\": 0, \"ticks\": \"\"}}, \"type\": \"scattercarpet\"}], \"scattergeo\": [{\"marker\": {\"colorbar\": {\"outlinewidth\": 0, \"ticks\": \"\"}}, \"type\": \"scattergeo\"}], \"scattergl\": [{\"marker\": {\"colorbar\": {\"outlinewidth\": 0, \"ticks\": \"\"}}, \"type\": \"scattergl\"}], \"scattermapbox\": [{\"marker\": {\"colorbar\": {\"outlinewidth\": 0, \"ticks\": \"\"}}, \"type\": \"scattermapbox\"}], \"scatterpolar\": [{\"marker\": {\"colorbar\": {\"outlinewidth\": 0, \"ticks\": \"\"}}, \"type\": \"scatterpolar\"}], \"scatterpolargl\": [{\"marker\": {\"colorbar\": {\"outlinewidth\": 0, \"ticks\": \"\"}}, \"type\": \"scatterpolargl\"}], \"scatterternary\": [{\"marker\": {\"colorbar\": {\"outlinewidth\": 0, \"ticks\": \"\"}}, \"type\": \"scatterternary\"}], \"surface\": [{\"colorbar\": {\"outlinewidth\": 0, \"ticks\": \"\"}, \"colorscale\": [[0.0, \"#0d0887\"], [0.1111111111111111, \"#46039f\"], [0.2222222222222222, \"#7201a8\"], [0.3333333333333333, \"#9c179e\"], [0.4444444444444444, \"#bd3786\"], [0.5555555555555556, \"#d8576b\"], [0.6666666666666666, \"#ed7953\"], [0.7777777777777778, \"#fb9f3a\"], [0.8888888888888888, \"#fdca26\"], [1.0, \"#f0f921\"]], \"type\": \"surface\"}], \"table\": [{\"cells\": {\"fill\": {\"color\": \"#EBF0F8\"}, \"line\": {\"color\": \"white\"}}, \"header\": {\"fill\": {\"color\": \"#C8D4E3\"}, \"line\": {\"color\": \"white\"}}, \"type\": \"table\"}]}, \"layout\": {\"annotationdefaults\": {\"arrowcolor\": \"#2a3f5f\", \"arrowhead\": 0, \"arrowwidth\": 1}, \"coloraxis\": {\"colorbar\": {\"outlinewidth\": 0, \"ticks\": \"\"}}, \"colorscale\": {\"diverging\": [[0, \"#8e0152\"], [0.1, \"#c51b7d\"], [0.2, \"#de77ae\"], [0.3, \"#f1b6da\"], [0.4, \"#fde0ef\"], [0.5, \"#f7f7f7\"], [0.6, \"#e6f5d0\"], [0.7, \"#b8e186\"], [0.8, \"#7fbc41\"], [0.9, \"#4d9221\"], [1, \"#276419\"]], \"sequential\": [[0.0, \"#0d0887\"], [0.1111111111111111, \"#46039f\"], [0.2222222222222222, \"#7201a8\"], [0.3333333333333333, \"#9c179e\"], [0.4444444444444444, \"#bd3786\"], [0.5555555555555556, \"#d8576b\"], [0.6666666666666666, \"#ed7953\"], [0.7777777777777778, \"#fb9f3a\"], [0.8888888888888888, \"#fdca26\"], [1.0, \"#f0f921\"]], \"sequentialminus\": [[0.0, \"#0d0887\"], [0.1111111111111111, \"#46039f\"], [0.2222222222222222, \"#7201a8\"], [0.3333333333333333, \"#9c179e\"], [0.4444444444444444, \"#bd3786\"], [0.5555555555555556, \"#d8576b\"], [0.6666666666666666, \"#ed7953\"], [0.7777777777777778, \"#fb9f3a\"], [0.8888888888888888, \"#fdca26\"], [1.0, \"#f0f921\"]]}, \"colorway\": [\"#636efa\", \"#EF553B\", \"#00cc96\", \"#ab63fa\", \"#FFA15A\", \"#19d3f3\", \"#FF6692\", \"#B6E880\", \"#FF97FF\", \"#FECB52\"], \"font\": {\"color\": \"#2a3f5f\"}, \"geo\": {\"bgcolor\": \"white\", \"lakecolor\": \"white\", \"landcolor\": \"#E5ECF6\", \"showlakes\": true, \"showland\": true, \"subunitcolor\": \"white\"}, \"hoverlabel\": {\"align\": \"left\"}, \"hovermode\": \"closest\", \"mapbox\": {\"style\": \"light\"}, \"paper_bgcolor\": \"white\", \"plot_bgcolor\": \"#E5ECF6\", \"polar\": {\"angularaxis\": {\"gridcolor\": \"white\", \"linecolor\": \"white\", \"ticks\": \"\"}, \"bgcolor\": \"#E5ECF6\", \"radialaxis\": {\"gridcolor\": \"white\", \"linecolor\": \"white\", \"ticks\": \"\"}}, \"scene\": {\"xaxis\": {\"backgroundcolor\": \"#E5ECF6\", \"gridcolor\": \"white\", \"gridwidth\": 2, \"linecolor\": \"white\", \"showbackground\": true, \"ticks\": \"\", \"zerolinecolor\": \"white\"}, \"yaxis\": {\"backgroundcolor\": \"#E5ECF6\", \"gridcolor\": \"white\", \"gridwidth\": 2, \"linecolor\": \"white\", \"showbackground\": true, \"ticks\": \"\", \"zerolinecolor\": \"white\"}, \"zaxis\": {\"backgroundcolor\": \"#E5ECF6\", \"gridcolor\": \"white\", \"gridwidth\": 2, \"linecolor\": \"white\", \"showbackground\": true, \"ticks\": \"\", \"zerolinecolor\": \"white\"}}, \"shapedefaults\": {\"line\": {\"color\": \"#2a3f5f\"}}, \"ternary\": {\"aaxis\": {\"gridcolor\": \"white\", \"linecolor\": \"white\", \"ticks\": \"\"}, \"baxis\": {\"gridcolor\": \"white\", \"linecolor\": \"white\", \"ticks\": \"\"}, \"bgcolor\": \"#E5ECF6\", \"caxis\": {\"gridcolor\": \"white\", \"linecolor\": \"white\", \"ticks\": \"\"}}, \"title\": {\"x\": 0.05}, \"xaxis\": {\"automargin\": true, \"gridcolor\": \"white\", \"linecolor\": \"white\", \"ticks\": \"\", \"title\": {\"standoff\": 15}, \"zerolinecolor\": \"white\", \"zerolinewidth\": 2}, \"yaxis\": {\"automargin\": true, \"gridcolor\": \"white\", \"linecolor\": \"white\", \"ticks\": \"\", \"title\": {\"standoff\": 15}, \"zerolinecolor\": \"white\", \"zerolinewidth\": 2}}}, \"width\": 900, \"xaxis\": {\"anchor\": \"y\", \"domain\": [0.0, 1.0], \"range\": [0, 105], \"showgrid\": true, \"title\": {\"text\": \"<b> Nepotic level (%) <b>\"}}, \"yaxis\": {\"anchor\": \"x\", \"domain\": [0.0, 1.0], \"showgrid\": true, \"tickmode\": \"array\", \"ticktext\": [\"DISASTER\", \"FLOP\", \"AVERAGE\", \"SEMI HIT\", \"HIT\", \"SUPER HIT\", \"BLOCKBUSTER\", \"ALL TIME BLOCKBUSTER\"], \"tickvals\": [1, 2, 3, 4, 5, 6, 7, 8], \"title\": {\"text\": \"<b> Box office verdict <b>\"}}},\n",
       "                        {\"responsive\": true}\n",
       "                    ).then(function(){\n",
       "                            \n",
       "var gd = document.getElementById('2d516ac6-44a9-4af1-89cf-c91bdcc773a4');\n",
       "var x = new MutationObserver(function (mutations, observer) {{\n",
       "        var display = window.getComputedStyle(gd).display;\n",
       "        if (!display || display === 'none') {{\n",
       "            console.log([gd, 'removed!']);\n",
       "            Plotly.purge(gd);\n",
       "            observer.disconnect();\n",
       "        }}\n",
       "}});\n",
       "\n",
       "// Listen for the removal of the full notebook cells\n",
       "var notebookContainer = gd.closest('#notebook-container');\n",
       "if (notebookContainer) {{\n",
       "    x.observe(notebookContainer, {childList: true});\n",
       "}}\n",
       "\n",
       "// Listen for the clearing of the current output cell\n",
       "var outputEl = gd.closest('.output');\n",
       "if (outputEl) {{\n",
       "    x.observe(outputEl, {childList: true});\n",
       "}}\n",
       "\n",
       "                        })\n",
       "                };\n",
       "                });\n",
       "            </script>\n",
       "        </div>"
      ]
     },
     "metadata": {},
     "output_type": "display_data"
    }
   ],
   "source": [
    "# Visualization\n",
    "df = px.data.iris()\n",
    "fig = px.scatter(df_movie_verdict, x=\"Nepotic Level\", y=\"Verdict Value\", color=\"Outcome\")\n",
    "\n",
    "fig.update_layout(\n",
    "    autosize=False,\n",
    "    width=900,\n",
    "    height=700,\n",
    "    xaxis = dict(title=\"<b> Nepotic level (%) <b>\", showgrid = True, range = [0,105]),\n",
    "    yaxis = dict(title=\"<b> Box office verdict <b>\",\n",
    "                showgrid = True,\n",
    "                tickmode = 'array',\n",
    "                tickvals = [1, 2, 3, 4, 5, 6, 7, 8],\n",
    "                ticktext = verdict_text[1:]),\n",
    "    plot_bgcolor= 'rgba(242, 241, 239, 1)',\n",
    "    margin=go.layout.Margin(\n",
    "        t=10, #top margin\n",
    "    ),\n",
    "    legend=dict(\n",
    "        title_text='Movie',\n",
    "        x = 0.25,\n",
    "        y = 1.2),\n",
    "    shapes = [\n",
    "        {\n",
    "            'type': 'line',\n",
    "            'x0': 51,\n",
    "            'y0': 0,\n",
    "            'x1': 51,\n",
    "            'y1': 9,\n",
    "            'line': {\n",
    "                'color': color_teal,\n",
    "                'width': 2,\n",
    "                'dash': \"dot\"\n",
    "            },\n",
    "        },\n",
    "        {\n",
    "            'type': 'line',\n",
    "            'x0': 0,\n",
    "            'y0': 3.5,\n",
    "            'x1': 110,\n",
    "            'y1': 3.5,\n",
    "            'line': {\n",
    "                'color': color_teal,\n",
    "                'width': 2,\n",
    "                'dash': \"dot\"\n",
    "            },\n",
    "        },\n",
    "        \n",
    "    ],\n",
    "    annotations=[\n",
    "        dict(\n",
    "            x=83.333,\n",
    "            y=7.9,\n",
    "            xref=\"x\",\n",
    "            yref=\"y\",\n",
    "            text=\"Kuch Kuch Hota Hai\",\n",
    "            showarrow=True,\n",
    "            arrowhead=2,\n",
    "            ax=0,\n",
    "            ay=20\n",
    "        ),\n",
    "        dict(\n",
    "            x=40,\n",
    "            y=5.1,\n",
    "            xref=\"x\",\n",
    "            yref=\"y\",\n",
    "            text=\"Kesari\",\n",
    "            showarrow=True,\n",
    "            arrowhead=2,\n",
    "            ax=0,\n",
    "            ay=-20\n",
    "        ),\n",
    "        dict(\n",
    "            x=14.3,\n",
    "            y=2.9,\n",
    "            xref=\"x\",\n",
    "            yref=\"y\",\n",
    "            text=\"The Lunchbox\",\n",
    "            showarrow=True,\n",
    "            arrowhead=2,\n",
    "            ax=0,\n",
    "            ay=20\n",
    "        ),\n",
    "        dict(\n",
    "            x=85.71,\n",
    "            y=2.1,\n",
    "            xref=\"x\",\n",
    "            yref=\"y\",\n",
    "            text=\"Student of the Year 2\",\n",
    "            showarrow=True,\n",
    "            arrowhead=2,\n",
    "            ax=0,\n",
    "            ay=-20\n",
    "        ),\n",
    "        dict(\n",
    "            x=60,\n",
    "            y=8.5,\n",
    "            xref=\"x\",\n",
    "            yref=\"y\",\n",
    "            text= \"Count: \" + str(count_ur),\n",
    "            showarrow=False,\n",
    "            font_size = 14,\n",
    "            font_color = 'black'\n",
    "        ),\n",
    "        dict(\n",
    "            x=40,\n",
    "            y=8.5,\n",
    "            xref=\"x\",\n",
    "            yref=\"y\",\n",
    "            text= \"Count: \" + str(count_ul),\n",
    "            showarrow=False,\n",
    "            font_size = 14,\n",
    "            font_color = 'black'\n",
    "        ),\n",
    "        dict(\n",
    "            x=40,\n",
    "            y=0.5,\n",
    "            xref=\"x\",\n",
    "            yref=\"y\",\n",
    "            text= \"Count: \" + str(count_ll),\n",
    "            showarrow=False,\n",
    "            font_size = 14,\n",
    "            font_color = 'black'\n",
    "        ),\n",
    "        dict(\n",
    "            x=60,\n",
    "            y=0.5,\n",
    "            xref=\"x\",\n",
    "            yref=\"y\",\n",
    "            text= \"Count: \" + str(count_lr),\n",
    "            showarrow=False,\n",
    "            font_size = 14,\n",
    "            font_color = 'black'\n",
    "        )\n",
    "        \n",
    "    ]\n",
    ")\n",
    "\n",
    "fig.update_traces(marker=dict(size=12),\n",
    "                  selector=dict(mode='markers'))\n",
    "\n",
    "fig.update_traces(textposition='top center')\n",
    "\n",
    "fig.show()\n",
    "\n",
    "fig.write_image(\"kj_movies_success_vs_nepotic_level.png\", engine=\"kaleido\", scale = 2)"
   ]
  },
  {
   "cell_type": "markdown",
   "metadata": {},
   "source": [
    "### Analysis #5: Equal opportunities in new crew members launched by Dharma"
   ]
  },
  {
   "cell_type": "code",
   "execution_count": 301,
   "metadata": {},
   "outputs": [],
   "source": [
    "def get_list_crew_launched(movie_dict):\n",
    "    crew_list = []\n",
    "    movie_list = []\n",
    "    crew_role_list = []\n",
    "    for movie, movie_info in movie_dict.items():\n",
    "        movie_list.append(movie)\n",
    "        for item in movie_info:\n",
    "            if item in ['Directors', 'Producers', 'Actors']:\n",
    "                el = movie_info[item]\n",
    "                for crew in el:\n",
    "                    if crew not in crew_list:\n",
    "                        crew_role_list.append(item)\n",
    "                        crew_list.append(crew)\n",
    "\n",
    "    crew_launched = []\n",
    "    crew_launched_movie = []\n",
    "    crew_connection = []\n",
    "    crew_connection_value = []\n",
    "    crew_launched_role = [] \n",
    "    for crew_name, crew_role in zip(crew_list, crew_role_list):\n",
    "        crew_found = 0\n",
    "        if crew_name in df_database['Name'].values: \n",
    "            found_in = 'Name'\n",
    "            crew_found += 1\n",
    "        elif crew_name in df_database['Alternate Name'].values:\n",
    "            found_in = 'Alternate Name'\n",
    "            crew_found += 1\n",
    "            \n",
    "        if crew_found == 1:\n",
    "            first_movie = df_database.loc[df_database[found_in] == crew_name, 'First Bollywood Movie in Lead Role'].values[0]\n",
    "            if first_movie in movie_list:\n",
    "                crew_launched.append(crew_name)\n",
    "                crew_launched_movie.append(first_movie)\n",
    "                crew_launched_role.append(crew_role)\n",
    "                connection = df_database.loc[df_database[found_in] == crew_name, 'Known Bollywood Relation'].values[0]\n",
    "                crew_connection.append(connection)\n",
    "                if connection != 'None':\n",
    "                    crew_connection_value.append(1)\n",
    "                else:\n",
    "                     crew_connection_value.append(0)   \n",
    "        else:\n",
    "            print(crew_name)\n",
    "\n",
    "    df_crew_launched = pd.DataFrame()\n",
    "    df_crew_launched['Name'] = crew_launched \n",
    "    df_crew_launched['Movie Launched'] = crew_launched_movie \n",
    "    df_crew_launched['Role'] = crew_launched_role\n",
    "    df_crew_launched['Known Bollywood Relation'] = crew_connection\n",
    "    df_crew_launched['Relation Value'] = crew_connection_value\n",
    "    return df_crew_launched\n",
    "\n",
    "df_crew_launched = get_list_crew_launched(dict_movie_info_cleaned)  \n",
    "\n",
    "df_crew_launched = df_crew_launched[df_crew_launched['Name']!= 'Hiroo Yash Johar']\n",
    "role_list = ['Actor', 'Actor', 'Director', 'Director', 'Producer', 'Producer']\n",
    "nepotic_value = ['Product of nepotism', 'Outsider', 'Product of nepotism', 'Outsider', 'Product of nepotism', 'Outsider']\n",
    "\n",
    "actor_nepotic = len(df_crew_launched.loc[(df_crew_launched['Role'] == 'Actors') & (df_crew_launched['Known Bollywood Relation'] != 'None')])\n",
    "actor_non_nepotic = len(df_crew_launched.loc[(df_crew_launched['Role'] == 'Actors') & (df_crew_launched['Known Bollywood Relation'] == 'None')])\n",
    "director_nepotic = len(df_crew_launched.loc[(df_crew_launched['Role'] == 'Directors') & (df_crew_launched['Known Bollywood Relation'] != 'None')])\n",
    "director_non_nepotic = len(df_crew_launched.loc[(df_crew_launched['Role'] == 'Directors') & (df_crew_launched['Known Bollywood Relation'] == 'None')])\n",
    "producer_nepotic = len(df_crew_launched.loc[(df_crew_launched['Role'] == 'Producers') & (df_crew_launched['Known Bollywood Relation'] != 'None')])\n",
    "producer_non_nepotic = len(df_crew_launched.loc[(df_crew_launched['Role'] == 'Producers') & (df_crew_launched['Known Bollywood Relation'] == 'None')])\n",
    "\n",
    "total_list = [actor_nepotic, actor_non_nepotic, director_nepotic, director_non_nepotic, producer_nepotic, producer_non_nepotic]\n",
    "\n",
    "df_crew_launched_structured = pd.DataFrame()\n",
    "df_crew_launched_structured['Role'] = role_list\n",
    "df_crew_launched_structured['Nepotic Status'] = nepotic_value\n",
    "df_crew_launched_structured['Number'] = total_list"
   ]
  },
  {
   "cell_type": "code",
   "execution_count": 302,
   "metadata": {},
   "outputs": [
    {
     "data": {
      "application/vnd.plotly.v1+json": {
       "config": {
        "plotlyServerURL": "https://plot.ly"
       },
       "data": [
        {
         "alignmentgroup": "True",
         "hovertemplate": "Nepotic Status=Product of nepotism<br>Role=%{x}<br>Number=%{text}<extra></extra>",
         "legendgroup": "Product of nepotism",
         "marker": {
          "color": "#910838"
         },
         "name": "Product of nepotism",
         "offsetgroup": "Product of nepotism",
         "orientation": "v",
         "showlegend": true,
         "text": [
          4,
          5,
          2
         ],
         "textposition": "auto",
         "type": "bar",
         "x": [
          "Actor",
          "Director",
          "Producer"
         ],
         "xaxis": "x",
         "y": [
          4,
          5,
          2
         ],
         "yaxis": "y"
        },
        {
         "alignmentgroup": "True",
         "hovertemplate": "Nepotic Status=Outsider<br>Role=%{x}<br>Number=%{text}<extra></extra>",
         "legendgroup": "Outsider",
         "marker": {
          "color": "#258193"
         },
         "name": "Outsider",
         "offsetgroup": "Outsider",
         "orientation": "v",
         "showlegend": true,
         "text": [
          5,
          16,
          1
         ],
         "textposition": "auto",
         "type": "bar",
         "x": [
          "Actor",
          "Director",
          "Producer"
         ],
         "xaxis": "x",
         "y": [
          5,
          16,
          1
         ],
         "yaxis": "y"
        }
       ],
       "layout": {
        "autosize": false,
        "barmode": "relative",
        "height": 600,
        "legend": {
         "title": {
          "text": ""
         },
         "tracegroupgap": 0,
         "x": 0.65,
         "y": 0.8
        },
        "margin": {
         "t": 10
        },
        "plot_bgcolor": "rgba(242, 241, 239, 1)",
        "template": {
         "data": {
          "bar": [
           {
            "error_x": {
             "color": "#2a3f5f"
            },
            "error_y": {
             "color": "#2a3f5f"
            },
            "marker": {
             "line": {
              "color": "#E5ECF6",
              "width": 0.5
             }
            },
            "type": "bar"
           }
          ],
          "barpolar": [
           {
            "marker": {
             "line": {
              "color": "#E5ECF6",
              "width": 0.5
             }
            },
            "type": "barpolar"
           }
          ],
          "carpet": [
           {
            "aaxis": {
             "endlinecolor": "#2a3f5f",
             "gridcolor": "white",
             "linecolor": "white",
             "minorgridcolor": "white",
             "startlinecolor": "#2a3f5f"
            },
            "baxis": {
             "endlinecolor": "#2a3f5f",
             "gridcolor": "white",
             "linecolor": "white",
             "minorgridcolor": "white",
             "startlinecolor": "#2a3f5f"
            },
            "type": "carpet"
           }
          ],
          "choropleth": [
           {
            "colorbar": {
             "outlinewidth": 0,
             "ticks": ""
            },
            "type": "choropleth"
           }
          ],
          "contour": [
           {
            "colorbar": {
             "outlinewidth": 0,
             "ticks": ""
            },
            "colorscale": [
             [
              0,
              "#0d0887"
             ],
             [
              0.1111111111111111,
              "#46039f"
             ],
             [
              0.2222222222222222,
              "#7201a8"
             ],
             [
              0.3333333333333333,
              "#9c179e"
             ],
             [
              0.4444444444444444,
              "#bd3786"
             ],
             [
              0.5555555555555556,
              "#d8576b"
             ],
             [
              0.6666666666666666,
              "#ed7953"
             ],
             [
              0.7777777777777778,
              "#fb9f3a"
             ],
             [
              0.8888888888888888,
              "#fdca26"
             ],
             [
              1,
              "#f0f921"
             ]
            ],
            "type": "contour"
           }
          ],
          "contourcarpet": [
           {
            "colorbar": {
             "outlinewidth": 0,
             "ticks": ""
            },
            "type": "contourcarpet"
           }
          ],
          "heatmap": [
           {
            "colorbar": {
             "outlinewidth": 0,
             "ticks": ""
            },
            "colorscale": [
             [
              0,
              "#0d0887"
             ],
             [
              0.1111111111111111,
              "#46039f"
             ],
             [
              0.2222222222222222,
              "#7201a8"
             ],
             [
              0.3333333333333333,
              "#9c179e"
             ],
             [
              0.4444444444444444,
              "#bd3786"
             ],
             [
              0.5555555555555556,
              "#d8576b"
             ],
             [
              0.6666666666666666,
              "#ed7953"
             ],
             [
              0.7777777777777778,
              "#fb9f3a"
             ],
             [
              0.8888888888888888,
              "#fdca26"
             ],
             [
              1,
              "#f0f921"
             ]
            ],
            "type": "heatmap"
           }
          ],
          "heatmapgl": [
           {
            "colorbar": {
             "outlinewidth": 0,
             "ticks": ""
            },
            "colorscale": [
             [
              0,
              "#0d0887"
             ],
             [
              0.1111111111111111,
              "#46039f"
             ],
             [
              0.2222222222222222,
              "#7201a8"
             ],
             [
              0.3333333333333333,
              "#9c179e"
             ],
             [
              0.4444444444444444,
              "#bd3786"
             ],
             [
              0.5555555555555556,
              "#d8576b"
             ],
             [
              0.6666666666666666,
              "#ed7953"
             ],
             [
              0.7777777777777778,
              "#fb9f3a"
             ],
             [
              0.8888888888888888,
              "#fdca26"
             ],
             [
              1,
              "#f0f921"
             ]
            ],
            "type": "heatmapgl"
           }
          ],
          "histogram": [
           {
            "marker": {
             "colorbar": {
              "outlinewidth": 0,
              "ticks": ""
             }
            },
            "type": "histogram"
           }
          ],
          "histogram2d": [
           {
            "colorbar": {
             "outlinewidth": 0,
             "ticks": ""
            },
            "colorscale": [
             [
              0,
              "#0d0887"
             ],
             [
              0.1111111111111111,
              "#46039f"
             ],
             [
              0.2222222222222222,
              "#7201a8"
             ],
             [
              0.3333333333333333,
              "#9c179e"
             ],
             [
              0.4444444444444444,
              "#bd3786"
             ],
             [
              0.5555555555555556,
              "#d8576b"
             ],
             [
              0.6666666666666666,
              "#ed7953"
             ],
             [
              0.7777777777777778,
              "#fb9f3a"
             ],
             [
              0.8888888888888888,
              "#fdca26"
             ],
             [
              1,
              "#f0f921"
             ]
            ],
            "type": "histogram2d"
           }
          ],
          "histogram2dcontour": [
           {
            "colorbar": {
             "outlinewidth": 0,
             "ticks": ""
            },
            "colorscale": [
             [
              0,
              "#0d0887"
             ],
             [
              0.1111111111111111,
              "#46039f"
             ],
             [
              0.2222222222222222,
              "#7201a8"
             ],
             [
              0.3333333333333333,
              "#9c179e"
             ],
             [
              0.4444444444444444,
              "#bd3786"
             ],
             [
              0.5555555555555556,
              "#d8576b"
             ],
             [
              0.6666666666666666,
              "#ed7953"
             ],
             [
              0.7777777777777778,
              "#fb9f3a"
             ],
             [
              0.8888888888888888,
              "#fdca26"
             ],
             [
              1,
              "#f0f921"
             ]
            ],
            "type": "histogram2dcontour"
           }
          ],
          "mesh3d": [
           {
            "colorbar": {
             "outlinewidth": 0,
             "ticks": ""
            },
            "type": "mesh3d"
           }
          ],
          "parcoords": [
           {
            "line": {
             "colorbar": {
              "outlinewidth": 0,
              "ticks": ""
             }
            },
            "type": "parcoords"
           }
          ],
          "pie": [
           {
            "automargin": true,
            "type": "pie"
           }
          ],
          "scatter": [
           {
            "marker": {
             "colorbar": {
              "outlinewidth": 0,
              "ticks": ""
             }
            },
            "type": "scatter"
           }
          ],
          "scatter3d": [
           {
            "line": {
             "colorbar": {
              "outlinewidth": 0,
              "ticks": ""
             }
            },
            "marker": {
             "colorbar": {
              "outlinewidth": 0,
              "ticks": ""
             }
            },
            "type": "scatter3d"
           }
          ],
          "scattercarpet": [
           {
            "marker": {
             "colorbar": {
              "outlinewidth": 0,
              "ticks": ""
             }
            },
            "type": "scattercarpet"
           }
          ],
          "scattergeo": [
           {
            "marker": {
             "colorbar": {
              "outlinewidth": 0,
              "ticks": ""
             }
            },
            "type": "scattergeo"
           }
          ],
          "scattergl": [
           {
            "marker": {
             "colorbar": {
              "outlinewidth": 0,
              "ticks": ""
             }
            },
            "type": "scattergl"
           }
          ],
          "scattermapbox": [
           {
            "marker": {
             "colorbar": {
              "outlinewidth": 0,
              "ticks": ""
             }
            },
            "type": "scattermapbox"
           }
          ],
          "scatterpolar": [
           {
            "marker": {
             "colorbar": {
              "outlinewidth": 0,
              "ticks": ""
             }
            },
            "type": "scatterpolar"
           }
          ],
          "scatterpolargl": [
           {
            "marker": {
             "colorbar": {
              "outlinewidth": 0,
              "ticks": ""
             }
            },
            "type": "scatterpolargl"
           }
          ],
          "scatterternary": [
           {
            "marker": {
             "colorbar": {
              "outlinewidth": 0,
              "ticks": ""
             }
            },
            "type": "scatterternary"
           }
          ],
          "surface": [
           {
            "colorbar": {
             "outlinewidth": 0,
             "ticks": ""
            },
            "colorscale": [
             [
              0,
              "#0d0887"
             ],
             [
              0.1111111111111111,
              "#46039f"
             ],
             [
              0.2222222222222222,
              "#7201a8"
             ],
             [
              0.3333333333333333,
              "#9c179e"
             ],
             [
              0.4444444444444444,
              "#bd3786"
             ],
             [
              0.5555555555555556,
              "#d8576b"
             ],
             [
              0.6666666666666666,
              "#ed7953"
             ],
             [
              0.7777777777777778,
              "#fb9f3a"
             ],
             [
              0.8888888888888888,
              "#fdca26"
             ],
             [
              1,
              "#f0f921"
             ]
            ],
            "type": "surface"
           }
          ],
          "table": [
           {
            "cells": {
             "fill": {
              "color": "#EBF0F8"
             },
             "line": {
              "color": "white"
             }
            },
            "header": {
             "fill": {
              "color": "#C8D4E3"
             },
             "line": {
              "color": "white"
             }
            },
            "type": "table"
           }
          ]
         },
         "layout": {
          "annotationdefaults": {
           "arrowcolor": "#2a3f5f",
           "arrowhead": 0,
           "arrowwidth": 1
          },
          "coloraxis": {
           "colorbar": {
            "outlinewidth": 0,
            "ticks": ""
           }
          },
          "colorscale": {
           "diverging": [
            [
             0,
             "#8e0152"
            ],
            [
             0.1,
             "#c51b7d"
            ],
            [
             0.2,
             "#de77ae"
            ],
            [
             0.3,
             "#f1b6da"
            ],
            [
             0.4,
             "#fde0ef"
            ],
            [
             0.5,
             "#f7f7f7"
            ],
            [
             0.6,
             "#e6f5d0"
            ],
            [
             0.7,
             "#b8e186"
            ],
            [
             0.8,
             "#7fbc41"
            ],
            [
             0.9,
             "#4d9221"
            ],
            [
             1,
             "#276419"
            ]
           ],
           "sequential": [
            [
             0,
             "#0d0887"
            ],
            [
             0.1111111111111111,
             "#46039f"
            ],
            [
             0.2222222222222222,
             "#7201a8"
            ],
            [
             0.3333333333333333,
             "#9c179e"
            ],
            [
             0.4444444444444444,
             "#bd3786"
            ],
            [
             0.5555555555555556,
             "#d8576b"
            ],
            [
             0.6666666666666666,
             "#ed7953"
            ],
            [
             0.7777777777777778,
             "#fb9f3a"
            ],
            [
             0.8888888888888888,
             "#fdca26"
            ],
            [
             1,
             "#f0f921"
            ]
           ],
           "sequentialminus": [
            [
             0,
             "#0d0887"
            ],
            [
             0.1111111111111111,
             "#46039f"
            ],
            [
             0.2222222222222222,
             "#7201a8"
            ],
            [
             0.3333333333333333,
             "#9c179e"
            ],
            [
             0.4444444444444444,
             "#bd3786"
            ],
            [
             0.5555555555555556,
             "#d8576b"
            ],
            [
             0.6666666666666666,
             "#ed7953"
            ],
            [
             0.7777777777777778,
             "#fb9f3a"
            ],
            [
             0.8888888888888888,
             "#fdca26"
            ],
            [
             1,
             "#f0f921"
            ]
           ]
          },
          "colorway": [
           "#636efa",
           "#EF553B",
           "#00cc96",
           "#ab63fa",
           "#FFA15A",
           "#19d3f3",
           "#FF6692",
           "#B6E880",
           "#FF97FF",
           "#FECB52"
          ],
          "font": {
           "color": "#2a3f5f"
          },
          "geo": {
           "bgcolor": "white",
           "lakecolor": "white",
           "landcolor": "#E5ECF6",
           "showlakes": true,
           "showland": true,
           "subunitcolor": "white"
          },
          "hoverlabel": {
           "align": "left"
          },
          "hovermode": "closest",
          "mapbox": {
           "style": "light"
          },
          "paper_bgcolor": "white",
          "plot_bgcolor": "#E5ECF6",
          "polar": {
           "angularaxis": {
            "gridcolor": "white",
            "linecolor": "white",
            "ticks": ""
           },
           "bgcolor": "#E5ECF6",
           "radialaxis": {
            "gridcolor": "white",
            "linecolor": "white",
            "ticks": ""
           }
          },
          "scene": {
           "xaxis": {
            "backgroundcolor": "#E5ECF6",
            "gridcolor": "white",
            "gridwidth": 2,
            "linecolor": "white",
            "showbackground": true,
            "ticks": "",
            "zerolinecolor": "white"
           },
           "yaxis": {
            "backgroundcolor": "#E5ECF6",
            "gridcolor": "white",
            "gridwidth": 2,
            "linecolor": "white",
            "showbackground": true,
            "ticks": "",
            "zerolinecolor": "white"
           },
           "zaxis": {
            "backgroundcolor": "#E5ECF6",
            "gridcolor": "white",
            "gridwidth": 2,
            "linecolor": "white",
            "showbackground": true,
            "ticks": "",
            "zerolinecolor": "white"
           }
          },
          "shapedefaults": {
           "line": {
            "color": "#2a3f5f"
           }
          },
          "ternary": {
           "aaxis": {
            "gridcolor": "white",
            "linecolor": "white",
            "ticks": ""
           },
           "baxis": {
            "gridcolor": "white",
            "linecolor": "white",
            "ticks": ""
           },
           "bgcolor": "#E5ECF6",
           "caxis": {
            "gridcolor": "white",
            "linecolor": "white",
            "ticks": ""
           }
          },
          "title": {
           "x": 0.05
          },
          "xaxis": {
           "automargin": true,
           "gridcolor": "white",
           "linecolor": "white",
           "ticks": "",
           "title": {
            "standoff": 15
           },
           "zerolinecolor": "white",
           "zerolinewidth": 2
          },
          "yaxis": {
           "automargin": true,
           "gridcolor": "white",
           "linecolor": "white",
           "ticks": "",
           "title": {
            "standoff": 15
           },
           "zerolinecolor": "white",
           "zerolinewidth": 2
          }
         }
        },
        "width": 650,
        "xaxis": {
         "anchor": "y",
         "autorange": true,
         "domain": [
          0,
          1
         ],
         "range": [
          -0.5,
          2.5
         ],
         "showgrid": false,
         "title": {
          "text": "<b> Role <b>"
         },
         "type": "category"
        },
        "yaxis": {
         "anchor": "x",
         "autorange": true,
         "domain": [
          0,
          1
         ],
         "range": [
          0,
          22.105263157894736
         ],
         "showgrid": true,
         "title": {
          "text": "<b> Number of newcomers who got their first Bollywood <br> lead role in a Dharma Productions movie <b>"
         },
         "type": "linear"
        }
       }
      },
      "image/png": "[encoded data removed]",
      "text/html": [
       "<div>\n",
       "        \n",
       "        \n",
       "            <div id=\"84cfa7e9-5c89-4112-b2c8-2275faf536f5\" class=\"plotly-graph-div\" style=\"height:600px; width:650px;\"></div>\n",
       "            <script type=\"text/javascript\">\n",
       "                require([\"plotly\"], function(Plotly) {\n",
       "                    window.PLOTLYENV=window.PLOTLYENV || {};\n",
       "                    \n",
       "                if (document.getElementById(\"84cfa7e9-5c89-4112-b2c8-2275faf536f5\")) {\n",
       "                    Plotly.newPlot(\n",
       "                        '84cfa7e9-5c89-4112-b2c8-2275faf536f5',\n",
       "                        [{\"alignmentgroup\": \"True\", \"hovertemplate\": \"Nepotic Status=Product of nepotism<br>Role=%{x}<br>Number=%{text}<extra></extra>\", \"legendgroup\": \"Product of nepotism\", \"marker\": {\"color\": \"#910838\"}, \"name\": \"Product of nepotism\", \"offsetgroup\": \"Product of nepotism\", \"orientation\": \"v\", \"showlegend\": true, \"text\": [4.0, 5.0, 2.0], \"textposition\": \"auto\", \"type\": \"bar\", \"x\": [\"Actor\", \"Director\", \"Producer\"], \"xaxis\": \"x\", \"y\": [4, 5, 2], \"yaxis\": \"y\"}, {\"alignmentgroup\": \"True\", \"hovertemplate\": \"Nepotic Status=Outsider<br>Role=%{x}<br>Number=%{text}<extra></extra>\", \"legendgroup\": \"Outsider\", \"marker\": {\"color\": \"#258193\"}, \"name\": \"Outsider\", \"offsetgroup\": \"Outsider\", \"orientation\": \"v\", \"showlegend\": true, \"text\": [5.0, 16.0, 1.0], \"textposition\": \"auto\", \"type\": \"bar\", \"x\": [\"Actor\", \"Director\", \"Producer\"], \"xaxis\": \"x\", \"y\": [5, 16, 1], \"yaxis\": \"y\"}],\n",
       "                        {\"autosize\": false, \"barmode\": \"relative\", \"height\": 600, \"legend\": {\"title\": {\"text\": \"\"}, \"tracegroupgap\": 0, \"x\": 0.65, \"y\": 0.8}, \"margin\": {\"t\": 10}, \"plot_bgcolor\": \"rgba(242, 241, 239, 1)\", \"template\": {\"data\": {\"bar\": [{\"error_x\": {\"color\": \"#2a3f5f\"}, \"error_y\": {\"color\": \"#2a3f5f\"}, \"marker\": {\"line\": {\"color\": \"#E5ECF6\", \"width\": 0.5}}, \"type\": \"bar\"}], \"barpolar\": [{\"marker\": {\"line\": {\"color\": \"#E5ECF6\", \"width\": 0.5}}, \"type\": \"barpolar\"}], \"carpet\": [{\"aaxis\": {\"endlinecolor\": \"#2a3f5f\", \"gridcolor\": \"white\", \"linecolor\": \"white\", \"minorgridcolor\": \"white\", \"startlinecolor\": \"#2a3f5f\"}, \"baxis\": {\"endlinecolor\": \"#2a3f5f\", \"gridcolor\": \"white\", \"linecolor\": \"white\", \"minorgridcolor\": \"white\", \"startlinecolor\": \"#2a3f5f\"}, \"type\": \"carpet\"}], \"choropleth\": [{\"colorbar\": {\"outlinewidth\": 0, \"ticks\": \"\"}, \"type\": \"choropleth\"}], \"contour\": [{\"colorbar\": {\"outlinewidth\": 0, \"ticks\": \"\"}, \"colorscale\": [[0.0, \"#0d0887\"], [0.1111111111111111, \"#46039f\"], [0.2222222222222222, \"#7201a8\"], [0.3333333333333333, \"#9c179e\"], [0.4444444444444444, \"#bd3786\"], [0.5555555555555556, \"#d8576b\"], [0.6666666666666666, \"#ed7953\"], [0.7777777777777778, \"#fb9f3a\"], [0.8888888888888888, \"#fdca26\"], [1.0, \"#f0f921\"]], \"type\": \"contour\"}], \"contourcarpet\": [{\"colorbar\": {\"outlinewidth\": 0, \"ticks\": \"\"}, \"type\": \"contourcarpet\"}], \"heatmap\": [{\"colorbar\": {\"outlinewidth\": 0, \"ticks\": \"\"}, \"colorscale\": [[0.0, \"#0d0887\"], [0.1111111111111111, \"#46039f\"], [0.2222222222222222, \"#7201a8\"], [0.3333333333333333, \"#9c179e\"], [0.4444444444444444, \"#bd3786\"], [0.5555555555555556, \"#d8576b\"], [0.6666666666666666, \"#ed7953\"], [0.7777777777777778, \"#fb9f3a\"], [0.8888888888888888, \"#fdca26\"], [1.0, \"#f0f921\"]], \"type\": \"heatmap\"}], \"heatmapgl\": [{\"colorbar\": {\"outlinewidth\": 0, \"ticks\": \"\"}, \"colorscale\": [[0.0, \"#0d0887\"], [0.1111111111111111, \"#46039f\"], [0.2222222222222222, \"#7201a8\"], [0.3333333333333333, \"#9c179e\"], [0.4444444444444444, \"#bd3786\"], [0.5555555555555556, \"#d8576b\"], [0.6666666666666666, \"#ed7953\"], [0.7777777777777778, \"#fb9f3a\"], [0.8888888888888888, \"#fdca26\"], [1.0, \"#f0f921\"]], \"type\": \"heatmapgl\"}], \"histogram\": [{\"marker\": {\"colorbar\": {\"outlinewidth\": 0, \"ticks\": \"\"}}, \"type\": \"histogram\"}], \"histogram2d\": [{\"colorbar\": {\"outlinewidth\": 0, \"ticks\": \"\"}, \"colorscale\": [[0.0, \"#0d0887\"], [0.1111111111111111, \"#46039f\"], [0.2222222222222222, \"#7201a8\"], [0.3333333333333333, \"#9c179e\"], [0.4444444444444444, \"#bd3786\"], [0.5555555555555556, \"#d8576b\"], [0.6666666666666666, \"#ed7953\"], [0.7777777777777778, \"#fb9f3a\"], [0.8888888888888888, \"#fdca26\"], [1.0, \"#f0f921\"]], \"type\": \"histogram2d\"}], \"histogram2dcontour\": [{\"colorbar\": {\"outlinewidth\": 0, \"ticks\": \"\"}, \"colorscale\": [[0.0, \"#0d0887\"], [0.1111111111111111, \"#46039f\"], [0.2222222222222222, \"#7201a8\"], [0.3333333333333333, \"#9c179e\"], [0.4444444444444444, \"#bd3786\"], [0.5555555555555556, \"#d8576b\"], [0.6666666666666666, \"#ed7953\"], [0.7777777777777778, \"#fb9f3a\"], [0.8888888888888888, \"#fdca26\"], [1.0, \"#f0f921\"]], \"type\": \"histogram2dcontour\"}], \"mesh3d\": [{\"colorbar\": {\"outlinewidth\": 0, \"ticks\": \"\"}, \"type\": \"mesh3d\"}], \"parcoords\": [{\"line\": {\"colorbar\": {\"outlinewidth\": 0, \"ticks\": \"\"}}, \"type\": \"parcoords\"}], \"pie\": [{\"automargin\": true, \"type\": \"pie\"}], \"scatter\": [{\"marker\": {\"colorbar\": {\"outlinewidth\": 0, \"ticks\": \"\"}}, \"type\": \"scatter\"}], \"scatter3d\": [{\"line\": {\"colorbar\": {\"outlinewidth\": 0, \"ticks\": \"\"}}, \"marker\": {\"colorbar\": {\"outlinewidth\": 0, \"ticks\": \"\"}}, \"type\": \"scatter3d\"}], \"scattercarpet\": [{\"marker\": {\"colorbar\": {\"outlinewidth\": 0, \"ticks\": \"\"}}, \"type\": \"scattercarpet\"}], \"scattergeo\": [{\"marker\": {\"colorbar\": {\"outlinewidth\": 0, \"ticks\": \"\"}}, \"type\": \"scattergeo\"}], \"scattergl\": [{\"marker\": {\"colorbar\": {\"outlinewidth\": 0, \"ticks\": \"\"}}, \"type\": \"scattergl\"}], \"scattermapbox\": [{\"marker\": {\"colorbar\": {\"outlinewidth\": 0, \"ticks\": \"\"}}, \"type\": \"scattermapbox\"}], \"scatterpolar\": [{\"marker\": {\"colorbar\": {\"outlinewidth\": 0, \"ticks\": \"\"}}, \"type\": \"scatterpolar\"}], \"scatterpolargl\": [{\"marker\": {\"colorbar\": {\"outlinewidth\": 0, \"ticks\": \"\"}}, \"type\": \"scatterpolargl\"}], \"scatterternary\": [{\"marker\": {\"colorbar\": {\"outlinewidth\": 0, \"ticks\": \"\"}}, \"type\": \"scatterternary\"}], \"surface\": [{\"colorbar\": {\"outlinewidth\": 0, \"ticks\": \"\"}, \"colorscale\": [[0.0, \"#0d0887\"], [0.1111111111111111, \"#46039f\"], [0.2222222222222222, \"#7201a8\"], [0.3333333333333333, \"#9c179e\"], [0.4444444444444444, \"#bd3786\"], [0.5555555555555556, \"#d8576b\"], [0.6666666666666666, \"#ed7953\"], [0.7777777777777778, \"#fb9f3a\"], [0.8888888888888888, \"#fdca26\"], [1.0, \"#f0f921\"]], \"type\": \"surface\"}], \"table\": [{\"cells\": {\"fill\": {\"color\": \"#EBF0F8\"}, \"line\": {\"color\": \"white\"}}, \"header\": {\"fill\": {\"color\": \"#C8D4E3\"}, \"line\": {\"color\": \"white\"}}, \"type\": \"table\"}]}, \"layout\": {\"annotationdefaults\": {\"arrowcolor\": \"#2a3f5f\", \"arrowhead\": 0, \"arrowwidth\": 1}, \"coloraxis\": {\"colorbar\": {\"outlinewidth\": 0, \"ticks\": \"\"}}, \"colorscale\": {\"diverging\": [[0, \"#8e0152\"], [0.1, \"#c51b7d\"], [0.2, \"#de77ae\"], [0.3, \"#f1b6da\"], [0.4, \"#fde0ef\"], [0.5, \"#f7f7f7\"], [0.6, \"#e6f5d0\"], [0.7, \"#b8e186\"], [0.8, \"#7fbc41\"], [0.9, \"#4d9221\"], [1, \"#276419\"]], \"sequential\": [[0.0, \"#0d0887\"], [0.1111111111111111, \"#46039f\"], [0.2222222222222222, \"#7201a8\"], [0.3333333333333333, \"#9c179e\"], [0.4444444444444444, \"#bd3786\"], [0.5555555555555556, \"#d8576b\"], [0.6666666666666666, \"#ed7953\"], [0.7777777777777778, \"#fb9f3a\"], [0.8888888888888888, \"#fdca26\"], [1.0, \"#f0f921\"]], \"sequentialminus\": [[0.0, \"#0d0887\"], [0.1111111111111111, \"#46039f\"], [0.2222222222222222, \"#7201a8\"], [0.3333333333333333, \"#9c179e\"], [0.4444444444444444, \"#bd3786\"], [0.5555555555555556, \"#d8576b\"], [0.6666666666666666, \"#ed7953\"], [0.7777777777777778, \"#fb9f3a\"], [0.8888888888888888, \"#fdca26\"], [1.0, \"#f0f921\"]]}, \"colorway\": [\"#636efa\", \"#EF553B\", \"#00cc96\", \"#ab63fa\", \"#FFA15A\", \"#19d3f3\", \"#FF6692\", \"#B6E880\", \"#FF97FF\", \"#FECB52\"], \"font\": {\"color\": \"#2a3f5f\"}, \"geo\": {\"bgcolor\": \"white\", \"lakecolor\": \"white\", \"landcolor\": \"#E5ECF6\", \"showlakes\": true, \"showland\": true, \"subunitcolor\": \"white\"}, \"hoverlabel\": {\"align\": \"left\"}, \"hovermode\": \"closest\", \"mapbox\": {\"style\": \"light\"}, \"paper_bgcolor\": \"white\", \"plot_bgcolor\": \"#E5ECF6\", \"polar\": {\"angularaxis\": {\"gridcolor\": \"white\", \"linecolor\": \"white\", \"ticks\": \"\"}, \"bgcolor\": \"#E5ECF6\", \"radialaxis\": {\"gridcolor\": \"white\", \"linecolor\": \"white\", \"ticks\": \"\"}}, \"scene\": {\"xaxis\": {\"backgroundcolor\": \"#E5ECF6\", \"gridcolor\": \"white\", \"gridwidth\": 2, \"linecolor\": \"white\", \"showbackground\": true, \"ticks\": \"\", \"zerolinecolor\": \"white\"}, \"yaxis\": {\"backgroundcolor\": \"#E5ECF6\", \"gridcolor\": \"white\", \"gridwidth\": 2, \"linecolor\": \"white\", \"showbackground\": true, \"ticks\": \"\", \"zerolinecolor\": \"white\"}, \"zaxis\": {\"backgroundcolor\": \"#E5ECF6\", \"gridcolor\": \"white\", \"gridwidth\": 2, \"linecolor\": \"white\", \"showbackground\": true, \"ticks\": \"\", \"zerolinecolor\": \"white\"}}, \"shapedefaults\": {\"line\": {\"color\": \"#2a3f5f\"}}, \"ternary\": {\"aaxis\": {\"gridcolor\": \"white\", \"linecolor\": \"white\", \"ticks\": \"\"}, \"baxis\": {\"gridcolor\": \"white\", \"linecolor\": \"white\", \"ticks\": \"\"}, \"bgcolor\": \"#E5ECF6\", \"caxis\": {\"gridcolor\": \"white\", \"linecolor\": \"white\", \"ticks\": \"\"}}, \"title\": {\"x\": 0.05}, \"xaxis\": {\"automargin\": true, \"gridcolor\": \"white\", \"linecolor\": \"white\", \"ticks\": \"\", \"title\": {\"standoff\": 15}, \"zerolinecolor\": \"white\", \"zerolinewidth\": 2}, \"yaxis\": {\"automargin\": true, \"gridcolor\": \"white\", \"linecolor\": \"white\", \"ticks\": \"\", \"title\": {\"standoff\": 15}, \"zerolinecolor\": \"white\", \"zerolinewidth\": 2}}}, \"width\": 650, \"xaxis\": {\"anchor\": \"y\", \"domain\": [0.0, 1.0], \"showgrid\": false, \"title\": {\"text\": \"<b> Role <b>\"}}, \"yaxis\": {\"anchor\": \"x\", \"domain\": [0.0, 1.0], \"showgrid\": true, \"title\": {\"text\": \"<b> Number of newcomers who got their first Bollywood <br> lead role in a Dharma Productions movie <b>\"}}},\n",
       "                        {\"responsive\": true}\n",
       "                    ).then(function(){\n",
       "                            \n",
       "var gd = document.getElementById('84cfa7e9-5c89-4112-b2c8-2275faf536f5');\n",
       "var x = new MutationObserver(function (mutations, observer) {{\n",
       "        var display = window.getComputedStyle(gd).display;\n",
       "        if (!display || display === 'none') {{\n",
       "            console.log([gd, 'removed!']);\n",
       "            Plotly.purge(gd);\n",
       "            observer.disconnect();\n",
       "        }}\n",
       "}});\n",
       "\n",
       "// Listen for the removal of the full notebook cells\n",
       "var notebookContainer = gd.closest('#notebook-container');\n",
       "if (notebookContainer) {{\n",
       "    x.observe(notebookContainer, {childList: true});\n",
       "}}\n",
       "\n",
       "// Listen for the clearing of the current output cell\n",
       "var outputEl = gd.closest('.output');\n",
       "if (outputEl) {{\n",
       "    x.observe(outputEl, {childList: true});\n",
       "}}\n",
       "\n",
       "                        })\n",
       "                };\n",
       "                });\n",
       "            </script>\n",
       "        </div>"
      ]
     },
     "metadata": {},
     "output_type": "display_data"
    }
   ],
   "source": [
    "# Visualize\n",
    "fig = px.bar(df_crew_launched_structured, \n",
    "             x=\"Role\", \n",
    "             y=\"Number\", \n",
    "             color=\"Nepotic Status\",\n",
    "             text='Number',\n",
    "             color_discrete_sequence = [color_plum, color_teal],\n",
    "            )\n",
    "\n",
    "fig.update_layout(\n",
    "    autosize=False,\n",
    "    width=650,\n",
    "    height=600,\n",
    "    xaxis = dict(title=\"<b> Role <b>\", showgrid = False),\n",
    "    yaxis = dict(title=\"<b> Number of newcomers who got their first Bollywood <br> lead role in a Dharma Productions movie <b>\",\n",
    "                showgrid = True),\n",
    "    plot_bgcolor= 'rgba(242, 241, 239, 1)',\n",
    "    margin=go.layout.Margin(\n",
    "        t=10, #top margin\n",
    "    ),\n",
    "    legend=dict(\n",
    "        title_text='',\n",
    "        x=0.65,\n",
    "        y=0.8)\n",
    ")\n",
    "\n",
    "fig.show()\n",
    "\n",
    "fig.write_image(\"kj_new_comers.png\", engine=\"kaleido\", scale = 2)"
   ]
  },
  {
   "cell_type": "code",
   "execution_count": 285,
   "metadata": {},
   "outputs": [],
   "source": [
    "#Save\n",
    "save_file = 'launched_crew_list.xlsx'\n",
    "writer = ExcelWriter(save_file)\n",
    "\n",
    "role = 'Actors'\n",
    "df_crew_launched[df_crew_launched['Role']==role].to_excel(writer, sheet_name = role, index=False)\n",
    "role = 'Directors'\n",
    "df_crew_launched[df_crew_launched['Role']==role].to_excel(writer, sheet_name = role, index=False)\n",
    "role = 'Producers'\n",
    "df_crew_launched[df_crew_launched['Role']==role].to_excel(writer, sheet_name = role, index=False)\n",
    "\n",
    "writer.save()"
   ]
  },
  {
   "cell_type": "code",
   "execution_count": null,
   "metadata": {},
   "outputs": [],
   "source": []
  }
 ],
 "metadata": {
  "kernelspec": {
   "display_name": "Python 3",
   "language": "python",
   "name": "python3"
  },
  "language_info": {
   "codemirror_mode": {
    "name": "ipython",
    "version": 3
   },
   "file_extension": ".py",
   "mimetype": "text/x-python",
   "name": "python",
   "nbconvert_exporter": "python",
   "pygments_lexer": "ipython3",
   "version": "3.7.2"
  }
 },
 "nbformat": 4,
 "nbformat_minor": 2
}
